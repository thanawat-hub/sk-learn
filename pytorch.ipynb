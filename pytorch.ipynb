{
 "cells": [
  {
   "metadata": {
    "ExecuteTime": {
     "end_time": "2024-05-23T02:52:33.511966Z",
     "start_time": "2024-05-23T02:52:33.496248Z"
    }
   },
   "cell_type": "code",
   "source": [
    "import ast\n",
    "\n",
    "# Input string\n",
    "input_string = \"[{'HumanMessage': {'content': 'hi'}, 'AIMessage': {'content': 'Echo: ไม่เป็นไรค่ะ มีอะไรให้ช่วยไหมค่ะ?'}}]\"\n",
    "\n",
    "# Convert the string to a list\n",
    "output_list = ast.literal_eval(input_string)\n",
    "\n",
    "print(output_list)\n",
    "print(type(output_list))\n"
   ],
   "id": "f1f9d24b632df201",
   "execution_count": 1,
   "outputs": []
  },
  {
   "metadata": {
    "ExecuteTime": {
     "end_time": "2024-05-23T07:19:13.348439Z",
     "start_time": "2024-05-23T07:19:13.339838Z"
    }
   },
   "cell_type": "code",
   "source": [
    "import json\n",
    "\n",
    "# Step 1: Parse the JSON string to a Python list of dictionaries\n",
    "try:\n",
    "    latestMemory = json.loads(latestMemory_string)\n",
    "except json.JSONDecodeError as e:\n",
    "    print(f\"Error decoding JSON: {e}\")\n",
    "    latestMemory = []\n",
    "\n",
    "# Step 2: Extract and print the content as \"Human: text\" and \"AI: text\"\n",
    "for message in latestMemory:\n",
    "    try:\n",
    "        human_content = message[\"HumanMessage\"][\"content\"]\n",
    "        ai_content = message[\"AIMessage\"][\"content\"]\n",
    "        print(f\"Human: {human_content}\")\n",
    "        print(f\"AI: {ai_content}\")\n",
    "    except KeyError as e:\n",
    "        print(f\"Missing expected key: {e}\")\n",
    "    except TypeError as e:\n",
    "        print(f\"Unexpected data format: {e}\")\n"
   ],
   "id": "4a1d42998ba9e0",
   "execution_count": 4,
   "outputs": []
  },
  {
   "cell_type": "code",
   "id": "initial_id",
   "metadata": {
    "collapsed": true,
    "ExecuteTime": {
     "end_time": "2024-05-22T10:20:58.877887Z",
     "start_time": "2024-05-22T10:20:58.871884Z"
    }
   },
   "source": "import torch",
   "execution_count": 5,
   "outputs": []
  },
  {
   "metadata": {
    "ExecuteTime": {
     "end_time": "2024-05-22T10:20:59.715013Z",
     "start_time": "2024-05-22T10:20:59.704486Z"
    }
   },
   "cell_type": "code",
   "source": "torch.__version__",
   "id": "be97bb0e5081b02",
   "execution_count": 6,
   "outputs": []
  },
  {
   "metadata": {
    "ExecuteTime": {
     "end_time": "2024-05-22T10:21:01.183810Z",
     "start_time": "2024-05-22T10:20:59.931009Z"
    }
   },
   "cell_type": "code",
   "source": "device = 'cuda' if torch.cuda.is_available() else 'cpu'",
   "id": "2ec6e4669082ba4",
   "execution_count": 7,
   "outputs": []
  },
  {
   "metadata": {
    "ExecuteTime": {
     "end_time": "2024-05-22T10:21:01.404622Z",
     "start_time": "2024-05-22T10:21:01.188796Z"
    }
   },
   "cell_type": "code",
   "source": "x = torch.rand(5, 3).to(device)",
   "id": "6d4d2ca8914c9e4b",
   "execution_count": 8,
   "outputs": []
  },
  {
   "metadata": {
    "ExecuteTime": {
     "end_time": "2024-05-22T10:21:02.300616Z",
     "start_time": "2024-05-22T10:21:01.407617Z"
    }
   },
   "cell_type": "code",
   "source": "x",
   "id": "eead2703e2d31727",
   "execution_count": 9,
   "outputs": []
  },
  {
   "metadata": {},
   "cell_type": "markdown",
   "source": "# K-Means",
   "id": "df87b33d96829eea"
  },
  {
   "metadata": {
    "ExecuteTime": {
     "end_time": "2024-05-22T10:21:32.287786Z",
     "start_time": "2024-05-22T10:21:31.184349Z"
    }
   },
   "cell_type": "code",
   "source": "import matplotlib.pyplot as plt",
   "id": "3da87f52095385c1",
   "execution_count": 10,
   "outputs": []
  },
  {
   "metadata": {
    "ExecuteTime": {
     "end_time": "2024-05-22T10:21:32.307515Z",
     "start_time": "2024-05-22T10:21:32.289781Z"
    }
   },
   "cell_type": "code",
   "source": [
    "N = 100\n",
    "x1 = torch.randn(N, 2)\n",
    "x2 = torch.randn(N, 2) + torch.Tensor([3, 3])\n",
    "x3 = torch.randn(N, 2) + torch.Tensor([-3, 3])"
   ],
   "id": "7725c65406bb2966",
   "execution_count": 11,
   "outputs": []
  },
  {
   "metadata": {
    "ExecuteTime": {
     "end_time": "2024-05-22T10:21:32.323002Z",
     "start_time": "2024-05-22T10:21:32.310527Z"
    }
   },
   "cell_type": "code",
   "source": [
    "X = torch.cat([x1, x2, x3], dim=0)\n",
    "print(X.shape)"
   ],
   "id": "722661e33f6607e3",
   "execution_count": 12,
   "outputs": []
  },
  {
   "metadata": {
    "ExecuteTime": {
     "end_time": "2024-05-22T10:21:33.898003Z",
     "start_time": "2024-05-22T10:21:33.316882Z"
    }
   },
   "cell_type": "code",
   "source": [
    "for i in range(3):\n",
    "    plt.scatter(X[i*N:(i+1)*N, 0], X[i*N:(i+1)*N, 1])\n",
    "plt.show()"
   ],
   "id": "417618b8a69ad095",
   "execution_count": 13,
   "outputs": []
  },
  {
   "metadata": {
    "ExecuteTime": {
     "end_time": "2024-05-18T03:41:36.062263Z",
     "start_time": "2024-05-18T03:41:34.883192Z"
    }
   },
   "cell_type": "code",
   "source": [
    "K = 3\n",
    "centroids = X[torch.randperm(len(X))[:K]]\n",
    "while True:\n",
    "    D = torch.cdist(X, centroids)\n",
    "    clusters = torch.argmin(D, dim=1)\n",
    "    for i in range(3):\n",
    "        plt.scatter(X[i*N:(i+1)*N, 0], X[i*N:(i+1)*N, 1])\n",
    "    old_centroids = centroids.clone()\n",
    "    for k in range(K):\n",
    "        plt.scatter(centroids[k, 0], centroids[k, 1], marker='x')\n",
    "        centroids[k] = X[clusters == k].mean(dim=0)\n",
    "    change = torch.sum((centroids - old_centroids) ** 2)\n",
    "    if change < 0.1:\n",
    "        break\n",
    "    plt.show()"
   ],
   "id": "82126519ae745d21",
   "execution_count": 40,
   "outputs": []
  },
  {
   "metadata": {
    "ExecuteTime": {
     "end_time": "2024-05-22T10:21:58.515854Z",
     "start_time": "2024-05-22T10:21:52.491927Z"
    }
   },
   "cell_type": "code",
   "source": [
    "import time\n",
    "device = 'cuda'\n",
    "\n",
    "N = 100000\n",
    "x1 = torch.randn(N, 2)\n",
    "x2 = torch.randn(N, 2) + torch.Tensor([3, 3])\n",
    "x3 = torch.randn(N, 2) + torch.Tensor([-3, 3])\n",
    "X = torch.cat([x1, x2, x3], dim=0).to(device)\n",
    "\n",
    "t1 = time.time()\n",
    "K = 3\n",
    "centroids = X[torch.randperm(len(X))[:K]]\n",
    "for _ in range(100):\n",
    "    D = torch.cdist(X, centroids)\n",
    "    clusters = torch.argmin(D, dim=1)\n",
    "    for k in range(K):\n",
    "        centroids[k] = X[clusters == k].mean(dim=0)\n",
    "print(time.time() - t1)"
   ],
   "id": "53ceb59e45191567",
   "execution_count": 15,
   "outputs": []
  },
  {
   "metadata": {},
   "cell_type": "markdown",
   "source": "# Auto differentiation",
   "id": "665e1d1a31fcd578"
  },
  {
   "metadata": {
    "ExecuteTime": {
     "end_time": "2024-05-18T04:01:30.179004Z",
     "start_time": "2024-05-18T04:01:30.157015Z"
    }
   },
   "cell_type": "code",
   "source": [
    "x = torch.tensor(3., requires_grad=True)\n",
    "y = x**2 + 2*x + 1 \n",
    "# y' = 2x + 2\n",
    "y.backward()"
   ],
   "id": "1e5c7e5a52542ce6",
   "execution_count": 62,
   "outputs": []
  },
  {
   "metadata": {
    "ExecuteTime": {
     "end_time": "2024-05-18T04:01:46.381056Z",
     "start_time": "2024-05-18T04:01:46.361172Z"
    }
   },
   "cell_type": "code",
   "source": "x.grad # 2(3) + 2",
   "id": "3166146d2351ce23",
   "execution_count": 65,
   "outputs": []
  },
  {
   "metadata": {},
   "cell_type": "markdown",
   "source": "# Regression",
   "id": "ea5ad1d8094dff47"
  },
  {
   "metadata": {
    "ExecuteTime": {
     "end_time": "2024-05-18T04:06:12.430627Z",
     "start_time": "2024-05-18T04:06:12.279530Z"
    }
   },
   "cell_type": "code",
   "source": [
    "N = 100\n",
    "x = torch.rand(N, 1)\n",
    "y = torch.sin(3 * x + 1) + 0.5 * torch.rand(N, 1)\n",
    "plt.scatter(x, y)"
   ],
   "id": "8edd69794556a53c",
   "execution_count": 66,
   "outputs": []
  },
  {
   "metadata": {
    "ExecuteTime": {
     "end_time": "2024-05-18T04:11:39.365043Z",
     "start_time": "2024-05-18T04:11:39.352645Z"
    }
   },
   "cell_type": "code",
   "source": [
    "ones = torch.ones(N, 1)\n",
    "X = torch.cat([x, ones], dim=1)"
   ],
   "id": "227b2991ea8bd9bd",
   "execution_count": 68,
   "outputs": []
  },
  {
   "metadata": {
    "ExecuteTime": {
     "end_time": "2024-05-18T04:13:12.867982Z",
     "start_time": "2024-05-18T04:13:12.858221Z"
    }
   },
   "cell_type": "code",
   "source": "R = torch.inverse(X.T @ X) @ X.T @ y",
   "id": "6cf9337b3c2f2fb1",
   "execution_count": 74,
   "outputs": []
  },
  {
   "metadata": {
    "ExecuteTime": {
     "end_time": "2024-05-18T04:13:57.610104Z",
     "start_time": "2024-05-18T04:13:57.604105Z"
    }
   },
   "cell_type": "code",
   "source": "x_ = torch.linspace(0, 1, 100).reshape(-1, 1)",
   "id": "e13305e1e77863a8",
   "execution_count": 76,
   "outputs": []
  },
  {
   "metadata": {
    "ExecuteTime": {
     "end_time": "2024-05-18T04:15:03.330935Z",
     "start_time": "2024-05-18T04:15:03.314421Z"
    }
   },
   "cell_type": "code",
   "source": "y_ = x_ * R[0] + R[1]",
   "id": "a8c85031aa752678",
   "execution_count": 82,
   "outputs": []
  },
  {
   "metadata": {
    "ExecuteTime": {
     "end_time": "2024-05-18T04:15:41.594463Z",
     "start_time": "2024-05-18T04:15:41.465377Z"
    }
   },
   "cell_type": "code",
   "source": [
    "plt.scatter(x, y)\n",
    "plt.scatter(x_, y_, color='r')\n",
    "plt.show()"
   ],
   "id": "2a7804e1e0a6ad01",
   "execution_count": 83,
   "outputs": []
  },
  {
   "metadata": {},
   "cell_type": "markdown",
   "source": "nonlinear",
   "id": "d315078521de2f9b"
  },
  {
   "metadata": {
    "ExecuteTime": {
     "end_time": "2024-05-18T04:17:30.783470Z",
     "start_time": "2024-05-18T04:17:30.777308Z"
    }
   },
   "cell_type": "code",
   "source": [
    "ones = torch.ones(N, 1)\n",
    "X = torch.cat([x**2, x, ones], dim=1)"
   ],
   "id": "77f555713a9f006",
   "execution_count": 84,
   "outputs": []
  },
  {
   "metadata": {
    "ExecuteTime": {
     "end_time": "2024-05-18T04:17:50.331152Z",
     "start_time": "2024-05-18T04:17:50.324571Z"
    }
   },
   "cell_type": "code",
   "source": "R = torch.inverse(X.T @ X) @ X.T @ y",
   "id": "e9b38034a6884f73",
   "execution_count": 86,
   "outputs": []
  },
  {
   "metadata": {
    "ExecuteTime": {
     "end_time": "2024-05-18T04:18:45.053175Z",
     "start_time": "2024-05-18T04:18:45.038933Z"
    }
   },
   "cell_type": "code",
   "source": "y_ = x_**2 * R[0] + x_ * R[1] + R[2]",
   "id": "4a3103cd28cab953",
   "execution_count": 88,
   "outputs": []
  },
  {
   "metadata": {
    "ExecuteTime": {
     "end_time": "2024-05-18T04:18:51.743594Z",
     "start_time": "2024-05-18T04:18:51.593916Z"
    }
   },
   "cell_type": "code",
   "source": [
    "plt.scatter(x, y)\n",
    "plt.scatter(x_, y_, color='r')\n",
    "plt.show()"
   ],
   "id": "715bd90e2b22fba5",
   "execution_count": 89,
   "outputs": []
  },
  {
   "metadata": {
    "ExecuteTime": {
     "end_time": "2024-05-18T04:31:57.006587Z",
     "start_time": "2024-05-18T04:31:54.194587Z"
    }
   },
   "cell_type": "code",
   "source": [
    "device = 'cpu'\n",
    "\n",
    "N = 100000000\n",
    "x = torch.rand(N, 1).to(device)\n",
    "y = torch.sin(3 * x + 1) + 0.5 * torch.rand(N, 1).to(device)\n",
    "\n",
    "t1 = time.time()\n",
    "degree = 1\n",
    "ones = torch.ones(N, 1).to(device)\n",
    "X = torch.cat([x, ones], dim=1)\n",
    "for i in range(2, degree + 1):\n",
    "    X = torch.cat([x**i, X], dim=1)\n",
    "R = torch.inverse(X.T @ X) @ X.T @ y\n",
    "print(time.time() - t1)"
   ],
   "id": "efc9e188c66e967",
   "execution_count": 134,
   "outputs": []
  },
  {
   "metadata": {},
   "cell_type": "markdown",
   "source": "# MLP",
   "id": "2203c236fc396e6b"
  },
  {
   "metadata": {
    "ExecuteTime": {
     "end_time": "2024-05-18T06:02:08.111550Z",
     "start_time": "2024-05-18T06:02:08.102037Z"
    }
   },
   "cell_type": "code",
   "source": "from torch import nn",
   "id": "f7e25fcc705cad8",
   "execution_count": 135,
   "outputs": []
  },
  {
   "metadata": {
    "ExecuteTime": {
     "end_time": "2024-05-18T06:10:46.017552Z",
     "start_time": "2024-05-18T06:10:46.003578Z"
    }
   },
   "cell_type": "code",
   "source": [
    "# [1] 32 16 [1]\n",
    "class Regressor(nn.Module):\n",
    "    def __init__(self):\n",
    "        super().__init__()\n",
    "        self.fc1 = nn.Linear(1, 32)\n",
    "        self.fc2 = nn.Linear(32, 16)\n",
    "        self.fc3 = nn.Linear(16, 1)\n",
    "    def forward(self, x):\n",
    "        x = torch.sigmoid(self.fc1(x))\n",
    "        x = torch.sigmoid(self.fc2(x))\n",
    "        return self.fc3(x)"
   ],
   "id": "a69b8497563b6694",
   "execution_count": 136,
   "outputs": []
  },
  {
   "metadata": {
    "ExecuteTime": {
     "end_time": "2024-05-18T06:14:07.567398Z",
     "start_time": "2024-05-18T06:14:07.556187Z"
    }
   },
   "cell_type": "code",
   "source": "(1*32+32) + (32*16+16) + (16*1+1)",
   "id": "bebebcfd80cc28fb",
   "execution_count": 140,
   "outputs": []
  },
  {
   "metadata": {
    "ExecuteTime": {
     "end_time": "2024-05-18T06:14:20.468478Z",
     "start_time": "2024-05-18T06:14:20.448450Z"
    }
   },
   "cell_type": "code",
   "source": "model = Regressor()",
   "id": "2476059a2d85c276",
   "execution_count": 141,
   "outputs": []
  },
  {
   "metadata": {
    "ExecuteTime": {
     "end_time": "2024-05-18T06:15:23.443822Z",
     "start_time": "2024-05-18T06:15:23.436664Z"
    }
   },
   "cell_type": "code",
   "source": "gen = iter(model.parameters())",
   "id": "6d596bb872ef5e3",
   "execution_count": 146,
   "outputs": []
  },
  {
   "metadata": {
    "ExecuteTime": {
     "end_time": "2024-05-18T06:16:02.718003Z",
     "start_time": "2024-05-18T06:16:02.707772Z"
    }
   },
   "cell_type": "code",
   "source": "next(gen).shape",
   "id": "b8610e63c4074c91",
   "execution_count": 152,
   "outputs": []
  },
  {
   "metadata": {
    "ExecuteTime": {
     "end_time": "2024-05-18T06:28:52.750879Z",
     "start_time": "2024-05-18T06:28:52.614791Z"
    }
   },
   "cell_type": "code",
   "source": [
    "N = 1000\n",
    "x = torch.rand(N, 1).to(device)\n",
    "y = torch.sin(3 * x + 1) + 0.5 * torch.rand(N, 1).to(device)"
   ],
   "id": "62fed73ddee762e3",
   "execution_count": 155,
   "outputs": []
  },
  {
   "metadata": {
    "ExecuteTime": {
     "end_time": "2024-05-18T06:39:24.963513Z",
     "start_time": "2024-05-18T06:39:12.967417Z"
    }
   },
   "cell_type": "code",
   "source": [
    "device = 'cuda' \n",
    "\n",
    "model = model.to(device)\n",
    "\n",
    "criterion = nn.MSELoss()\n",
    "optimizer = torch.optim.SGD(model.parameters(), lr=0.1)\n",
    "\n",
    "model.train()\n",
    "for epoch in range(5000):\n",
    "    y_ = model(x.to(device))\n",
    "    loss = criterion(y_, y.to(device))\n",
    "    \n",
    "    optimizer.zero_grad()\n",
    "    loss.backward()\n",
    "    optimizer.step()\n",
    "    if epoch % 100 == 0:\n",
    "        print(f'{epoch}: {loss.item()}')"
   ],
   "id": "71fc4ce868c29a26",
   "execution_count": 174,
   "outputs": []
  },
  {
   "metadata": {
    "ExecuteTime": {
     "end_time": "2024-05-18T06:40:42.269091Z",
     "start_time": "2024-05-18T06:40:42.115146Z"
    }
   },
   "cell_type": "code",
   "source": [
    "x_ = torch.linspace(0, 1, 100).reshape(-1, 1)\n",
    "model.eval()\n",
    "with torch.no_grad():\n",
    "    y_ = model(x_.to(device))\n",
    "plt.scatter(x, y)\n",
    "plt.scatter(x_, y_.cpu(), color='r')\n",
    "plt.show()"
   ],
   "id": "159cfd4a048dd87",
   "execution_count": 177,
   "outputs": []
  },
  {
   "metadata": {},
   "cell_type": "markdown",
   "source": "# Classification",
   "id": "eff0182fc54b2c37"
  },
  {
   "metadata": {
    "ExecuteTime": {
     "end_time": "2024-05-18T06:42:52.051321Z",
     "start_time": "2024-05-18T06:42:52.034277Z"
    }
   },
   "cell_type": "code",
   "source": "N",
   "id": "6b926bf4bdb01744",
   "execution_count": 182,
   "outputs": []
  },
  {
   "metadata": {
    "ExecuteTime": {
     "end_time": "2024-05-18T06:42:18.590726Z",
     "start_time": "2024-05-18T06:42:18.573786Z"
    }
   },
   "cell_type": "code",
   "source": "X.shape",
   "id": "1015b382e0345b4e",
   "execution_count": 181,
   "outputs": []
  },
  {
   "metadata": {
    "ExecuteTime": {
     "end_time": "2024-05-18T06:43:06.436975Z",
     "start_time": "2024-05-18T06:43:06.423940Z"
    }
   },
   "cell_type": "code",
   "source": "Y = torch.cat([torch.zeros(N), torch.ones(N), torch.ones(N) * 2]).long()",
   "id": "5bfb56eccde99e16",
   "execution_count": 183,
   "outputs": []
  },
  {
   "metadata": {
    "ExecuteTime": {
     "end_time": "2024-05-18T06:43:08.043258Z",
     "start_time": "2024-05-18T06:43:08.032764Z"
    }
   },
   "cell_type": "code",
   "source": "Y",
   "id": "3e2ddbae6acc1904",
   "execution_count": 184,
   "outputs": []
  },
  {
   "metadata": {
    "ExecuteTime": {
     "end_time": "2024-05-18T06:45:06.063783Z",
     "start_time": "2024-05-18T06:45:06.053272Z"
    }
   },
   "cell_type": "code",
   "source": "X.shape[1]",
   "id": "fc110dece76492f6",
   "execution_count": 185,
   "outputs": []
  },
  {
   "metadata": {
    "ExecuteTime": {
     "end_time": "2024-05-18T06:45:27.248695Z",
     "start_time": "2024-05-18T06:45:27.241177Z"
    }
   },
   "cell_type": "code",
   "source": "len(Y.unique())",
   "id": "48d64afbd1217c79",
   "execution_count": 187,
   "outputs": []
  },
  {
   "metadata": {
    "ExecuteTime": {
     "end_time": "2024-05-18T06:52:22.870589Z",
     "start_time": "2024-05-18T06:52:22.857533Z"
    }
   },
   "cell_type": "code",
   "source": [
    "# [2] 32 16 [3]\n",
    "class Classifier(nn.Module):\n",
    "    def __init__(self):\n",
    "        super().__init__()\n",
    "        self.fc1 = nn.Linear(2, 32)\n",
    "        self.fc2 = nn.Linear(32, 16)\n",
    "        self.fc3 = nn.Linear(16, 3)\n",
    "    def forward(self, x):\n",
    "        x = torch.sigmoid(self.fc1(x))\n",
    "        x = torch.sigmoid(self.fc2(x))\n",
    "        return torch.sigmoid(self.fc3(x))"
   ],
   "id": "943124dcb7812b70",
   "execution_count": 188,
   "outputs": []
  },
  {
   "metadata": {
    "ExecuteTime": {
     "end_time": "2024-05-18T06:54:07.313677Z",
     "start_time": "2024-05-18T06:54:07.299214Z"
    }
   },
   "cell_type": "code",
   "source": "model = Classifier()",
   "id": "b8923d99a94fba40",
   "execution_count": 190,
   "outputs": []
  },
  {
   "metadata": {
    "ExecuteTime": {
     "end_time": "2024-05-18T06:54:39.435921Z",
     "start_time": "2024-05-18T06:54:27.233812Z"
    }
   },
   "cell_type": "code",
   "source": [
    "device = 'cuda' if torch.cuda.is_available() else 'cpu'\n",
    "\n",
    "model = model.to(device)\n",
    "\n",
    "criterion = nn.CrossEntropyLoss()\n",
    "optimizer = torch.optim.SGD(model.parameters(), lr=0.1)\n",
    "\n",
    "model.train()\n",
    "for epoch in range(5000):\n",
    "    y_ = model(X.to(device))\n",
    "    loss = criterion(y_, Y.to(device))\n",
    "    \n",
    "    optimizer.zero_grad()\n",
    "    loss.backward()\n",
    "    optimizer.step()\n",
    "    if epoch % 100 == 0:\n",
    "        print(f'{epoch}: {loss.item()}')"
   ],
   "id": "3e11357108aefcaa",
   "execution_count": 192,
   "outputs": []
  },
  {
   "metadata": {
    "ExecuteTime": {
     "end_time": "2024-05-18T06:56:44.077754Z",
     "start_time": "2024-05-18T06:56:44.057216Z"
    }
   },
   "cell_type": "code",
   "source": [
    "model.eval()\n",
    "with torch.no_grad():\n",
    "    y_ = model(X.to(device))\n",
    "acc = torch.sum(Y == y_.argmax(dim=1).cpu()) / len(Y)\n",
    "print(acc.item())"
   ],
   "id": "be3bc0471fa412bf",
   "execution_count": 195,
   "outputs": []
  },
  {
   "metadata": {
    "ExecuteTime": {
     "end_time": "2024-05-24T13:44:42.129296Z",
     "start_time": "2024-05-24T13:44:35.861089Z"
    }
   },
   "cell_type": "code",
   "source": [
    "from sklearn.datasets import load_iris\n",
    "import numpy as np\n",
    "df = load_iris(as_frame=True)"
   ],
   "id": "22e03210e086c272",
   "execution_count": 2,
   "outputs": []
  },
  {
   "metadata": {
    "ExecuteTime": {
     "end_time": "2024-05-24T13:44:42.142204Z",
     "start_time": "2024-05-24T13:44:42.130203Z"
    }
   },
   "cell_type": "code",
   "source": [
    "itrain = np.r_[0:25, 50:75, 100:125]\n",
    "itest = np.r_[25:50, 75:100, 125:150]\n",
    "xtrain = df['data'].iloc[itrain].values\n",
    "xtest = df['data'].iloc[itest].values\n",
    "ytrain = df['target'].iloc[itrain].values\n",
    "ytest = df['target'].iloc[itest].values"
   ],
   "id": "5daa8f02316fd4db",
   "execution_count": 3,
   "outputs": []
  },
  {
   "metadata": {
    "ExecuteTime": {
     "end_time": "2024-05-24T13:44:42.156209Z",
     "start_time": "2024-05-24T13:44:42.144203Z"
    }
   },
   "cell_type": "code",
   "source": "xtrain.shape",
   "id": "29636fd574cb64a1",
   "execution_count": 4,
   "outputs": []
  },
  {
   "metadata": {
    "ExecuteTime": {
     "end_time": "2024-05-24T02:37:14.219990Z",
     "start_time": "2024-05-24T02:37:14.211933Z"
    }
   },
   "cell_type": "code",
   "source": "len(np.unique(ytrain))",
   "id": "fccbd2c04fb315cd",
   "execution_count": 4,
   "outputs": []
  },
  {
   "metadata": {
    "ExecuteTime": {
     "end_time": "2024-05-25T02:21:47.141201Z",
     "start_time": "2024-05-25T02:21:36.568920Z"
    }
   },
   "cell_type": "code",
   "source": [
    "from torch import nn\n",
    "import torch\n",
    "m = nn.LogSigmoid()\n",
    "input = torch.randn(2)\n",
    "input"
   ],
   "id": "652548c19e2b4e26",
   "execution_count": 1,
   "outputs": []
  },
  {
   "metadata": {
    "ExecuteTime": {
     "end_time": "2024-05-24T02:43:35.415703Z",
     "start_time": "2024-05-24T02:43:35.408205Z"
    }
   },
   "cell_type": "code",
   "source": [
    "\n",
    "output = m(input)\n",
    "output"
   ],
   "id": "863e80c2d880173c",
   "execution_count": 9,
   "outputs": []
  },
  {
   "metadata": {
    "ExecuteTime": {
     "end_time": "2024-05-24T03:29:40.639471Z",
     "start_time": "2024-05-24T03:29:40.633825Z"
    }
   },
   "cell_type": "code",
   "source": [
    "t = torch.rand(4, 4)\n",
    "b = t.view(2, 8)\n",
    "t.storage().data_ptr() == b.storage().data_ptr()  # `t` and `b` share the same underlying data.\n"
   ],
   "id": "3d1fad7e47833160",
   "execution_count": 60,
   "outputs": []
  },
  {
   "metadata": {
    "ExecuteTime": {
     "end_time": "2024-05-24T03:30:19.902044Z",
     "start_time": "2024-05-24T03:30:19.896043Z"
    }
   },
   "cell_type": "code",
   "source": [
    "b[0][0] = 3.14\n",
    "t[0][0] # เปลี่ยนตาม"
   ],
   "id": "f7d15f500c042127",
   "execution_count": 64,
   "outputs": []
  },
  {
   "metadata": {
    "ExecuteTime": {
     "end_time": "2024-05-24T13:44:42.170206Z",
     "start_time": "2024-05-24T13:44:42.159211Z"
    }
   },
   "cell_type": "code",
   "source": [
    "# [4] 128 [3]\n",
    "class Classifier(nn.Module):\n",
    "    def __init__(self):\n",
    "        super().__init__()\n",
    "        self.fc1 = nn.Linear(4, 128)\n",
    "        self.fc2 = nn.Linear(128, 64)\n",
    "        self.fc3 = nn.Linear(64, 3)\n",
    "    def forward(self, x):\n",
    "        x = torch.relu(self.fc1(x))\n",
    "        x = nn.functional.leaky_relu(self.fc2(x))\n",
    "        return torch.softmax(self.fc3(x), dim=1)"
   ],
   "id": "a5adbcaeb19cb667",
   "execution_count": 5,
   "outputs": []
  },
  {
   "metadata": {
    "ExecuteTime": {
     "end_time": "2024-05-24T13:44:42.189206Z",
     "start_time": "2024-05-24T13:44:42.173205Z"
    }
   },
   "cell_type": "code",
   "source": "xtrain_ = torch.tensor(xtrain, dtype=torch.float32)",
   "id": "80fb5ed5e7016d14",
   "execution_count": 6,
   "outputs": []
  },
  {
   "metadata": {
    "ExecuteTime": {
     "end_time": "2024-05-24T13:44:42.200741Z",
     "start_time": "2024-05-24T13:44:42.194727Z"
    }
   },
   "cell_type": "code",
   "source": "xtest_ = torch.tensor(xtest, dtype=torch.float32)",
   "id": "e6bbfa4619e44e38",
   "execution_count": 7,
   "outputs": []
  },
  {
   "metadata": {
    "ExecuteTime": {
     "end_time": "2024-05-24T13:44:42.211730Z",
     "start_time": "2024-05-24T13:44:42.204727Z"
    }
   },
   "cell_type": "code",
   "source": "ytrain_ = torch.tensor(ytrain, dtype=torch.long)",
   "id": "bf6cb7b1d5824bf",
   "execution_count": 8,
   "outputs": []
  },
  {
   "metadata": {
    "ExecuteTime": {
     "end_time": "2024-05-24T13:44:42.220915Z",
     "start_time": "2024-05-24T13:44:42.214725Z"
    }
   },
   "cell_type": "code",
   "source": "ytest_ = torch.tensor(ytest, dtype=torch.long)",
   "id": "549f38a314b1e7eb",
   "execution_count": 9,
   "outputs": []
  },
  {
   "metadata": {
    "ExecuteTime": {
     "end_time": "2024-05-24T13:44:42.245872Z",
     "start_time": "2024-05-24T13:44:42.225911Z"
    }
   },
   "cell_type": "code",
   "source": "model = Classifier()",
   "id": "b5237e5559bdc5f9",
   "execution_count": 10,
   "outputs": []
  },
  {
   "metadata": {
    "ExecuteTime": {
     "end_time": "2024-05-24T13:44:56.054498Z",
     "start_time": "2024-05-24T13:44:42.248864Z"
    }
   },
   "cell_type": "code",
   "source": [
    "device = 'cuda' if torch.cuda.is_available() else 'cpu'\n",
    "\n",
    "model = model.to(device)\n",
    "\n",
    "criterion = nn.CrossEntropyLoss()\n",
    "optimizer = torch.optim.Adam(model.parameters(), lr=0.01)\n",
    "\n",
    "model.train()\n",
    "for epoch in range(2000):\n",
    "    y_ = model(xtrain_.to(device))\n",
    "    loss = criterion(y_, ytrain_.to(device))\n",
    "    \n",
    "    optimizer.zero_grad()\n",
    "    loss.backward()\n",
    "    optimizer.step()\n",
    "    if epoch % 500 == 0:\n",
    "        print(f'{epoch}: {loss.item()}')"
   ],
   "id": "3cf5c9abdc983aa6",
   "execution_count": 11,
   "outputs": []
  },
  {
   "metadata": {
    "ExecuteTime": {
     "end_time": "2024-05-24T13:44:56.117737Z",
     "start_time": "2024-05-24T13:44:56.056500Z"
    }
   },
   "cell_type": "code",
   "source": [
    "model.eval()\n",
    "with torch.no_grad():\n",
    "    y_ = model(xtest_.to(device))\n",
    "acc = torch.sum(ytest_ == y_.argmax(dim=1).cpu()) / len(y_)\n",
    "print(acc.item())"
   ],
   "id": "6af959e9e00f8fb5",
   "execution_count": 12,
   "outputs": []
  },
  {
   "metadata": {
    "ExecuteTime": {
     "end_time": "2024-05-24T13:44:56.145844Z",
     "start_time": "2024-05-24T13:44:56.120730Z"
    }
   },
   "cell_type": "code",
   "source": "torch.save(model.state_dict(), 'model.pth') ",
   "id": "6576525e3c7feda7",
   "execution_count": 13,
   "outputs": []
  },
  {
   "metadata": {
    "ExecuteTime": {
     "end_time": "2024-05-18T07:47:34.920942Z",
     "start_time": "2024-05-18T07:47:34.849734Z"
    }
   },
   "cell_type": "code",
   "source": "model.state_dict()",
   "id": "53f820a3e43767e",
   "execution_count": 293,
   "outputs": []
  },
  {
   "metadata": {
    "ExecuteTime": {
     "end_time": "2024-05-18T07:53:07.694077Z",
     "start_time": "2024-05-18T07:53:07.679974Z"
    }
   },
   "cell_type": "code",
   "source": "df['data'].columns",
   "id": "71671c20b97dbcd7",
   "execution_count": 296,
   "outputs": []
  },
  {
   "metadata": {
    "ExecuteTime": {
     "end_time": "2024-05-18T07:53:53.638443Z",
     "start_time": "2024-05-18T07:53:53.621904Z"
    }
   },
   "cell_type": "code",
   "source": "df['data'].max() # สำหรับ ทำ st.slider หรืออื่นๆ เพื่อดู scale ของค่าที่มีจาก data",
   "id": "a1aa087817e8c39b",
   "execution_count": 297,
   "outputs": []
  },
  {
   "metadata": {},
   "cell_type": "markdown",
   "source": "## new dataset with dataset not just number",
   "id": "6b6f4080b525228d"
  },
  {
   "metadata": {
    "ExecuteTime": {
     "end_time": "2024-05-29T07:06:15.702270Z",
     "start_time": "2024-05-29T07:06:15.663270Z"
    }
   },
   "cell_type": "code",
   "source": "import seaborn as sns",
   "id": "75e00ccecb343b3",
   "outputs": [],
   "execution_count": 4
  },
  {
   "metadata": {
    "ExecuteTime": {
     "end_time": "2024-05-29T07:13:40.237626Z",
     "start_time": "2024-05-29T07:13:40.213050Z"
    }
   },
   "cell_type": "code",
   "source": [
    "df = sns.load_dataset('titanic')\n",
    "df"
   ],
   "id": "f9b5bdda94e74647",
   "outputs": [
    {
     "data": {
      "text/plain": [
       "     survived  pclass     sex   age  sibsp  parch     fare embarked   class  \\\n",
       "0           0       3    male  22.0      1      0   7.2500        S   Third   \n",
       "1           1       1  female  38.0      1      0  71.2833        C   First   \n",
       "2           1       3  female  26.0      0      0   7.9250        S   Third   \n",
       "3           1       1  female  35.0      1      0  53.1000        S   First   \n",
       "4           0       3    male  35.0      0      0   8.0500        S   Third   \n",
       "..        ...     ...     ...   ...    ...    ...      ...      ...     ...   \n",
       "886         0       2    male  27.0      0      0  13.0000        S  Second   \n",
       "887         1       1  female  19.0      0      0  30.0000        S   First   \n",
       "888         0       3  female   NaN      1      2  23.4500        S   Third   \n",
       "889         1       1    male  26.0      0      0  30.0000        C   First   \n",
       "890         0       3    male  32.0      0      0   7.7500        Q   Third   \n",
       "\n",
       "       who  adult_male deck  embark_town alive  alone  \n",
       "0      man        True  NaN  Southampton    no  False  \n",
       "1    woman       False    C    Cherbourg   yes  False  \n",
       "2    woman       False  NaN  Southampton   yes   True  \n",
       "3    woman       False    C  Southampton   yes  False  \n",
       "4      man        True  NaN  Southampton    no   True  \n",
       "..     ...         ...  ...          ...   ...    ...  \n",
       "886    man        True  NaN  Southampton    no   True  \n",
       "887  woman       False    B  Southampton   yes   True  \n",
       "888  woman       False  NaN  Southampton    no  False  \n",
       "889    man        True    C    Cherbourg   yes   True  \n",
       "890    man        True  NaN   Queenstown    no   True  \n",
       "\n",
       "[891 rows x 15 columns]"
      ],
      "text/html": [
       "<div>\n",
       "<style scoped>\n",
       "    .dataframe tbody tr th:only-of-type {\n",
       "        vertical-align: middle;\n",
       "    }\n",
       "\n",
       "    .dataframe tbody tr th {\n",
       "        vertical-align: top;\n",
       "    }\n",
       "\n",
       "    .dataframe thead th {\n",
       "        text-align: right;\n",
       "    }\n",
       "</style>\n",
       "<table border=\"1\" class=\"dataframe\">\n",
       "  <thead>\n",
       "    <tr style=\"text-align: right;\">\n",
       "      <th></th>\n",
       "      <th>survived</th>\n",
       "      <th>pclass</th>\n",
       "      <th>sex</th>\n",
       "      <th>age</th>\n",
       "      <th>sibsp</th>\n",
       "      <th>parch</th>\n",
       "      <th>fare</th>\n",
       "      <th>embarked</th>\n",
       "      <th>class</th>\n",
       "      <th>who</th>\n",
       "      <th>adult_male</th>\n",
       "      <th>deck</th>\n",
       "      <th>embark_town</th>\n",
       "      <th>alive</th>\n",
       "      <th>alone</th>\n",
       "    </tr>\n",
       "  </thead>\n",
       "  <tbody>\n",
       "    <tr>\n",
       "      <th>0</th>\n",
       "      <td>0</td>\n",
       "      <td>3</td>\n",
       "      <td>male</td>\n",
       "      <td>22.0</td>\n",
       "      <td>1</td>\n",
       "      <td>0</td>\n",
       "      <td>7.2500</td>\n",
       "      <td>S</td>\n",
       "      <td>Third</td>\n",
       "      <td>man</td>\n",
       "      <td>True</td>\n",
       "      <td>NaN</td>\n",
       "      <td>Southampton</td>\n",
       "      <td>no</td>\n",
       "      <td>False</td>\n",
       "    </tr>\n",
       "    <tr>\n",
       "      <th>1</th>\n",
       "      <td>1</td>\n",
       "      <td>1</td>\n",
       "      <td>female</td>\n",
       "      <td>38.0</td>\n",
       "      <td>1</td>\n",
       "      <td>0</td>\n",
       "      <td>71.2833</td>\n",
       "      <td>C</td>\n",
       "      <td>First</td>\n",
       "      <td>woman</td>\n",
       "      <td>False</td>\n",
       "      <td>C</td>\n",
       "      <td>Cherbourg</td>\n",
       "      <td>yes</td>\n",
       "      <td>False</td>\n",
       "    </tr>\n",
       "    <tr>\n",
       "      <th>2</th>\n",
       "      <td>1</td>\n",
       "      <td>3</td>\n",
       "      <td>female</td>\n",
       "      <td>26.0</td>\n",
       "      <td>0</td>\n",
       "      <td>0</td>\n",
       "      <td>7.9250</td>\n",
       "      <td>S</td>\n",
       "      <td>Third</td>\n",
       "      <td>woman</td>\n",
       "      <td>False</td>\n",
       "      <td>NaN</td>\n",
       "      <td>Southampton</td>\n",
       "      <td>yes</td>\n",
       "      <td>True</td>\n",
       "    </tr>\n",
       "    <tr>\n",
       "      <th>3</th>\n",
       "      <td>1</td>\n",
       "      <td>1</td>\n",
       "      <td>female</td>\n",
       "      <td>35.0</td>\n",
       "      <td>1</td>\n",
       "      <td>0</td>\n",
       "      <td>53.1000</td>\n",
       "      <td>S</td>\n",
       "      <td>First</td>\n",
       "      <td>woman</td>\n",
       "      <td>False</td>\n",
       "      <td>C</td>\n",
       "      <td>Southampton</td>\n",
       "      <td>yes</td>\n",
       "      <td>False</td>\n",
       "    </tr>\n",
       "    <tr>\n",
       "      <th>4</th>\n",
       "      <td>0</td>\n",
       "      <td>3</td>\n",
       "      <td>male</td>\n",
       "      <td>35.0</td>\n",
       "      <td>0</td>\n",
       "      <td>0</td>\n",
       "      <td>8.0500</td>\n",
       "      <td>S</td>\n",
       "      <td>Third</td>\n",
       "      <td>man</td>\n",
       "      <td>True</td>\n",
       "      <td>NaN</td>\n",
       "      <td>Southampton</td>\n",
       "      <td>no</td>\n",
       "      <td>True</td>\n",
       "    </tr>\n",
       "    <tr>\n",
       "      <th>...</th>\n",
       "      <td>...</td>\n",
       "      <td>...</td>\n",
       "      <td>...</td>\n",
       "      <td>...</td>\n",
       "      <td>...</td>\n",
       "      <td>...</td>\n",
       "      <td>...</td>\n",
       "      <td>...</td>\n",
       "      <td>...</td>\n",
       "      <td>...</td>\n",
       "      <td>...</td>\n",
       "      <td>...</td>\n",
       "      <td>...</td>\n",
       "      <td>...</td>\n",
       "      <td>...</td>\n",
       "    </tr>\n",
       "    <tr>\n",
       "      <th>886</th>\n",
       "      <td>0</td>\n",
       "      <td>2</td>\n",
       "      <td>male</td>\n",
       "      <td>27.0</td>\n",
       "      <td>0</td>\n",
       "      <td>0</td>\n",
       "      <td>13.0000</td>\n",
       "      <td>S</td>\n",
       "      <td>Second</td>\n",
       "      <td>man</td>\n",
       "      <td>True</td>\n",
       "      <td>NaN</td>\n",
       "      <td>Southampton</td>\n",
       "      <td>no</td>\n",
       "      <td>True</td>\n",
       "    </tr>\n",
       "    <tr>\n",
       "      <th>887</th>\n",
       "      <td>1</td>\n",
       "      <td>1</td>\n",
       "      <td>female</td>\n",
       "      <td>19.0</td>\n",
       "      <td>0</td>\n",
       "      <td>0</td>\n",
       "      <td>30.0000</td>\n",
       "      <td>S</td>\n",
       "      <td>First</td>\n",
       "      <td>woman</td>\n",
       "      <td>False</td>\n",
       "      <td>B</td>\n",
       "      <td>Southampton</td>\n",
       "      <td>yes</td>\n",
       "      <td>True</td>\n",
       "    </tr>\n",
       "    <tr>\n",
       "      <th>888</th>\n",
       "      <td>0</td>\n",
       "      <td>3</td>\n",
       "      <td>female</td>\n",
       "      <td>NaN</td>\n",
       "      <td>1</td>\n",
       "      <td>2</td>\n",
       "      <td>23.4500</td>\n",
       "      <td>S</td>\n",
       "      <td>Third</td>\n",
       "      <td>woman</td>\n",
       "      <td>False</td>\n",
       "      <td>NaN</td>\n",
       "      <td>Southampton</td>\n",
       "      <td>no</td>\n",
       "      <td>False</td>\n",
       "    </tr>\n",
       "    <tr>\n",
       "      <th>889</th>\n",
       "      <td>1</td>\n",
       "      <td>1</td>\n",
       "      <td>male</td>\n",
       "      <td>26.0</td>\n",
       "      <td>0</td>\n",
       "      <td>0</td>\n",
       "      <td>30.0000</td>\n",
       "      <td>C</td>\n",
       "      <td>First</td>\n",
       "      <td>man</td>\n",
       "      <td>True</td>\n",
       "      <td>C</td>\n",
       "      <td>Cherbourg</td>\n",
       "      <td>yes</td>\n",
       "      <td>True</td>\n",
       "    </tr>\n",
       "    <tr>\n",
       "      <th>890</th>\n",
       "      <td>0</td>\n",
       "      <td>3</td>\n",
       "      <td>male</td>\n",
       "      <td>32.0</td>\n",
       "      <td>0</td>\n",
       "      <td>0</td>\n",
       "      <td>7.7500</td>\n",
       "      <td>Q</td>\n",
       "      <td>Third</td>\n",
       "      <td>man</td>\n",
       "      <td>True</td>\n",
       "      <td>NaN</td>\n",
       "      <td>Queenstown</td>\n",
       "      <td>no</td>\n",
       "      <td>True</td>\n",
       "    </tr>\n",
       "  </tbody>\n",
       "</table>\n",
       "<p>891 rows × 15 columns</p>\n",
       "</div>"
      ]
     },
     "execution_count": 14,
     "metadata": {},
     "output_type": "execute_result"
    }
   ],
   "execution_count": 14
  },
  {
   "metadata": {
    "ExecuteTime": {
     "end_time": "2024-05-29T07:13:41.532295Z",
     "start_time": "2024-05-29T07:13:41.526285Z"
    }
   },
   "cell_type": "code",
   "source": "len(df.columns)",
   "id": "b31969f3cb45345",
   "outputs": [
    {
     "data": {
      "text/plain": [
       "15"
      ]
     },
     "execution_count": 15,
     "metadata": {},
     "output_type": "execute_result"
    }
   ],
   "execution_count": 15
  },
  {
   "metadata": {
    "ExecuteTime": {
     "end_time": "2024-05-29T07:13:42.180094Z",
     "start_time": "2024-05-29T07:13:42.170806Z"
    }
   },
   "cell_type": "code",
   "source": "df.nunique() # แต่ละ column มีกี่ค่า ",
   "id": "194ad14229a4b449",
   "outputs": [
    {
     "data": {
      "text/plain": [
       "survived         2\n",
       "pclass           3\n",
       "sex              2\n",
       "age             88\n",
       "sibsp            7\n",
       "parch            7\n",
       "fare           248\n",
       "embarked         3\n",
       "class            3\n",
       "who              3\n",
       "adult_male       2\n",
       "deck             7\n",
       "embark_town      3\n",
       "alive            2\n",
       "alone            2\n",
       "dtype: int64"
      ]
     },
     "execution_count": 16,
     "metadata": {},
     "output_type": "execute_result"
    }
   ],
   "execution_count": 16
  },
  {
   "metadata": {
    "ExecuteTime": {
     "end_time": "2024-05-29T07:18:40.243065Z",
     "start_time": "2024-05-29T07:18:40.165068Z"
    }
   },
   "cell_type": "code",
   "source": [
    "import pandas as pd\n",
    "df = sns.load_dataset('titanic')\n",
    "df = df.drop(columns=['survived', 'alive'])\n",
    "df = pd.get_dummies(df, dtype=float)\n",
    "df"
   ],
   "id": "e91983c0d2ec099",
   "outputs": [
    {
     "data": {
      "text/plain": [
       "     pclass   age  sibsp  parch     fare  adult_male  alone  sex_female  \\\n",
       "0         3  22.0      1      0   7.2500        True  False         0.0   \n",
       "1         1  38.0      1      0  71.2833       False  False         1.0   \n",
       "2         3  26.0      0      0   7.9250       False   True         1.0   \n",
       "3         1  35.0      1      0  53.1000       False  False         1.0   \n",
       "4         3  35.0      0      0   8.0500        True   True         0.0   \n",
       "..      ...   ...    ...    ...      ...         ...    ...         ...   \n",
       "886       2  27.0      0      0  13.0000        True   True         0.0   \n",
       "887       1  19.0      0      0  30.0000       False   True         1.0   \n",
       "888       3   NaN      1      2  23.4500       False  False         1.0   \n",
       "889       1  26.0      0      0  30.0000        True   True         0.0   \n",
       "890       3  32.0      0      0   7.7500        True   True         0.0   \n",
       "\n",
       "     sex_male  embarked_C  ...  deck_A  deck_B  deck_C  deck_D  deck_E  \\\n",
       "0         1.0         0.0  ...     0.0     0.0     0.0     0.0     0.0   \n",
       "1         0.0         1.0  ...     0.0     0.0     1.0     0.0     0.0   \n",
       "2         0.0         0.0  ...     0.0     0.0     0.0     0.0     0.0   \n",
       "3         0.0         0.0  ...     0.0     0.0     1.0     0.0     0.0   \n",
       "4         1.0         0.0  ...     0.0     0.0     0.0     0.0     0.0   \n",
       "..        ...         ...  ...     ...     ...     ...     ...     ...   \n",
       "886       1.0         0.0  ...     0.0     0.0     0.0     0.0     0.0   \n",
       "887       0.0         0.0  ...     0.0     1.0     0.0     0.0     0.0   \n",
       "888       0.0         0.0  ...     0.0     0.0     0.0     0.0     0.0   \n",
       "889       1.0         1.0  ...     0.0     0.0     1.0     0.0     0.0   \n",
       "890       1.0         0.0  ...     0.0     0.0     0.0     0.0     0.0   \n",
       "\n",
       "     deck_F  deck_G  embark_town_Cherbourg  embark_town_Queenstown  \\\n",
       "0       0.0     0.0                    0.0                     0.0   \n",
       "1       0.0     0.0                    1.0                     0.0   \n",
       "2       0.0     0.0                    0.0                     0.0   \n",
       "3       0.0     0.0                    0.0                     0.0   \n",
       "4       0.0     0.0                    0.0                     0.0   \n",
       "..      ...     ...                    ...                     ...   \n",
       "886     0.0     0.0                    0.0                     0.0   \n",
       "887     0.0     0.0                    0.0                     0.0   \n",
       "888     0.0     0.0                    0.0                     0.0   \n",
       "889     0.0     0.0                    1.0                     0.0   \n",
       "890     0.0     0.0                    0.0                     1.0   \n",
       "\n",
       "     embark_town_Southampton  \n",
       "0                        1.0  \n",
       "1                        0.0  \n",
       "2                        1.0  \n",
       "3                        1.0  \n",
       "4                        1.0  \n",
       "..                       ...  \n",
       "886                      1.0  \n",
       "887                      1.0  \n",
       "888                      1.0  \n",
       "889                      0.0  \n",
       "890                      0.0  \n",
       "\n",
       "[891 rows x 28 columns]"
      ],
      "text/html": [
       "<div>\n",
       "<style scoped>\n",
       "    .dataframe tbody tr th:only-of-type {\n",
       "        vertical-align: middle;\n",
       "    }\n",
       "\n",
       "    .dataframe tbody tr th {\n",
       "        vertical-align: top;\n",
       "    }\n",
       "\n",
       "    .dataframe thead th {\n",
       "        text-align: right;\n",
       "    }\n",
       "</style>\n",
       "<table border=\"1\" class=\"dataframe\">\n",
       "  <thead>\n",
       "    <tr style=\"text-align: right;\">\n",
       "      <th></th>\n",
       "      <th>pclass</th>\n",
       "      <th>age</th>\n",
       "      <th>sibsp</th>\n",
       "      <th>parch</th>\n",
       "      <th>fare</th>\n",
       "      <th>adult_male</th>\n",
       "      <th>alone</th>\n",
       "      <th>sex_female</th>\n",
       "      <th>sex_male</th>\n",
       "      <th>embarked_C</th>\n",
       "      <th>...</th>\n",
       "      <th>deck_A</th>\n",
       "      <th>deck_B</th>\n",
       "      <th>deck_C</th>\n",
       "      <th>deck_D</th>\n",
       "      <th>deck_E</th>\n",
       "      <th>deck_F</th>\n",
       "      <th>deck_G</th>\n",
       "      <th>embark_town_Cherbourg</th>\n",
       "      <th>embark_town_Queenstown</th>\n",
       "      <th>embark_town_Southampton</th>\n",
       "    </tr>\n",
       "  </thead>\n",
       "  <tbody>\n",
       "    <tr>\n",
       "      <th>0</th>\n",
       "      <td>3</td>\n",
       "      <td>22.0</td>\n",
       "      <td>1</td>\n",
       "      <td>0</td>\n",
       "      <td>7.2500</td>\n",
       "      <td>True</td>\n",
       "      <td>False</td>\n",
       "      <td>0.0</td>\n",
       "      <td>1.0</td>\n",
       "      <td>0.0</td>\n",
       "      <td>...</td>\n",
       "      <td>0.0</td>\n",
       "      <td>0.0</td>\n",
       "      <td>0.0</td>\n",
       "      <td>0.0</td>\n",
       "      <td>0.0</td>\n",
       "      <td>0.0</td>\n",
       "      <td>0.0</td>\n",
       "      <td>0.0</td>\n",
       "      <td>0.0</td>\n",
       "      <td>1.0</td>\n",
       "    </tr>\n",
       "    <tr>\n",
       "      <th>1</th>\n",
       "      <td>1</td>\n",
       "      <td>38.0</td>\n",
       "      <td>1</td>\n",
       "      <td>0</td>\n",
       "      <td>71.2833</td>\n",
       "      <td>False</td>\n",
       "      <td>False</td>\n",
       "      <td>1.0</td>\n",
       "      <td>0.0</td>\n",
       "      <td>1.0</td>\n",
       "      <td>...</td>\n",
       "      <td>0.0</td>\n",
       "      <td>0.0</td>\n",
       "      <td>1.0</td>\n",
       "      <td>0.0</td>\n",
       "      <td>0.0</td>\n",
       "      <td>0.0</td>\n",
       "      <td>0.0</td>\n",
       "      <td>1.0</td>\n",
       "      <td>0.0</td>\n",
       "      <td>0.0</td>\n",
       "    </tr>\n",
       "    <tr>\n",
       "      <th>2</th>\n",
       "      <td>3</td>\n",
       "      <td>26.0</td>\n",
       "      <td>0</td>\n",
       "      <td>0</td>\n",
       "      <td>7.9250</td>\n",
       "      <td>False</td>\n",
       "      <td>True</td>\n",
       "      <td>1.0</td>\n",
       "      <td>0.0</td>\n",
       "      <td>0.0</td>\n",
       "      <td>...</td>\n",
       "      <td>0.0</td>\n",
       "      <td>0.0</td>\n",
       "      <td>0.0</td>\n",
       "      <td>0.0</td>\n",
       "      <td>0.0</td>\n",
       "      <td>0.0</td>\n",
       "      <td>0.0</td>\n",
       "      <td>0.0</td>\n",
       "      <td>0.0</td>\n",
       "      <td>1.0</td>\n",
       "    </tr>\n",
       "    <tr>\n",
       "      <th>3</th>\n",
       "      <td>1</td>\n",
       "      <td>35.0</td>\n",
       "      <td>1</td>\n",
       "      <td>0</td>\n",
       "      <td>53.1000</td>\n",
       "      <td>False</td>\n",
       "      <td>False</td>\n",
       "      <td>1.0</td>\n",
       "      <td>0.0</td>\n",
       "      <td>0.0</td>\n",
       "      <td>...</td>\n",
       "      <td>0.0</td>\n",
       "      <td>0.0</td>\n",
       "      <td>1.0</td>\n",
       "      <td>0.0</td>\n",
       "      <td>0.0</td>\n",
       "      <td>0.0</td>\n",
       "      <td>0.0</td>\n",
       "      <td>0.0</td>\n",
       "      <td>0.0</td>\n",
       "      <td>1.0</td>\n",
       "    </tr>\n",
       "    <tr>\n",
       "      <th>4</th>\n",
       "      <td>3</td>\n",
       "      <td>35.0</td>\n",
       "      <td>0</td>\n",
       "      <td>0</td>\n",
       "      <td>8.0500</td>\n",
       "      <td>True</td>\n",
       "      <td>True</td>\n",
       "      <td>0.0</td>\n",
       "      <td>1.0</td>\n",
       "      <td>0.0</td>\n",
       "      <td>...</td>\n",
       "      <td>0.0</td>\n",
       "      <td>0.0</td>\n",
       "      <td>0.0</td>\n",
       "      <td>0.0</td>\n",
       "      <td>0.0</td>\n",
       "      <td>0.0</td>\n",
       "      <td>0.0</td>\n",
       "      <td>0.0</td>\n",
       "      <td>0.0</td>\n",
       "      <td>1.0</td>\n",
       "    </tr>\n",
       "    <tr>\n",
       "      <th>...</th>\n",
       "      <td>...</td>\n",
       "      <td>...</td>\n",
       "      <td>...</td>\n",
       "      <td>...</td>\n",
       "      <td>...</td>\n",
       "      <td>...</td>\n",
       "      <td>...</td>\n",
       "      <td>...</td>\n",
       "      <td>...</td>\n",
       "      <td>...</td>\n",
       "      <td>...</td>\n",
       "      <td>...</td>\n",
       "      <td>...</td>\n",
       "      <td>...</td>\n",
       "      <td>...</td>\n",
       "      <td>...</td>\n",
       "      <td>...</td>\n",
       "      <td>...</td>\n",
       "      <td>...</td>\n",
       "      <td>...</td>\n",
       "      <td>...</td>\n",
       "    </tr>\n",
       "    <tr>\n",
       "      <th>886</th>\n",
       "      <td>2</td>\n",
       "      <td>27.0</td>\n",
       "      <td>0</td>\n",
       "      <td>0</td>\n",
       "      <td>13.0000</td>\n",
       "      <td>True</td>\n",
       "      <td>True</td>\n",
       "      <td>0.0</td>\n",
       "      <td>1.0</td>\n",
       "      <td>0.0</td>\n",
       "      <td>...</td>\n",
       "      <td>0.0</td>\n",
       "      <td>0.0</td>\n",
       "      <td>0.0</td>\n",
       "      <td>0.0</td>\n",
       "      <td>0.0</td>\n",
       "      <td>0.0</td>\n",
       "      <td>0.0</td>\n",
       "      <td>0.0</td>\n",
       "      <td>0.0</td>\n",
       "      <td>1.0</td>\n",
       "    </tr>\n",
       "    <tr>\n",
       "      <th>887</th>\n",
       "      <td>1</td>\n",
       "      <td>19.0</td>\n",
       "      <td>0</td>\n",
       "      <td>0</td>\n",
       "      <td>30.0000</td>\n",
       "      <td>False</td>\n",
       "      <td>True</td>\n",
       "      <td>1.0</td>\n",
       "      <td>0.0</td>\n",
       "      <td>0.0</td>\n",
       "      <td>...</td>\n",
       "      <td>0.0</td>\n",
       "      <td>1.0</td>\n",
       "      <td>0.0</td>\n",
       "      <td>0.0</td>\n",
       "      <td>0.0</td>\n",
       "      <td>0.0</td>\n",
       "      <td>0.0</td>\n",
       "      <td>0.0</td>\n",
       "      <td>0.0</td>\n",
       "      <td>1.0</td>\n",
       "    </tr>\n",
       "    <tr>\n",
       "      <th>888</th>\n",
       "      <td>3</td>\n",
       "      <td>NaN</td>\n",
       "      <td>1</td>\n",
       "      <td>2</td>\n",
       "      <td>23.4500</td>\n",
       "      <td>False</td>\n",
       "      <td>False</td>\n",
       "      <td>1.0</td>\n",
       "      <td>0.0</td>\n",
       "      <td>0.0</td>\n",
       "      <td>...</td>\n",
       "      <td>0.0</td>\n",
       "      <td>0.0</td>\n",
       "      <td>0.0</td>\n",
       "      <td>0.0</td>\n",
       "      <td>0.0</td>\n",
       "      <td>0.0</td>\n",
       "      <td>0.0</td>\n",
       "      <td>0.0</td>\n",
       "      <td>0.0</td>\n",
       "      <td>1.0</td>\n",
       "    </tr>\n",
       "    <tr>\n",
       "      <th>889</th>\n",
       "      <td>1</td>\n",
       "      <td>26.0</td>\n",
       "      <td>0</td>\n",
       "      <td>0</td>\n",
       "      <td>30.0000</td>\n",
       "      <td>True</td>\n",
       "      <td>True</td>\n",
       "      <td>0.0</td>\n",
       "      <td>1.0</td>\n",
       "      <td>1.0</td>\n",
       "      <td>...</td>\n",
       "      <td>0.0</td>\n",
       "      <td>0.0</td>\n",
       "      <td>1.0</td>\n",
       "      <td>0.0</td>\n",
       "      <td>0.0</td>\n",
       "      <td>0.0</td>\n",
       "      <td>0.0</td>\n",
       "      <td>1.0</td>\n",
       "      <td>0.0</td>\n",
       "      <td>0.0</td>\n",
       "    </tr>\n",
       "    <tr>\n",
       "      <th>890</th>\n",
       "      <td>3</td>\n",
       "      <td>32.0</td>\n",
       "      <td>0</td>\n",
       "      <td>0</td>\n",
       "      <td>7.7500</td>\n",
       "      <td>True</td>\n",
       "      <td>True</td>\n",
       "      <td>0.0</td>\n",
       "      <td>1.0</td>\n",
       "      <td>0.0</td>\n",
       "      <td>...</td>\n",
       "      <td>0.0</td>\n",
       "      <td>0.0</td>\n",
       "      <td>0.0</td>\n",
       "      <td>0.0</td>\n",
       "      <td>0.0</td>\n",
       "      <td>0.0</td>\n",
       "      <td>0.0</td>\n",
       "      <td>0.0</td>\n",
       "      <td>1.0</td>\n",
       "      <td>0.0</td>\n",
       "    </tr>\n",
       "  </tbody>\n",
       "</table>\n",
       "<p>891 rows × 28 columns</p>\n",
       "</div>"
      ]
     },
     "execution_count": 20,
     "metadata": {},
     "output_type": "execute_result"
    }
   ],
   "execution_count": 20
  },
  {
   "metadata": {},
   "cell_type": "code",
   "outputs": [],
   "execution_count": null,
   "source": "['adult_male', ]",
   "id": "8f34610805840cf5"
  },
  {
   "metadata": {
    "ExecuteTime": {
     "end_time": "2024-05-29T07:13:44.649851Z",
     "start_time": "2024-05-29T07:13:44.644850Z"
    }
   },
   "cell_type": "code",
   "source": "len(df.columns)",
   "id": "f092f6f4cac6142e",
   "outputs": [
    {
     "data": {
      "text/plain": [
       "28"
      ]
     },
     "execution_count": 18,
     "metadata": {},
     "output_type": "execute_result"
    }
   ],
   "execution_count": 18
  },
  {
   "metadata": {
    "ExecuteTime": {
     "end_time": "2024-05-25T02:21:57.431228Z",
     "start_time": "2024-05-25T02:21:57.425743Z"
    }
   },
   "cell_type": "code",
   "source": [
    "df = df.drop(columns=['class', 'adult_male', 'deck', 'embark_town', 'alive', 'alone'])\n",
    "# แต่มี embarked ก็รู้ embark_town เลย drop ก่อน"
   ],
   "id": "1d0dcabfb35e1124",
   "execution_count": 5,
   "outputs": []
  },
  {
   "metadata": {
    "ExecuteTime": {
     "end_time": "2024-05-25T02:21:58.506833Z",
     "start_time": "2024-05-25T02:21:58.502416Z"
    }
   },
   "cell_type": "code",
   "source": "import pandas as pd",
   "id": "ddfee35826b69f65",
   "execution_count": 6,
   "outputs": []
  },
  {
   "metadata": {
    "ExecuteTime": {
     "end_time": "2024-05-25T02:21:58.889037Z",
     "start_time": "2024-05-25T02:21:58.876356Z"
    }
   },
   "cell_type": "code",
   "source": [
    "df = pd.get_dummies(df, dtype=float) # มันจะเป็น one-hot ออกมา\n",
    "# เราควรเก็บ feature ที่รู้อันหนึ่ง แต่เดาอีกอันไม่ได้ เช่น embarked_\n",
    "# แต่พวก sex_female = 0 ก็รู้ว่า มันเป็น male ไม่ควรเอาเข้าเพื่อทำ classify"
   ],
   "id": "a24dae845277eabb",
   "execution_count": 7,
   "outputs": []
  },
  {
   "metadata": {
    "ExecuteTime": {
     "end_time": "2024-05-25T02:21:59.888761Z",
     "start_time": "2024-05-25T02:21:59.857177Z"
    }
   },
   "cell_type": "code",
   "source": "df  ",
   "id": "94c3e862ae9df12e",
   "execution_count": 8,
   "outputs": []
  },
  {
   "metadata": {
    "ExecuteTime": {
     "end_time": "2024-05-25T02:22:01.484122Z",
     "start_time": "2024-05-25T02:22:01.478120Z"
    }
   },
   "cell_type": "code",
   "source": "df = df.drop(columns=['sex_female'])",
   "id": "7c7b67e6112202e4",
   "execution_count": 9,
   "outputs": []
  },
  {
   "metadata": {
    "ExecuteTime": {
     "end_time": "2024-05-25T02:22:02.467263Z",
     "start_time": "2024-05-25T02:22:02.432704Z"
    }
   },
   "cell_type": "code",
   "source": "df",
   "id": "5614ac8644a7da9f",
   "execution_count": 10,
   "outputs": []
  },
  {
   "metadata": {
    "ExecuteTime": {
     "end_time": "2024-05-25T02:22:03.525428Z",
     "start_time": "2024-05-25T02:22:03.518806Z"
    }
   },
   "cell_type": "code",
   "source": "df = df.dropna() # impute ",
   "id": "60187114f6ba5343",
   "execution_count": 11,
   "outputs": []
  },
  {
   "metadata": {
    "ExecuteTime": {
     "end_time": "2024-05-25T02:22:04.174622Z",
     "start_time": "2024-05-25T02:22:04.168559Z"
    }
   },
   "cell_type": "code",
   "source": [
    "X = df.iloc[:, 1:] # คือเอาทุก column แต่เอาตั้งแต่ column 1 ไม่เอา target (column survived)\n",
    "Y = df.iloc[:, 0]"
   ],
   "id": "52ad5b32d3313b83",
   "execution_count": 12,
   "outputs": []
  },
  {
   "metadata": {
    "ExecuteTime": {
     "end_time": "2024-05-25T02:22:05.718793Z",
     "start_time": "2024-05-25T02:22:05.681793Z"
    }
   },
   "cell_type": "code",
   "source": "X # สังเกตว่าค่ามันโดด เราควรต้อง Norm มันด้วย",
   "id": "b379a45bb67e1b79",
   "execution_count": 13,
   "outputs": []
  },
  {
   "metadata": {
    "ExecuteTime": {
     "end_time": "2024-05-25T02:22:06.194265Z",
     "start_time": "2024-05-25T02:22:06.185792Z"
    }
   },
   "cell_type": "code",
   "source": "Y",
   "id": "30160e4e4f2c9bfe",
   "execution_count": 14,
   "outputs": []
  },
  {
   "metadata": {
    "ExecuteTime": {
     "end_time": "2024-05-25T02:22:08.146219Z",
     "start_time": "2024-05-25T02:22:06.973261Z"
    }
   },
   "cell_type": "code",
   "source": "from sklearn.model_selection import train_test_split",
   "id": "d048cbe71f0d1c9",
   "execution_count": 15,
   "outputs": []
  },
  {
   "metadata": {
    "ExecuteTime": {
     "end_time": "2024-05-25T02:22:08.161215Z",
     "start_time": "2024-05-25T02:22:08.149216Z"
    }
   },
   "cell_type": "code",
   "source": "xtrain, xtest, ytrain, ytest = train_test_split(X, Y, test_size=0.2) # ทดสอบ performance model ก็เลยแบ่ง",
   "id": "9e5e0ef1246af377",
   "execution_count": 16,
   "outputs": []
  },
  {
   "metadata": {
    "ExecuteTime": {
     "end_time": "2024-05-25T02:22:09.094169Z",
     "start_time": "2024-05-25T02:22:09.084172Z"
    }
   },
   "cell_type": "code",
   "source": [
    "xtrain = torch.tensor(xtrain.values, dtype=torch.float32)\n",
    "xtest = torch.tensor(xtest.values, dtype=torch.float32)\n",
    "ytrain = torch.tensor(ytrain.values, dtype=torch.float32)\n",
    "ytest = torch.tensor(ytest.values, dtype=torch.float32)\n",
    "ytrain = ytrain.reshape(-1, 1)\n",
    "ytest = ytest.reshape(-1, 1)"
   ],
   "id": "397da49570e62331",
   "execution_count": 17,
   "outputs": []
  },
  {
   "metadata": {
    "ExecuteTime": {
     "end_time": "2024-05-25T02:22:09.438326Z",
     "start_time": "2024-05-25T02:22:09.431172Z"
    }
   },
   "cell_type": "code",
   "source": "xtrain.shape",
   "id": "af4d585a171897dc",
   "execution_count": 18,
   "outputs": []
  },
  {
   "metadata": {
    "ExecuteTime": {
     "end_time": "2024-05-25T02:22:10.367927Z",
     "start_time": "2024-05-25T02:22:10.342381Z"
    }
   },
   "cell_type": "code",
   "source": "ytrain.unique()",
   "id": "4584eed0c14c126",
   "execution_count": 19,
   "outputs": []
  },
  {
   "metadata": {
    "ExecuteTime": {
     "end_time": "2024-05-25T02:26:04.368684Z",
     "start_time": "2024-05-25T02:26:04.363197Z"
    }
   },
   "cell_type": "code",
   "source": [
    "class Classifier(nn.Module):\n",
    "    def __init__(self):\n",
    "        super().__init__()\n",
    "        self.fc1 = nn.Linear(12, 128)\n",
    "        # self.fc2 = nn.Linear(64, 32)\n",
    "        self.fc2 = nn.Linear(128, 1) # เราไม่นิยม ถ้า มี 2 class เราจะใช้เป็น 1 แทน (dummy variable problem) # เพราะยังไง เราก็รู้ อีกอัน และเป็นแบบนี้จะใช่ softmax ไม่ได้ เพราะมันดูหลาย class ทำให้ตัว loss ใช้ CrossEntropyloss ไม่ได้ (เพราะเหมาะกับ3 ขึ่นไป) ซึ่ง 0-1 มันเป็น float ก็ต้อง ทำตัว train, test ให้เป็น type เดียวกัน\n",
    "        \n",
    "    def forward(self, x):\n",
    "        x = torch.relu(self.fc1(x))\n",
    "        # x = nn.functional.leaky_relu(self.fc2(x))\n",
    "        return torch.sigmoid(self.fc2(x)) # sigmoid rank ค่า 0-1"
   ],
   "id": "90889c8a883cd411",
   "execution_count": 23,
   "outputs": []
  },
  {
   "metadata": {
    "ExecuteTime": {
     "end_time": "2024-05-25T02:26:04.708692Z",
     "start_time": "2024-05-25T02:26:04.702154Z"
    }
   },
   "cell_type": "code",
   "source": "model = Classifier()",
   "id": "c52b0ddafcc3c8d5",
   "execution_count": 24,
   "outputs": []
  },
  {
   "metadata": {
    "ExecuteTime": {
     "end_time": "2024-05-25T02:26:09.446922Z",
     "start_time": "2024-05-25T02:26:04.986569Z"
    }
   },
   "cell_type": "code",
   "source": [
    "device = 'cuda' if torch.cuda.is_available() else 'cpu'\n",
    "\n",
    "model = model.to(device)\n",
    "\n",
    "criterion = nn.BCELoss() # -> binary cross entropy loss => 0-1\n",
    "optimizer = torch.optim.Adam(model.parameters(), lr=0.05)\n",
    "\n",
    "model.train()\n",
    "for epoch in range(2000):\n",
    "    y_ = model(xtrain.to(device))\n",
    "    loss = criterion(y_, ytrain.to(device))\n",
    "    \n",
    "    optimizer.zero_grad()\n",
    "    loss.backward()\n",
    "    optimizer.step()\n",
    "    if epoch % 500 == 0:\n",
    "        print(f'{epoch}: {loss.item()}')"
   ],
   "id": "ac6a8397c74fb70b",
   "execution_count": 25,
   "outputs": []
  },
  {
   "metadata": {
    "ExecuteTime": {
     "end_time": "2024-05-25T02:26:20.332792Z",
     "start_time": "2024-05-25T02:26:20.316981Z"
    }
   },
   "cell_type": "code",
   "source": [
    "model.eval()\n",
    "with torch.no_grad():\n",
    "    y_ = model(xtest.to(device))\n",
    "acc = torch.sum(ytest == y_.round().cpu()) / len(y_)\n",
    "print(acc.item())"
   ],
   "id": "a3af4cbaecf0c8ea",
   "execution_count": 26,
   "outputs": []
  },
  {
   "metadata": {
    "ExecuteTime": {
     "end_time": "2024-05-25T02:26:34.722271Z",
     "start_time": "2024-05-25T02:26:34.704331Z"
    }
   },
   "cell_type": "code",
   "source": "torch.save(model.state_dict(), 'model_titanic_cls.pth') # ทำ widget ให้เหมาะ บน streamlit แล้ว",
   "id": "f40c4ac125412daf",
   "execution_count": 27,
   "outputs": []
  },
  {
   "metadata": {},
   "cell_type": "code",
   "execution_count": null,
   "source": "",
   "id": "2f6d67cbc048d37",
   "outputs": []
  }
 ],
 "metadata": {
  "kernelspec": {
   "display_name": "Python 3",
   "language": "python",
   "name": "python3"
  },
  "language_info": {
   "codemirror_mode": {
    "name": "ipython",
    "version": 2
   },
   "file_extension": ".py",
   "mimetype": "text/x-python",
   "name": "python",
   "nbconvert_exporter": "python",
   "pygments_lexer": "ipython2",
   "version": "2.7.6"
  }
 },
 "nbformat": 4,
 "nbformat_minor": 5
}
