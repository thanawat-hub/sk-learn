{
 "cells": [
  {
   "metadata": {
    "ExecuteTime": {
     "end_time": "2024-05-23T02:52:33.511966Z",
     "start_time": "2024-05-23T02:52:33.496248Z"
    }
   },
   "cell_type": "code",
   "source": [
    "import ast\n",
    "\n",
    "# Input string\n",
    "input_string = \"[{'HumanMessage': {'content': 'hi'}, 'AIMessage': {'content': 'Echo: ไม่เป็นไรค่ะ มีอะไรให้ช่วยไหมค่ะ?'}}]\"\n",
    "\n",
    "# Convert the string to a list\n",
    "output_list = ast.literal_eval(input_string)\n",
    "\n",
    "print(output_list)\n",
    "print(type(output_list))\n"
   ],
   "id": "f1f9d24b632df201",
   "outputs": [
    {
     "name": "stdout",
     "output_type": "stream",
     "text": [
      "[{'HumanMessage': {'content': 'hi'}, 'AIMessage': {'content': 'Echo: ไม่เป็นไรค่ะ มีอะไรให้ช่วยไหมค่ะ?'}}]\n",
      "<class 'list'>\n"
     ]
    }
   ],
   "execution_count": 1
  },
  {
   "metadata": {
    "ExecuteTime": {
     "end_time": "2024-05-23T07:19:13.348439Z",
     "start_time": "2024-05-23T07:19:13.339838Z"
    }
   },
   "cell_type": "code",
   "source": [
    "import json\n",
    "\n",
    "# Step 1: Parse the JSON string to a Python list of dictionaries\n",
    "try:\n",
    "    latestMemory = json.loads(latestMemory_string)\n",
    "except json.JSONDecodeError as e:\n",
    "    print(f\"Error decoding JSON: {e}\")\n",
    "    latestMemory = []\n",
    "\n",
    "# Step 2: Extract and print the content as \"Human: text\" and \"AI: text\"\n",
    "for message in latestMemory:\n",
    "    try:\n",
    "        human_content = message[\"HumanMessage\"][\"content\"]\n",
    "        ai_content = message[\"AIMessage\"][\"content\"]\n",
    "        print(f\"Human: {human_content}\")\n",
    "        print(f\"AI: {ai_content}\")\n",
    "    except KeyError as e:\n",
    "        print(f\"Missing expected key: {e}\")\n",
    "    except TypeError as e:\n",
    "        print(f\"Unexpected data format: {e}\")\n"
   ],
   "id": "4a1d42998ba9e0",
   "outputs": [
    {
     "name": "stdout",
     "output_type": "stream",
     "text": [
      "Human: ฉันชื่อต่อ คุณช่วยอะไรได้บ้าง?\n",
      "AI: Document ไม่มีข้อมูลที่เกี่ยวข้องกับคำถาม ค่ะ\n",
      "Human: สวัสดี ฉันชื่อต่อ ต้องการเดินทางไป ฮ่องกง มาเก๊า เซินเจิ้น ต้องเลือกปลายทาง(Destination)เป็นอะไร\n",
      "\n",
      "\n",
      "AI: Sompo จะให้ระบุชื่อประเทศที่ไปได้ทั้งหมดเลยค่ะ (สูงสุดได้ 5 ประเทศ)\n",
      "หมายเหตุ ::  ตัวอย่างคือ Hongkong, Macau เบี้ยจะเป็นเบี้ย ASIA แต่หากลูกค้าระบุ Hongkong, Macau และ America เบี้ยประกันจะถูกปรับเป็นแผน Worldwide ทันที เพราะมีอเมริกาโผล่มาค่ะ\n"
     ]
    }
   ],
   "execution_count": 4
  },
  {
   "cell_type": "code",
   "id": "initial_id",
   "metadata": {
    "collapsed": true,
    "ExecuteTime": {
     "end_time": "2024-05-22T10:20:58.877887Z",
     "start_time": "2024-05-22T10:20:58.871884Z"
    }
   },
   "source": "import torch",
   "outputs": [],
   "execution_count": 5
  },
  {
   "metadata": {
    "ExecuteTime": {
     "end_time": "2024-05-22T10:20:59.715013Z",
     "start_time": "2024-05-22T10:20:59.704486Z"
    }
   },
   "cell_type": "code",
   "source": "torch.__version__",
   "id": "be97bb0e5081b02",
   "outputs": [
    {
     "data": {
      "text/plain": [
       "'2.3.0'"
      ]
     },
     "execution_count": 6,
     "metadata": {},
     "output_type": "execute_result"
    }
   ],
   "execution_count": 6
  },
  {
   "metadata": {
    "ExecuteTime": {
     "end_time": "2024-05-22T10:21:01.183810Z",
     "start_time": "2024-05-22T10:20:59.931009Z"
    }
   },
   "cell_type": "code",
   "source": "device = 'cuda' if torch.cuda.is_available() else 'cpu'",
   "id": "2ec6e4669082ba4",
   "outputs": [],
   "execution_count": 7
  },
  {
   "metadata": {
    "ExecuteTime": {
     "end_time": "2024-05-22T10:21:01.404622Z",
     "start_time": "2024-05-22T10:21:01.188796Z"
    }
   },
   "cell_type": "code",
   "source": "x = torch.rand(5, 3).to(device)",
   "id": "6d4d2ca8914c9e4b",
   "outputs": [],
   "execution_count": 8
  },
  {
   "metadata": {
    "ExecuteTime": {
     "end_time": "2024-05-22T10:21:02.300616Z",
     "start_time": "2024-05-22T10:21:01.407617Z"
    }
   },
   "cell_type": "code",
   "source": "x",
   "id": "eead2703e2d31727",
   "outputs": [
    {
     "data": {
      "text/plain": [
       "tensor([[0.7335, 0.8851, 0.3199],\n",
       "        [0.3522, 0.3072, 0.8700],\n",
       "        [0.7151, 0.3236, 0.1206],\n",
       "        [0.0604, 0.6196, 0.3325],\n",
       "        [0.3788, 0.1052, 0.1116]], device='cuda:0')"
      ]
     },
     "execution_count": 9,
     "metadata": {},
     "output_type": "execute_result"
    }
   ],
   "execution_count": 9
  },
  {
   "metadata": {},
   "cell_type": "markdown",
   "source": "# K-Means",
   "id": "df87b33d96829eea"
  },
  {
   "metadata": {
    "ExecuteTime": {
     "end_time": "2024-05-22T10:21:32.287786Z",
     "start_time": "2024-05-22T10:21:31.184349Z"
    }
   },
   "cell_type": "code",
   "source": "import matplotlib.pyplot as plt",
   "id": "3da87f52095385c1",
   "outputs": [],
   "execution_count": 10
  },
  {
   "metadata": {
    "ExecuteTime": {
     "end_time": "2024-05-22T10:21:32.307515Z",
     "start_time": "2024-05-22T10:21:32.289781Z"
    }
   },
   "cell_type": "code",
   "source": [
    "N = 100\n",
    "x1 = torch.randn(N, 2)\n",
    "x2 = torch.randn(N, 2) + torch.Tensor([3, 3])\n",
    "x3 = torch.randn(N, 2) + torch.Tensor([-3, 3])"
   ],
   "id": "7725c65406bb2966",
   "outputs": [],
   "execution_count": 11
  },
  {
   "metadata": {
    "ExecuteTime": {
     "end_time": "2024-05-22T10:21:32.323002Z",
     "start_time": "2024-05-22T10:21:32.310527Z"
    }
   },
   "cell_type": "code",
   "source": [
    "X = torch.cat([x1, x2, x3], dim=0)\n",
    "print(X.shape)"
   ],
   "id": "722661e33f6607e3",
   "outputs": [
    {
     "name": "stdout",
     "output_type": "stream",
     "text": [
      "torch.Size([300, 2])\n"
     ]
    }
   ],
   "execution_count": 12
  },
  {
   "metadata": {
    "ExecuteTime": {
     "end_time": "2024-05-22T10:21:33.898003Z",
     "start_time": "2024-05-22T10:21:33.316882Z"
    }
   },
   "cell_type": "code",
   "source": [
    "for i in range(3):\n",
    "    plt.scatter(X[i*N:(i+1)*N, 0], X[i*N:(i+1)*N, 1])\n",
    "plt.show()"
   ],
   "id": "417618b8a69ad095",
   "outputs": [
    {
     "data": {
      "text/plain": [
       "<Figure size 640x480 with 1 Axes>"
      ],
      "image/png": "[encoded data removed]"
     },
     "metadata": {},
     "output_type": "display_data"
    }
   ],
   "execution_count": 13
  },
  {
   "metadata": {
    "ExecuteTime": {
     "end_time": "2024-05-18T03:41:36.062263Z",
     "start_time": "2024-05-18T03:41:34.883192Z"
    }
   },
   "cell_type": "code",
   "source": [
    "K = 3\n",
    "centroids = X[torch.randperm(len(X))[:K]]\n",
    "while True:\n",
    "    D = torch.cdist(X, centroids)\n",
    "    clusters = torch.argmin(D, dim=1)\n",
    "    for i in range(3):\n",
    "        plt.scatter(X[i*N:(i+1)*N, 0], X[i*N:(i+1)*N, 1])\n",
    "    old_centroids = centroids.clone()\n",
    "    for k in range(K):\n",
    "        plt.scatter(centroids[k, 0], centroids[k, 1], marker='x')\n",
    "        centroids[k] = X[clusters == k].mean(dim=0)\n",
    "    change = torch.sum((centroids - old_centroids) ** 2)\n",
    "    if change < 0.1:\n",
    "        break\n",
    "    plt.show()"
   ],
   "id": "82126519ae745d21",
   "outputs": [
    {
     "data": {
      "text/plain": [
       "<Figure size 640x480 with 1 Axes>"
      ],
      "image/png": "[encoded data removed]"
     },
     "metadata": {},
     "output_type": "display_data"
    },
    {
     "data": {
      "text/plain": [
       "<Figure size 640x480 with 1 Axes>"
      ],
      "image/png": "[encoded data removed]"
     },
     "metadata": {},
     "output_type": "display_data"
    },
    {
     "data": {
      "text/plain": [
       "<Figure size 640x480 with 1 Axes>"
      ],
      "image/png": "[encoded data removed]"
     },
     "metadata": {},
     "output_type": "display_data"
    },
    {
     "data": {
      "text/plain": [
       "<Figure size 640x480 with 1 Axes>"
      ],
      "image/png": "[encoded data removed]"
     },
     "metadata": {},
     "output_type": "display_data"
    },
    {
     "data": {
      "text/plain": [
       "<Figure size 640x480 with 1 Axes>"
      ],
      "image/png": "[encoded data removed]"
     },
     "metadata": {},
     "output_type": "display_data"
    },
    {
     "data": {
      "text/plain": [
       "<Figure size 640x480 with 1 Axes>"
      ],
      "image/png": "[encoded data removed]"
     },
     "metadata": {},
     "output_type": "display_data"
    },
    {
     "data": {
      "text/plain": [
       "<Figure size 640x480 with 1 Axes>"
      ],
      "image/png": "[encoded data removed]"
     },
     "metadata": {},
     "output_type": "display_data"
    },
    {
     "data": {
      "text/plain": [
       "<Figure size 640x480 with 1 Axes>"
      ],
      "image/png": "[encoded data removed]"
     },
     "metadata": {},
     "output_type": "display_data"
    }
   ],
   "execution_count": 40
  },
  {
   "metadata": {
    "ExecuteTime": {
     "end_time": "2024-05-22T10:21:58.515854Z",
     "start_time": "2024-05-22T10:21:52.491927Z"
    }
   },
   "cell_type": "code",
   "source": [
    "import time\n",
    "device = 'cuda'\n",
    "\n",
    "N = 100000\n",
    "x1 = torch.randn(N, 2)\n",
    "x2 = torch.randn(N, 2) + torch.Tensor([3, 3])\n",
    "x3 = torch.randn(N, 2) + torch.Tensor([-3, 3])\n",
    "X = torch.cat([x1, x2, x3], dim=0).to(device)\n",
    "\n",
    "t1 = time.time()\n",
    "K = 3\n",
    "centroids = X[torch.randperm(len(X))[:K]]\n",
    "for _ in range(100):\n",
    "    D = torch.cdist(X, centroids)\n",
    "    clusters = torch.argmin(D, dim=1)\n",
    "    for k in range(K):\n",
    "        centroids[k] = X[clusters == k].mean(dim=0)\n",
    "print(time.time() - t1)"
   ],
   "id": "53ceb59e45191567",
   "outputs": [
    {
     "name": "stdout",
     "output_type": "stream",
     "text": [
      "5.993324041366577\n"
     ]
    }
   ],
   "execution_count": 15
  },
  {
   "metadata": {},
   "cell_type": "markdown",
   "source": "# Auto differentiation",
   "id": "665e1d1a31fcd578"
  },
  {
   "metadata": {
    "ExecuteTime": {
     "end_time": "2024-05-18T04:01:30.179004Z",
     "start_time": "2024-05-18T04:01:30.157015Z"
    }
   },
   "cell_type": "code",
   "source": [
    "x = torch.tensor(3., requires_grad=True)\n",
    "y = x**2 + 2*x + 1 \n",
    "# y' = 2x + 2\n",
    "y.backward()"
   ],
   "id": "1e5c7e5a52542ce6",
   "outputs": [],
   "execution_count": 62
  },
  {
   "metadata": {
    "ExecuteTime": {
     "end_time": "2024-05-18T04:01:46.381056Z",
     "start_time": "2024-05-18T04:01:46.361172Z"
    }
   },
   "cell_type": "code",
   "source": "x.grad # 2(3) + 2",
   "id": "3166146d2351ce23",
   "outputs": [
    {
     "data": {
      "text/plain": [
       "tensor(8.)"
      ]
     },
     "execution_count": 65,
     "metadata": {},
     "output_type": "execute_result"
    }
   ],
   "execution_count": 65
  },
  {
   "metadata": {},
   "cell_type": "markdown",
   "source": "# Regression",
   "id": "ea5ad1d8094dff47"
  },
  {
   "metadata": {
    "ExecuteTime": {
     "end_time": "2024-05-18T04:06:12.430627Z",
     "start_time": "2024-05-18T04:06:12.279530Z"
    }
   },
   "cell_type": "code",
   "source": [
    "N = 100\n",
    "x = torch.rand(N, 1)\n",
    "y = torch.sin(3 * x + 1) + 0.5 * torch.rand(N, 1)\n",
    "plt.scatter(x, y)"
   ],
   "id": "8edd69794556a53c",
   "outputs": [
    {
     "data": {
      "text/plain": [
       "<matplotlib.collections.PathCollection at 0x17cb50762b0>"
      ]
     },
     "execution_count": 66,
     "metadata": {},
     "output_type": "execute_result"
    },
    {
     "data": {
      "text/plain": [
       "<Figure size 640x480 with 1 Axes>"
      ],
      "image/png": "[encoded data removed]"
     },
     "metadata": {},
     "output_type": "display_data"
    }
   ],
   "execution_count": 66
  },
  {
   "metadata": {
    "ExecuteTime": {
     "end_time": "2024-05-18T04:11:39.365043Z",
     "start_time": "2024-05-18T04:11:39.352645Z"
    }
   },
   "cell_type": "code",
   "source": [
    "ones = torch.ones(N, 1)\n",
    "X = torch.cat([x, ones], dim=1)"
   ],
   "id": "227b2991ea8bd9bd",
   "outputs": [],
   "execution_count": 68
  },
  {
   "metadata": {
    "ExecuteTime": {
     "end_time": "2024-05-18T04:13:12.867982Z",
     "start_time": "2024-05-18T04:13:12.858221Z"
    }
   },
   "cell_type": "code",
   "source": "R = torch.inverse(X.T @ X) @ X.T @ y",
   "id": "6cf9337b3c2f2fb1",
   "outputs": [],
   "execution_count": 74
  },
  {
   "metadata": {
    "ExecuteTime": {
     "end_time": "2024-05-18T04:13:57.610104Z",
     "start_time": "2024-05-18T04:13:57.604105Z"
    }
   },
   "cell_type": "code",
   "source": "x_ = torch.linspace(0, 1, 100).reshape(-1, 1)",
   "id": "e13305e1e77863a8",
   "outputs": [],
   "execution_count": 76
  },
  {
   "metadata": {
    "ExecuteTime": {
     "end_time": "2024-05-18T04:15:03.330935Z",
     "start_time": "2024-05-18T04:15:03.314421Z"
    }
   },
   "cell_type": "code",
   "source": "y_ = x_ * R[0] + R[1]",
   "id": "a8c85031aa752678",
   "outputs": [],
   "execution_count": 82
  },
  {
   "metadata": {
    "ExecuteTime": {
     "end_time": "2024-05-18T04:15:41.594463Z",
     "start_time": "2024-05-18T04:15:41.465377Z"
    }
   },
   "cell_type": "code",
   "source": [
    "plt.scatter(x, y)\n",
    "plt.scatter(x_, y_, color='r')\n",
    "plt.show()"
   ],
   "id": "2a7804e1e0a6ad01",
   "outputs": [
    {
     "data": {
      "text/plain": [
       "<Figure size 640x480 with 1 Axes>"
      ],
      "image/png": "[encoded data removed]"
     },
     "metadata": {},
     "output_type": "display_data"
    }
   ],
   "execution_count": 83
  },
  {
   "metadata": {},
   "cell_type": "markdown",
   "source": "nonlinear",
   "id": "d315078521de2f9b"
  },
  {
   "metadata": {
    "ExecuteTime": {
     "end_time": "2024-05-18T04:17:30.783470Z",
     "start_time": "2024-05-18T04:17:30.777308Z"
    }
   },
   "cell_type": "code",
   "source": [
    "ones = torch.ones(N, 1)\n",
    "X = torch.cat([x**2, x, ones], dim=1)"
   ],
   "id": "77f555713a9f006",
   "outputs": [],
   "execution_count": 84
  },
  {
   "metadata": {
    "ExecuteTime": {
     "end_time": "2024-05-18T04:17:50.331152Z",
     "start_time": "2024-05-18T04:17:50.324571Z"
    }
   },
   "cell_type": "code",
   "source": "R = torch.inverse(X.T @ X) @ X.T @ y",
   "id": "e9b38034a6884f73",
   "outputs": [],
   "execution_count": 86
  },
  {
   "metadata": {
    "ExecuteTime": {
     "end_time": "2024-05-18T04:18:45.053175Z",
     "start_time": "2024-05-18T04:18:45.038933Z"
    }
   },
   "cell_type": "code",
   "source": "y_ = x_**2 * R[0] + x_ * R[1] + R[2]",
   "id": "4a3103cd28cab953",
   "outputs": [],
   "execution_count": 88
  },
  {
   "metadata": {
    "ExecuteTime": {
     "end_time": "2024-05-18T04:18:51.743594Z",
     "start_time": "2024-05-18T04:18:51.593916Z"
    }
   },
   "cell_type": "code",
   "source": [
    "plt.scatter(x, y)\n",
    "plt.scatter(x_, y_, color='r')\n",
    "plt.show()"
   ],
   "id": "715bd90e2b22fba5",
   "outputs": [
    {
     "data": {
      "text/plain": [
       "<Figure size 640x480 with 1 Axes>"
      ],
      "image/png": "[encoded data removed]"
     },
     "metadata": {},
     "output_type": "display_data"
    }
   ],
   "execution_count": 89
  },
  {
   "metadata": {
    "ExecuteTime": {
     "end_time": "2024-05-18T04:31:57.006587Z",
     "start_time": "2024-05-18T04:31:54.194587Z"
    }
   },
   "cell_type": "code",
   "source": [
    "device = 'cpu'\n",
    "\n",
    "N = 100000000\n",
    "x = torch.rand(N, 1).to(device)\n",
    "y = torch.sin(3 * x + 1) + 0.5 * torch.rand(N, 1).to(device)\n",
    "\n",
    "t1 = time.time()\n",
    "degree = 1\n",
    "ones = torch.ones(N, 1).to(device)\n",
    "X = torch.cat([x, ones], dim=1)\n",
    "for i in range(2, degree + 1):\n",
    "    X = torch.cat([x**i, X], dim=1)\n",
    "R = torch.inverse(X.T @ X) @ X.T @ y\n",
    "print(time.time() - t1)"
   ],
   "id": "efc9e188c66e967",
   "outputs": [
    {
     "name": "stdout",
     "output_type": "stream",
     "text": [
      "0.726722240447998\n"
     ]
    }
   ],
   "execution_count": 134
  },
  {
   "metadata": {},
   "cell_type": "markdown",
   "source": "# MLP",
   "id": "2203c236fc396e6b"
  },
  {
   "metadata": {
    "ExecuteTime": {
     "end_time": "2024-05-18T06:02:08.111550Z",
     "start_time": "2024-05-18T06:02:08.102037Z"
    }
   },
   "cell_type": "code",
   "source": "from torch import nn",
   "id": "f7e25fcc705cad8",
   "outputs": [],
   "execution_count": 135
  },
  {
   "metadata": {
    "ExecuteTime": {
     "end_time": "2024-05-18T06:10:46.017552Z",
     "start_time": "2024-05-18T06:10:46.003578Z"
    }
   },
   "cell_type": "code",
   "source": [
    "# [1] 32 16 [1]\n",
    "class Regressor(nn.Module):\n",
    "    def __init__(self):\n",
    "        super().__init__()\n",
    "        self.fc1 = nn.Linear(1, 32)\n",
    "        self.fc2 = nn.Linear(32, 16)\n",
    "        self.fc3 = nn.Linear(16, 1)\n",
    "    def forward(self, x):\n",
    "        x = torch.sigmoid(self.fc1(x))\n",
    "        x = torch.sigmoid(self.fc2(x))\n",
    "        return self.fc3(x)"
   ],
   "id": "a69b8497563b6694",
   "outputs": [],
   "execution_count": 136
  },
  {
   "metadata": {
    "ExecuteTime": {
     "end_time": "2024-05-18T06:14:07.567398Z",
     "start_time": "2024-05-18T06:14:07.556187Z"
    }
   },
   "cell_type": "code",
   "source": "(1*32+32) + (32*16+16) + (16*1+1)",
   "id": "bebebcfd80cc28fb",
   "outputs": [
    {
     "data": {
      "text/plain": [
       "609"
      ]
     },
     "execution_count": 140,
     "metadata": {},
     "output_type": "execute_result"
    }
   ],
   "execution_count": 140
  },
  {
   "metadata": {
    "ExecuteTime": {
     "end_time": "2024-05-18T06:14:20.468478Z",
     "start_time": "2024-05-18T06:14:20.448450Z"
    }
   },
   "cell_type": "code",
   "source": "model = Regressor()",
   "id": "2476059a2d85c276",
   "outputs": [],
   "execution_count": 141
  },
  {
   "metadata": {
    "ExecuteTime": {
     "end_time": "2024-05-18T06:15:23.443822Z",
     "start_time": "2024-05-18T06:15:23.436664Z"
    }
   },
   "cell_type": "code",
   "source": "gen = iter(model.parameters())",
   "id": "6d596bb872ef5e3",
   "outputs": [],
   "execution_count": 146
  },
  {
   "metadata": {
    "ExecuteTime": {
     "end_time": "2024-05-18T06:16:02.718003Z",
     "start_time": "2024-05-18T06:16:02.707772Z"
    }
   },
   "cell_type": "code",
   "source": "next(gen).shape",
   "id": "b8610e63c4074c91",
   "outputs": [
    {
     "data": {
      "text/plain": [
       "torch.Size([1])"
      ]
     },
     "execution_count": 152,
     "metadata": {},
     "output_type": "execute_result"
    }
   ],
   "execution_count": 152
  },
  {
   "metadata": {
    "ExecuteTime": {
     "end_time": "2024-05-18T06:28:52.750879Z",
     "start_time": "2024-05-18T06:28:52.614791Z"
    }
   },
   "cell_type": "code",
   "source": [
    "N = 1000\n",
    "x = torch.rand(N, 1).to(device)\n",
    "y = torch.sin(3 * x + 1) + 0.5 * torch.rand(N, 1).to(device)"
   ],
   "id": "62fed73ddee762e3",
   "outputs": [],
   "execution_count": 155
  },
  {
   "metadata": {
    "ExecuteTime": {
     "end_time": "2024-05-18T06:39:24.963513Z",
     "start_time": "2024-05-18T06:39:12.967417Z"
    }
   },
   "cell_type": "code",
   "source": [
    "device = 'cuda' \n",
    "\n",
    "model = model.to(device)\n",
    "\n",
    "criterion = nn.MSELoss()\n",
    "optimizer = torch.optim.SGD(model.parameters(), lr=0.1)\n",
    "\n",
    "model.train()\n",
    "for epoch in range(5000):\n",
    "    y_ = model(x.to(device))\n",
    "    loss = criterion(y_, y.to(device))\n",
    "    \n",
    "    optimizer.zero_grad()\n",
    "    loss.backward()\n",
    "    optimizer.step()\n",
    "    if epoch % 100 == 0:\n",
    "        print(f'{epoch}: {loss.item()}')"
   ],
   "id": "71fc4ce868c29a26",
   "outputs": [
    {
     "name": "stdout",
     "output_type": "stream",
     "text": [
      "0: 0.021910324692726135\n",
      "100: 0.02190151810646057\n",
      "200: 0.021893003955483437\n",
      "300: 0.02188478223979473\n",
      "400: 0.021876834332942963\n",
      "500: 0.021869158372282982\n",
      "600: 0.021861745044589043\n",
      "700: 0.02185457944869995\n",
      "800: 0.02184765413403511\n",
      "900: 0.02184097096323967\n",
      "1000: 0.02183450758457184\n",
      "1100: 0.021828267723321915\n",
      "1200: 0.021822236478328705\n",
      "1300: 0.021816406399011612\n",
      "1400: 0.02181076817214489\n",
      "1500: 0.02180532179772854\n",
      "1600: 0.021800054237246513\n",
      "1700: 0.021794956177473068\n",
      "1800: 0.021790029481053352\n",
      "1900: 0.021785257384181023\n",
      "2000: 0.02178063616156578\n",
      "2100: 0.021776162087917328\n",
      "2200: 0.021771827712655067\n",
      "2300: 0.0217676293104887\n",
      "2400: 0.021763557568192482\n",
      "2500: 0.021759605035185814\n",
      "2600: 0.021755769848823547\n",
      "2700: 0.021752052009105682\n",
      "2800: 0.021748436614871025\n",
      "2900: 0.021744923666119576\n",
      "3000: 0.021741509437561035\n",
      "3100: 0.02173818275332451\n",
      "3200: 0.021734952926635742\n",
      "3300: 0.021731801331043243\n",
      "3400: 0.02172873169183731\n",
      "3500: 0.021725740283727646\n",
      "3600: 0.02172281965613365\n",
      "3700: 0.021719971671700478\n",
      "3800: 0.021717185154557228\n",
      "3900: 0.0217144638299942\n",
      "4000: 0.021711798384785652\n",
      "4100: 0.02170919068157673\n",
      "4200: 0.021706636995077133\n",
      "4300: 0.021704133599996567\n",
      "4400: 0.02170168049633503\n",
      "4500: 0.021699272096157074\n",
      "4600: 0.0216969046741724\n",
      "4700: 0.02169458195567131\n",
      "4800: 0.021692300215363503\n",
      "4900: 0.02169005386531353\n"
     ]
    }
   ],
   "execution_count": 174
  },
  {
   "metadata": {
    "ExecuteTime": {
     "end_time": "2024-05-18T06:40:42.269091Z",
     "start_time": "2024-05-18T06:40:42.115146Z"
    }
   },
   "cell_type": "code",
   "source": [
    "x_ = torch.linspace(0, 1, 100).reshape(-1, 1)\n",
    "model.eval()\n",
    "with torch.no_grad():\n",
    "    y_ = model(x_.to(device))\n",
    "plt.scatter(x, y)\n",
    "plt.scatter(x_, y_.cpu(), color='r')\n",
    "plt.show()"
   ],
   "id": "159cfd4a048dd87",
   "outputs": [
    {
     "data": {
      "text/plain": [
       "<Figure size 640x480 with 1 Axes>"
      ],
      "image/png": "[encoded data removed]"
     },
     "metadata": {},
     "output_type": "display_data"
    }
   ],
   "execution_count": 177
  },
  {
   "metadata": {},
   "cell_type": "markdown",
   "source": "# Classification",
   "id": "eff0182fc54b2c37"
  },
  {
   "metadata": {
    "ExecuteTime": {
     "end_time": "2024-05-18T06:42:52.051321Z",
     "start_time": "2024-05-18T06:42:52.034277Z"
    }
   },
   "cell_type": "code",
   "source": "N",
   "id": "6b926bf4bdb01744",
   "outputs": [
    {
     "data": {
      "text/plain": [
       "100"
      ]
     },
     "execution_count": 182,
     "metadata": {},
     "output_type": "execute_result"
    }
   ],
   "execution_count": 182
  },
  {
   "metadata": {
    "ExecuteTime": {
     "end_time": "2024-05-18T06:42:18.590726Z",
     "start_time": "2024-05-18T06:42:18.573786Z"
    }
   },
   "cell_type": "code",
   "source": "X.shape",
   "id": "1015b382e0345b4e",
   "outputs": [
    {
     "data": {
      "text/plain": [
       "torch.Size([300, 2])"
      ]
     },
     "execution_count": 181,
     "metadata": {},
     "output_type": "execute_result"
    }
   ],
   "execution_count": 181
  },
  {
   "metadata": {
    "ExecuteTime": {
     "end_time": "2024-05-18T06:43:06.436975Z",
     "start_time": "2024-05-18T06:43:06.423940Z"
    }
   },
   "cell_type": "code",
   "source": "Y = torch.cat([torch.zeros(N), torch.ones(N), torch.ones(N) * 2]).long()",
   "id": "5bfb56eccde99e16",
   "outputs": [],
   "execution_count": 183
  },
  {
   "metadata": {
    "ExecuteTime": {
     "end_time": "2024-05-18T06:43:08.043258Z",
     "start_time": "2024-05-18T06:43:08.032764Z"
    }
   },
   "cell_type": "code",
   "source": "Y",
   "id": "3e2ddbae6acc1904",
   "outputs": [
    {
     "data": {
      "text/plain": [
       "tensor([0, 0, 0, 0, 0, 0, 0, 0, 0, 0, 0, 0, 0, 0, 0, 0, 0, 0, 0, 0, 0, 0, 0, 0,\n",
       "        0, 0, 0, 0, 0, 0, 0, 0, 0, 0, 0, 0, 0, 0, 0, 0, 0, 0, 0, 0, 0, 0, 0, 0,\n",
       "        0, 0, 0, 0, 0, 0, 0, 0, 0, 0, 0, 0, 0, 0, 0, 0, 0, 0, 0, 0, 0, 0, 0, 0,\n",
       "        0, 0, 0, 0, 0, 0, 0, 0, 0, 0, 0, 0, 0, 0, 0, 0, 0, 0, 0, 0, 0, 0, 0, 0,\n",
       "        0, 0, 0, 0, 1, 1, 1, 1, 1, 1, 1, 1, 1, 1, 1, 1, 1, 1, 1, 1, 1, 1, 1, 1,\n",
       "        1, 1, 1, 1, 1, 1, 1, 1, 1, 1, 1, 1, 1, 1, 1, 1, 1, 1, 1, 1, 1, 1, 1, 1,\n",
       "        1, 1, 1, 1, 1, 1, 1, 1, 1, 1, 1, 1, 1, 1, 1, 1, 1, 1, 1, 1, 1, 1, 1, 1,\n",
       "        1, 1, 1, 1, 1, 1, 1, 1, 1, 1, 1, 1, 1, 1, 1, 1, 1, 1, 1, 1, 1, 1, 1, 1,\n",
       "        1, 1, 1, 1, 1, 1, 1, 1, 2, 2, 2, 2, 2, 2, 2, 2, 2, 2, 2, 2, 2, 2, 2, 2,\n",
       "        2, 2, 2, 2, 2, 2, 2, 2, 2, 2, 2, 2, 2, 2, 2, 2, 2, 2, 2, 2, 2, 2, 2, 2,\n",
       "        2, 2, 2, 2, 2, 2, 2, 2, 2, 2, 2, 2, 2, 2, 2, 2, 2, 2, 2, 2, 2, 2, 2, 2,\n",
       "        2, 2, 2, 2, 2, 2, 2, 2, 2, 2, 2, 2, 2, 2, 2, 2, 2, 2, 2, 2, 2, 2, 2, 2,\n",
       "        2, 2, 2, 2, 2, 2, 2, 2, 2, 2, 2, 2])"
      ]
     },
     "execution_count": 184,
     "metadata": {},
     "output_type": "execute_result"
    }
   ],
   "execution_count": 184
  },
  {
   "metadata": {
    "ExecuteTime": {
     "end_time": "2024-05-18T06:45:06.063783Z",
     "start_time": "2024-05-18T06:45:06.053272Z"
    }
   },
   "cell_type": "code",
   "source": "X.shape[1]",
   "id": "fc110dece76492f6",
   "outputs": [
    {
     "data": {
      "text/plain": [
       "2"
      ]
     },
     "execution_count": 185,
     "metadata": {},
     "output_type": "execute_result"
    }
   ],
   "execution_count": 185
  },
  {
   "metadata": {
    "ExecuteTime": {
     "end_time": "2024-05-18T06:45:27.248695Z",
     "start_time": "2024-05-18T06:45:27.241177Z"
    }
   },
   "cell_type": "code",
   "source": "len(Y.unique())",
   "id": "48d64afbd1217c79",
   "outputs": [
    {
     "data": {
      "text/plain": [
       "3"
      ]
     },
     "execution_count": 187,
     "metadata": {},
     "output_type": "execute_result"
    }
   ],
   "execution_count": 187
  },
  {
   "metadata": {
    "ExecuteTime": {
     "end_time": "2024-05-18T06:52:22.870589Z",
     "start_time": "2024-05-18T06:52:22.857533Z"
    }
   },
   "cell_type": "code",
   "source": [
    "# [2] 32 16 [3]\n",
    "class Classifier(nn.Module):\n",
    "    def __init__(self):\n",
    "        super().__init__()\n",
    "        self.fc1 = nn.Linear(2, 32)\n",
    "        self.fc2 = nn.Linear(32, 16)\n",
    "        self.fc3 = nn.Linear(16, 3)\n",
    "    def forward(self, x):\n",
    "        x = torch.sigmoid(self.fc1(x))\n",
    "        x = torch.sigmoid(self.fc2(x))\n",
    "        return torch.sigmoid(self.fc3(x))"
   ],
   "id": "943124dcb7812b70",
   "outputs": [],
   "execution_count": 188
  },
  {
   "metadata": {
    "ExecuteTime": {
     "end_time": "2024-05-18T06:54:07.313677Z",
     "start_time": "2024-05-18T06:54:07.299214Z"
    }
   },
   "cell_type": "code",
   "source": "model = Classifier()",
   "id": "b8923d99a94fba40",
   "outputs": [],
   "execution_count": 190
  },
  {
   "metadata": {
    "ExecuteTime": {
     "end_time": "2024-05-18T06:54:39.435921Z",
     "start_time": "2024-05-18T06:54:27.233812Z"
    }
   },
   "cell_type": "code",
   "source": [
    "device = 'cuda' if torch.cuda.is_available() else 'cpu'\n",
    "\n",
    "model = model.to(device)\n",
    "\n",
    "criterion = nn.CrossEntropyLoss()\n",
    "optimizer = torch.optim.SGD(model.parameters(), lr=0.1)\n",
    "\n",
    "model.train()\n",
    "for epoch in range(5000):\n",
    "    y_ = model(X.to(device))\n",
    "    loss = criterion(y_, Y.to(device))\n",
    "    \n",
    "    optimizer.zero_grad()\n",
    "    loss.backward()\n",
    "    optimizer.step()\n",
    "    if epoch % 100 == 0:\n",
    "        print(f'{epoch}: {loss.item()}')"
   ],
   "id": "3e11357108aefcaa",
   "outputs": [
    {
     "name": "stdout",
     "output_type": "stream",
     "text": [
      "0: 0.5961902141571045\n",
      "100: 0.5957861542701721\n",
      "200: 0.5953940749168396\n",
      "300: 0.5950131416320801\n",
      "400: 0.5946427583694458\n",
      "500: 0.5942821502685547\n",
      "600: 0.5939308404922485\n",
      "700: 0.5935882925987244\n",
      "800: 0.5932542681694031\n",
      "900: 0.5929282307624817\n",
      "1000: 0.592609703540802\n",
      "1100: 0.5922985076904297\n",
      "1200: 0.5919941067695618\n",
      "1300: 0.5916964411735535\n",
      "1400: 0.5914053916931152\n",
      "1500: 0.591120183467865\n",
      "1600: 0.5908411741256714\n",
      "1700: 0.5905678272247314\n",
      "1800: 0.5903000235557556\n",
      "1900: 0.5900377631187439\n",
      "2000: 0.5897807478904724\n",
      "2100: 0.5895287990570068\n",
      "2200: 0.5892817974090576\n",
      "2300: 0.5890397429466248\n",
      "2400: 0.5888022780418396\n",
      "2500: 0.5885694622993469\n",
      "2600: 0.5883411169052124\n",
      "2700: 0.588117241859436\n",
      "2800: 0.5878977179527283\n",
      "2900: 0.5876822471618652\n",
      "3000: 0.587471067905426\n",
      "3100: 0.5872639417648315\n",
      "3200: 0.587060809135437\n",
      "3300: 0.5868615508079529\n",
      "3400: 0.5866661071777344\n",
      "3500: 0.5864744782447815\n",
      "3600: 0.5862865447998047\n",
      "3700: 0.586102306842804\n",
      "3800: 0.5859214663505554\n",
      "3900: 0.5857442617416382\n",
      "4000: 0.5855706334114075\n",
      "4100: 0.5854002237319946\n",
      "4200: 0.5852330327033997\n",
      "4300: 0.5850693583488464\n",
      "4400: 0.5849087834358215\n",
      "4500: 0.5847513675689697\n",
      "4600: 0.5845970511436462\n",
      "4700: 0.5844457149505615\n",
      "4800: 0.5842972993850708\n",
      "4900: 0.5841518640518188\n"
     ]
    }
   ],
   "execution_count": 192
  },
  {
   "metadata": {
    "ExecuteTime": {
     "end_time": "2024-05-18T06:56:44.077754Z",
     "start_time": "2024-05-18T06:56:44.057216Z"
    }
   },
   "cell_type": "code",
   "source": [
    "model.eval()\n",
    "with torch.no_grad():\n",
    "    y_ = model(X.to(device))\n",
    "acc = torch.sum(Y == y_.argmax(dim=1).cpu()) / len(Y)\n",
    "print(acc.item())"
   ],
   "id": "be3bc0471fa412bf",
   "outputs": [
    {
     "name": "stdout",
     "output_type": "stream",
     "text": [
      "0.9733333587646484\n"
     ]
    }
   ],
   "execution_count": 195
  },
  {
   "metadata": {
    "ExecuteTime": {
     "end_time": "2024-05-24T13:44:42.129296Z",
     "start_time": "2024-05-24T13:44:35.861089Z"
    }
   },
   "cell_type": "code",
   "source": [
    "from sklearn.datasets import load_iris\n",
    "import numpy as np\n",
    "df = load_iris(as_frame=True)"
   ],
   "id": "22e03210e086c272",
   "outputs": [],
   "execution_count": 2
  },
  {
   "metadata": {
    "ExecuteTime": {
     "end_time": "2024-05-24T13:44:42.142204Z",
     "start_time": "2024-05-24T13:44:42.130203Z"
    }
   },
   "cell_type": "code",
   "source": [
    "itrain = np.r_[0:25, 50:75, 100:125]\n",
    "itest = np.r_[25:50, 75:100, 125:150]\n",
    "xtrain = df['data'].iloc[itrain].values\n",
    "xtest = df['data'].iloc[itest].values\n",
    "ytrain = df['target'].iloc[itrain].values\n",
    "ytest = df['target'].iloc[itest].values"
   ],
   "id": "5daa8f02316fd4db",
   "outputs": [],
   "execution_count": 3
  },
  {
   "metadata": {
    "ExecuteTime": {
     "end_time": "2024-05-24T13:44:42.156209Z",
     "start_time": "2024-05-24T13:44:42.144203Z"
    }
   },
   "cell_type": "code",
   "source": "xtrain.shape",
   "id": "29636fd574cb64a1",
   "outputs": [
    {
     "data": {
      "text/plain": [
       "(75, 4)"
      ]
     },
     "execution_count": 4,
     "metadata": {},
     "output_type": "execute_result"
    }
   ],
   "execution_count": 4
  },
  {
   "metadata": {
    "ExecuteTime": {
     "end_time": "2024-05-24T02:37:14.219990Z",
     "start_time": "2024-05-24T02:37:14.211933Z"
    }
   },
   "cell_type": "code",
   "source": "len(np.unique(ytrain))",
   "id": "fccbd2c04fb315cd",
   "outputs": [
    {
     "data": {
      "text/plain": [
       "3"
      ]
     },
     "execution_count": 4,
     "metadata": {},
     "output_type": "execute_result"
    }
   ],
   "execution_count": 4
  },
  {
   "metadata": {
    "ExecuteTime": {
     "end_time": "2024-05-24T13:44:35.858085Z",
     "start_time": "2024-05-24T13:44:24.352479Z"
    }
   },
   "cell_type": "code",
   "source": [
    "from torch import nn\n",
    "import torch\n",
    "m = nn.LogSigmoid()\n",
    "input = torch.randn(2)\n",
    "input"
   ],
   "id": "652548c19e2b4e26",
   "outputs": [
    {
     "data": {
      "text/plain": [
       "tensor([ 0.7902, -1.5192])"
      ]
     },
     "execution_count": 1,
     "metadata": {},
     "output_type": "execute_result"
    }
   ],
   "execution_count": 1
  },
  {
   "metadata": {
    "ExecuteTime": {
     "end_time": "2024-05-24T02:43:35.415703Z",
     "start_time": "2024-05-24T02:43:35.408205Z"
    }
   },
   "cell_type": "code",
   "source": [
    "\n",
    "output = m(input)\n",
    "output"
   ],
   "id": "863e80c2d880173c",
   "outputs": [
    {
     "data": {
      "text/plain": [
       "tensor([-1.1776, -1.7592])"
      ]
     },
     "execution_count": 9,
     "metadata": {},
     "output_type": "execute_result"
    }
   ],
   "execution_count": 9
  },
  {
   "metadata": {
    "ExecuteTime": {
     "end_time": "2024-05-24T03:29:40.639471Z",
     "start_time": "2024-05-24T03:29:40.633825Z"
    }
   },
   "cell_type": "code",
   "source": [
    "t = torch.rand(4, 4)\n",
    "b = t.view(2, 8)\n",
    "t.storage().data_ptr() == b.storage().data_ptr()  # `t` and `b` share the same underlying data.\n"
   ],
   "id": "3d1fad7e47833160",
   "outputs": [
    {
     "data": {
      "text/plain": [
       "True"
      ]
     },
     "execution_count": 60,
     "metadata": {},
     "output_type": "execute_result"
    }
   ],
   "execution_count": 60
  },
  {
   "metadata": {
    "ExecuteTime": {
     "end_time": "2024-05-24T03:30:19.902044Z",
     "start_time": "2024-05-24T03:30:19.896043Z"
    }
   },
   "cell_type": "code",
   "source": [
    "b[0][0] = 3.14\n",
    "t[0][0] # เปลี่ยนตาม"
   ],
   "id": "f7d15f500c042127",
   "outputs": [
    {
     "data": {
      "text/plain": [
       "tensor(3.1400)"
      ]
     },
     "execution_count": 64,
     "metadata": {},
     "output_type": "execute_result"
    }
   ],
   "execution_count": 64
  },
  {
   "metadata": {
    "ExecuteTime": {
     "end_time": "2024-05-24T13:44:42.170206Z",
     "start_time": "2024-05-24T13:44:42.159211Z"
    }
   },
   "cell_type": "code",
   "source": [
    "# [4] 128 [3]\n",
    "class Classifier(nn.Module):\n",
    "    def __init__(self):\n",
    "        super().__init__()\n",
    "        self.fc1 = nn.Linear(4, 128)\n",
    "        self.fc2 = nn.Linear(128, 64)\n",
    "        self.fc3 = nn.Linear(64, 3)\n",
    "    def forward(self, x):\n",
    "        x = torch.relu(self.fc1(x))\n",
    "        x = nn.functional.leaky_relu(self.fc2(x))\n",
    "        return torch.softmax(self.fc3(x), dim=1)"
   ],
   "id": "a5adbcaeb19cb667",
   "outputs": [],
   "execution_count": 5
  },
  {
   "metadata": {
    "ExecuteTime": {
     "end_time": "2024-05-24T13:44:42.189206Z",
     "start_time": "2024-05-24T13:44:42.173205Z"
    }
   },
   "cell_type": "code",
   "source": "xtrain_ = torch.tensor(xtrain, dtype=torch.float32)",
   "id": "80fb5ed5e7016d14",
   "outputs": [],
   "execution_count": 6
  },
  {
   "metadata": {
    "ExecuteTime": {
     "end_time": "2024-05-24T13:44:42.200741Z",
     "start_time": "2024-05-24T13:44:42.194727Z"
    }
   },
   "cell_type": "code",
   "source": "xtest_ = torch.tensor(xtest, dtype=torch.float32)",
   "id": "e6bbfa4619e44e38",
   "outputs": [],
   "execution_count": 7
  },
  {
   "metadata": {
    "ExecuteTime": {
     "end_time": "2024-05-24T13:44:42.211730Z",
     "start_time": "2024-05-24T13:44:42.204727Z"
    }
   },
   "cell_type": "code",
   "source": "ytrain_ = torch.tensor(ytrain, dtype=torch.long)",
   "id": "bf6cb7b1d5824bf",
   "outputs": [],
   "execution_count": 8
  },
  {
   "metadata": {
    "ExecuteTime": {
     "end_time": "2024-05-24T13:44:42.220915Z",
     "start_time": "2024-05-24T13:44:42.214725Z"
    }
   },
   "cell_type": "code",
   "source": "ytest_ = torch.tensor(ytest, dtype=torch.long)",
   "id": "549f38a314b1e7eb",
   "outputs": [],
   "execution_count": 9
  },
  {
   "metadata": {
    "ExecuteTime": {
     "end_time": "2024-05-24T13:44:42.245872Z",
     "start_time": "2024-05-24T13:44:42.225911Z"
    }
   },
   "cell_type": "code",
   "source": "model = Classifier()",
   "id": "b5237e5559bdc5f9",
   "outputs": [],
   "execution_count": 10
  },
  {
   "metadata": {
    "ExecuteTime": {
     "end_time": "2024-05-24T13:44:56.054498Z",
     "start_time": "2024-05-24T13:44:42.248864Z"
    }
   },
   "cell_type": "code",
   "source": [
    "device = 'cuda' if torch.cuda.is_available() else 'cpu'\n",
    "\n",
    "model = model.to(device)\n",
    "\n",
    "criterion = nn.CrossEntropyLoss()\n",
    "optimizer = torch.optim.Adam(model.parameters(), lr=0.01)\n",
    "\n",
    "model.train()\n",
    "for epoch in range(2000):\n",
    "    y_ = model(xtrain_.to(device))\n",
    "    loss = criterion(y_, ytrain_.to(device))\n",
    "    \n",
    "    optimizer.zero_grad()\n",
    "    loss.backward()\n",
    "    optimizer.step()\n",
    "    if epoch % 500 == 0:\n",
    "        print(f'{epoch}: {loss.item()}')"
   ],
   "id": "3cf5c9abdc983aa6",
   "outputs": [
    {
     "name": "stdout",
     "output_type": "stream",
     "text": [
      "0: 1.0968555212020874\n",
      "500: 0.5515499114990234\n",
      "1000: 0.5514682531356812\n",
      "1500: 0.5514545440673828\n"
     ]
    }
   ],
   "execution_count": 11
  },
  {
   "metadata": {
    "ExecuteTime": {
     "end_time": "2024-05-24T13:44:56.117737Z",
     "start_time": "2024-05-24T13:44:56.056500Z"
    }
   },
   "cell_type": "code",
   "source": [
    "model.eval()\n",
    "with torch.no_grad():\n",
    "    y_ = model(xtest_.to(device))\n",
    "acc = torch.sum(ytest_ == y_.argmax(dim=1).cpu()) / len(y_)\n",
    "print(acc.item())"
   ],
   "id": "6af959e9e00f8fb5",
   "outputs": [
    {
     "name": "stdout",
     "output_type": "stream",
     "text": [
      "0.9066666960716248\n"
     ]
    }
   ],
   "execution_count": 12
  },
  {
   "metadata": {
    "ExecuteTime": {
     "end_time": "2024-05-24T13:44:56.145844Z",
     "start_time": "2024-05-24T13:44:56.120730Z"
    }
   },
   "cell_type": "code",
   "source": "torch.save(model.state_dict(), 'model.pth') ",
   "id": "6576525e3c7feda7",
   "outputs": [],
   "execution_count": 13
  },
  {
   "metadata": {
    "ExecuteTime": {
     "end_time": "2024-05-18T07:47:34.920942Z",
     "start_time": "2024-05-18T07:47:34.849734Z"
    }
   },
   "cell_type": "code",
   "source": "model.state_dict()",
   "id": "53f820a3e43767e",
   "outputs": [
    {
     "data": {
      "text/plain": [
       "OrderedDict([('fc1.weight',\n",
       "              tensor([[ 1.5635e-02,  9.3973e-01, -5.1401e-02, -1.8669e+00],\n",
       "                      [-1.2709e-01,  9.8758e-01,  2.5959e-02, -1.5577e+00],\n",
       "                      [ 1.9789e-02,  8.1291e-01, -1.0007e-01, -1.4440e+00],\n",
       "                      [ 1.6696e-01, -4.8432e-01,  5.1615e-01,  1.0068e+00],\n",
       "                      [-1.9540e-01, -3.9771e-02,  7.7054e-01,  1.3444e+00],\n",
       "                      [ 1.8247e-01, -3.0524e-02,  3.4909e-01, -3.6004e-01],\n",
       "                      [ 6.0604e-02, -3.5066e-01,  7.4853e-01,  1.8979e-01],\n",
       "                      [-1.4475e-01, -2.3354e-01,  5.5877e-01,  8.0914e-01],\n",
       "                      [-9.1416e-02, -4.5914e-01,  1.7087e-01,  1.0934e-01],\n",
       "                      [-1.8097e-01,  1.9661e-01, -2.1704e-01,  1.1011e-01],\n",
       "                      [-2.2164e-01, -1.6700e-01,  3.1598e-01,  1.4507e+00],\n",
       "                      [-3.7634e-01,  4.4914e-01, -2.1666e-01,  8.8050e-03],\n",
       "                      [-3.2349e-01, -5.4216e-02,  6.4399e-01,  1.2370e+00],\n",
       "                      [ 2.7518e-01,  6.5468e-01, -5.7265e-01, -8.1373e-01],\n",
       "                      [-1.2852e-02, -3.1577e-01,  6.3070e-01,  8.3755e-01],\n",
       "                      [ 2.2732e-02, -4.7506e-01, -1.6581e-01,  3.1004e-01],\n",
       "                      [-2.0740e-01,  1.2056e-01, -4.6104e-01, -2.0024e-01],\n",
       "                      [-1.5718e-01, -4.6705e-01,  8.0366e-02, -4.8402e-01],\n",
       "                      [ 4.7817e-01,  2.6106e-01, -6.3613e-01, -6.7069e-01],\n",
       "                      [-1.4061e-01,  2.3301e-01, -3.0289e-01, -3.3369e-01],\n",
       "                      [ 5.1246e-01,  6.5079e-01, -6.6865e-01, -1.1961e+00],\n",
       "                      [ 4.7917e-01,  5.3917e-01, -4.6583e-01, -1.0888e+00],\n",
       "                      [-2.3972e-01, -3.3651e-01,  4.9626e-02, -3.4927e-01],\n",
       "                      [-1.0329e-01, -2.7568e-02,  5.8099e-01,  1.5051e+00],\n",
       "                      [-2.5453e-01, -7.0362e-02,  6.0673e-01,  1.3497e+00],\n",
       "                      [ 2.2301e-01,  7.5421e-01, -1.0090e+00, -9.4318e-01],\n",
       "                      [ 4.0083e-01,  7.1346e-01, -5.1256e-01, -1.1798e+00],\n",
       "                      [ 1.3879e-02, -3.0039e-01, -9.9318e-02, -4.1627e-01],\n",
       "                      [ 3.4055e-01,  2.1652e-01, -3.6368e-01, -3.8358e-01],\n",
       "                      [ 5.5364e-01,  1.3594e+00, -1.1707e+00, -1.9775e+00],\n",
       "                      [-4.9627e-01, -2.7934e-01,  4.5762e-01,  6.3024e-02],\n",
       "                      [ 1.8918e-01,  7.7213e-01, -5.0468e-01, -1.0138e+00],\n",
       "                      [-2.3891e-01, -2.4474e-01, -2.9156e-01,  2.5274e-01],\n",
       "                      [ 1.7647e-01, -2.3382e-01,  4.4616e-01,  6.0633e-01],\n",
       "                      [-1.4428e-01, -2.2139e-01,  3.2080e-01, -4.6078e-01],\n",
       "                      [-1.9732e-01,  2.8354e-01,  1.1303e-01,  5.5019e-01],\n",
       "                      [ 2.3734e-02, -3.2878e-01,  5.0795e-01,  1.0296e+00],\n",
       "                      [ 1.0332e-01, -4.9351e-01,  4.6370e-01,  1.6023e+00],\n",
       "                      [-1.6967e-01, -1.0713e-01,  2.8501e-01,  7.1669e-01],\n",
       "                      [-2.2516e-01, -3.1059e-02,  2.4202e-01, -4.3950e-01],\n",
       "                      [-4.1838e-01,  1.4214e-01,  3.2086e-01,  7.2329e-02],\n",
       "                      [ 3.7151e-01,  5.9127e-01, -3.2556e-01, -1.5343e+00],\n",
       "                      [-4.2301e-01,  3.4859e-01, -3.5566e-01,  1.9338e-01],\n",
       "                      [ 3.6446e-01, -8.7809e-01,  6.9543e-01,  7.5874e-01],\n",
       "                      [-6.3685e-02,  2.0671e-01, -4.6828e-01, -1.5244e-01],\n",
       "                      [-5.2308e-02, -1.3450e-01,  6.8763e-01,  1.4015e+00],\n",
       "                      [ 3.2188e-01,  7.2183e-01, -2.8336e-01, -1.1273e+00],\n",
       "                      [ 3.9349e-02, -8.0616e-02,  2.3907e-01, -2.4381e-01],\n",
       "                      [ 3.3574e-01, -7.1392e-01,  6.4942e-01,  1.2353e+00],\n",
       "                      [-2.7059e-01, -3.7500e-01, -2.4267e-01, -1.3109e-01],\n",
       "                      [ 4.9376e-01,  1.1474e+00, -1.1598e+00, -1.1033e+00],\n",
       "                      [ 2.6169e-01, -4.3323e-01,  4.9637e-01, -9.6027e-01],\n",
       "                      [ 3.2827e-01,  5.2526e-01,  6.7615e-02, -5.0596e-01],\n",
       "                      [ 2.8902e-01, -9.4654e-01,  1.7117e-01,  2.1394e+00],\n",
       "                      [-9.1946e-02, -3.6048e-01,  5.6331e-01, -4.0250e-01],\n",
       "                      [-3.1026e-01,  1.7436e-01,  8.6768e-02,  3.9490e-01],\n",
       "                      [-4.2136e-01,  1.5282e-01,  2.0430e-01, -3.9043e-01],\n",
       "                      [-2.5851e-01,  3.9067e-02, -3.6247e-01, -3.8420e-01],\n",
       "                      [-4.1640e-01, -4.6914e-01, -3.2050e-01, -1.5534e-02],\n",
       "                      [ 4.2268e-01,  9.3373e-01, -7.3386e-01, -1.0925e+00],\n",
       "                      [-4.3906e-01,  3.8001e-01, -2.9450e-01, -7.0427e-02],\n",
       "                      [ 6.1214e-01,  1.0326e-01, -5.4632e-01, -9.6594e-01],\n",
       "                      [-1.2925e-01, -4.0089e-02, -2.9624e-02, -1.3774e-01],\n",
       "                      [ 5.5279e-01,  3.2085e-01, -1.3847e-01, -1.1745e+00],\n",
       "                      [-3.0367e-01,  2.8390e-01, -1.5116e-01,  4.4228e-02],\n",
       "                      [ 2.4712e-01,  5.7999e-01, -2.7680e-01, -1.4210e+00],\n",
       "                      [-3.7094e-01,  2.8167e-01,  1.7368e-02, -5.0240e-01],\n",
       "                      [ 1.3814e-01, -2.7257e-01,  3.5221e-01,  3.2837e-01],\n",
       "                      [-2.8057e-01, -1.9666e-01, -2.9645e-01, -4.3560e-01],\n",
       "                      [-3.4563e-01, -1.0132e-01,  7.1141e-01,  9.8008e-01],\n",
       "                      [-2.8664e-01,  3.2550e-01, -3.7924e-01,  1.1333e-01],\n",
       "                      [ 4.4041e-01,  2.4872e-01, -1.7230e-01,  8.7307e-01],\n",
       "                      [ 4.3006e-01, -2.1814e-01,  3.1719e-01, -9.1727e-01],\n",
       "                      [-1.7382e-01, -3.9181e-01,  6.7288e-01,  5.0258e-01],\n",
       "                      [ 4.8961e-01,  4.7816e-01, -5.4645e-01, -1.3155e+00],\n",
       "                      [-2.6418e-04,  6.4138e-03,  6.3156e-01,  2.5722e-01],\n",
       "                      [ 5.9106e-01,  8.0099e-01, -4.3739e-01, -1.0421e+00],\n",
       "                      [-4.5260e-01, -2.9013e-01, -1.5100e-01, -4.2278e-01],\n",
       "                      [-4.7355e-01, -4.6531e-01, -3.6451e-01,  1.2880e-01],\n",
       "                      [ 4.6203e-01,  7.7615e-01, -6.6397e-01, -8.9393e-01],\n",
       "                      [ 2.1614e-01, -3.7760e-02,  7.3585e-01,  4.5367e-01],\n",
       "                      [ 3.9781e-01,  5.0609e-01, -3.1023e-01, -4.7221e-01],\n",
       "                      [ 3.1085e-01,  5.5569e-01, -2.1819e-01, -1.6240e+00],\n",
       "                      [-7.0582e-02,  1.3370e-02, -7.4982e-02, -4.8755e-01],\n",
       "                      [-3.3614e-01,  2.1680e-01,  1.9500e-01, -4.2316e-01],\n",
       "                      [-2.2735e-01, -1.7449e-01,  4.2986e-02,  2.1932e-01],\n",
       "                      [ 4.5340e-01,  7.1446e-01, -3.0895e-01, -9.4495e-01],\n",
       "                      [-3.3315e-01,  1.4986e-01, -2.7211e-01,  3.0562e-01],\n",
       "                      [ 3.0820e-01,  1.7609e-01,  4.4934e-01,  2.4286e-01],\n",
       "                      [-1.6286e-01,  2.4770e-01, -1.5926e-01,  3.9578e-01],\n",
       "                      [-3.4196e-01, -1.6582e-01,  2.1694e-01,  1.6892e+00],\n",
       "                      [-2.0759e-01, -4.9936e-01,  4.2676e-01, -4.3759e-01],\n",
       "                      [ 2.5679e-01,  2.2191e-01, -2.6913e-02, -7.8022e-01],\n",
       "                      [ 6.2272e-01,  6.3813e-01, -7.6298e-01, -1.1147e+00],\n",
       "                      [ 2.4978e-01,  5.2084e-01, -4.8507e-01, -7.9260e-01],\n",
       "                      [-2.1323e-01, -2.4021e-01, -2.2843e-02,  4.8535e-01],\n",
       "                      [ 2.6448e-01,  7.7144e-01, -3.7776e-01, -1.2557e+00],\n",
       "                      [-4.0639e-01,  2.9495e-01, -3.3840e-01, -4.2591e-02],\n",
       "                      [ 2.3238e-01, -5.7857e-01,  7.0782e-01,  1.5138e+00],\n",
       "                      [ 5.5984e-01,  3.1222e-01, -6.0285e-01, -1.1132e+00],\n",
       "                      [ 1.4779e-01,  9.5947e-01, -1.5988e-01, -1.4539e+00],\n",
       "                      [-2.8188e-01,  1.6066e-01,  4.7657e-01,  3.6842e-01],\n",
       "                      [ 5.8857e-01, -2.3520e-01, -4.1805e-01, -3.7852e-01],\n",
       "                      [ 2.0158e-01,  7.4520e-01, -2.3482e-01, -1.7970e+00],\n",
       "                      [-1.9111e-01, -2.5223e-01,  1.1115e-01,  3.9063e-01],\n",
       "                      [-3.0718e-01, -2.6455e-01,  4.2234e-01, -1.0484e-01],\n",
       "                      [ 3.1746e-01,  8.5366e-01, -6.2714e-01, -9.8328e-01],\n",
       "                      [ 2.1593e-02, -5.3882e-01,  8.2195e-01,  1.5329e+00],\n",
       "                      [-1.1420e-01, -3.0945e-01,  6.9940e-02,  3.4410e-01],\n",
       "                      [-1.3821e-01,  1.0763e-01, -4.8039e-01,  1.2263e-02],\n",
       "                      [-4.5893e-01,  4.2593e-01, -2.9088e-01, -4.6635e-01],\n",
       "                      [-4.0805e-01,  3.4835e-01, -2.6509e-01, -4.4102e-01],\n",
       "                      [-2.7222e-02, -4.3362e-03, -4.1825e-01,  1.7749e-01],\n",
       "                      [ 3.7312e-01, -8.8228e-02,  2.1585e-01, -1.3777e-01],\n",
       "                      [-4.3975e-01, -4.4612e-03, -4.3493e-01,  2.5513e-01],\n",
       "                      [-5.8048e-02,  2.1149e-01, -9.0457e-02,  8.1978e-01],\n",
       "                      [ 4.4151e-01,  5.0468e-01, -6.7425e-01, -9.6446e-01],\n",
       "                      [-3.4855e-01, -3.8760e-01,  3.1449e-02,  4.5402e-01],\n",
       "                      [ 3.7591e-01, -7.4996e-01,  3.0208e-01,  1.0702e+00],\n",
       "                      [ 2.5532e-01,  1.6309e-01,  2.9311e-01,  3.7622e-01],\n",
       "                      [ 2.8829e-01, -5.4732e-01,  2.6123e-01,  9.0736e-01],\n",
       "                      [-3.5425e-01,  4.9272e-01, -4.0246e-01,  1.0535e-01],\n",
       "                      [ 2.6927e-01,  9.1038e-01, -5.0817e-01, -9.2645e-01],\n",
       "                      [-1.9885e-02, -2.0347e-01, -4.4286e-02, -6.3761e-02],\n",
       "                      [-3.4909e-01,  3.4742e-01, -1.8929e-01, -6.7905e-02],\n",
       "                      [ 1.8714e-01, -3.7786e-01, -2.8497e-01,  9.1052e-02],\n",
       "                      [ 5.5153e-01,  3.1183e-01, -6.8600e-01, -5.0606e-01],\n",
       "                      [-2.9077e-01, -1.6604e-01,  1.9932e-01, -2.3580e-01]], device='cuda:0')),\n",
       "             ('fc1.bias',\n",
       "              tensor([ 0.9801,  1.6043,  1.1496, -0.8402, -0.8038,  0.5725, -0.7899, -0.1263,\n",
       "                       0.2076,  0.1938, -1.2970, -0.4794, -0.9528,  0.9924, -0.4462, -0.0399,\n",
       "                       0.1855, -0.2007,  1.3344, -0.0373,  0.7596,  0.4641, -0.4366, -1.1310,\n",
       "                      -0.3702,  0.0574,  1.0943, -0.3628,  0.1173,  0.7313,  0.3113,  1.2103,\n",
       "                      -0.2414, -0.7507,  0.0592, -0.2397, -0.7549, -1.1050, -0.9508, -0.3840,\n",
       "                      -0.2897,  0.9651, -0.0888, -0.5723, -0.1850, -0.4782,  0.5234,  0.7890,\n",
       "                      -1.0443, -0.4798,  0.1697,  0.2250,  0.6493, -1.5490,  0.1398, -0.4719,\n",
       "                      -0.4684,  0.1852,  0.3604,  0.8656, -0.1440,  1.0514,  0.1875,  1.0536,\n",
       "                       0.2387,  1.2366,  0.3773, -0.1508, -0.1887, -0.8937, -0.4716, -0.5756,\n",
       "                       0.6128, -0.2220,  1.1550, -0.7893,  0.5712, -0.1759, -0.1913,  0.8031,\n",
       "                      -0.8984,  0.5643,  1.4319, -0.2206,  0.1318,  0.1459,  1.3558, -0.1409,\n",
       "                      -0.9146, -0.2648, -0.9200, -0.2007,  0.8130,  1.3238,  1.3208, -0.4790,\n",
       "                       0.4883,  0.3970, -1.0500,  1.1659,  1.1482, -0.5733,  0.1737,  1.5925,\n",
       "                       0.1930,  0.0563,  1.2370, -0.4189, -0.0719, -0.3504, -0.3674,  0.3507,\n",
       "                      -0.0225,  0.8811,  0.2212, -0.6592,  1.3149, -0.2734, -0.1922, -0.5847,\n",
       "                      -0.9577, -0.0616,  0.4846,  0.2039,  0.2641,  0.2486,  0.4643,  0.3073],\n",
       "                     device='cuda:0')),\n",
       "             ('fc2.weight',\n",
       "              tensor([[ 1.1217e+00,  1.0217e+00,  5.7233e-01, -6.6229e-01, -6.4390e-01,\n",
       "                       -3.0561e-01, -7.2032e-01, -7.7411e-01,  1.9949e-02,  2.8222e-02,\n",
       "                       -2.5669e-01, -3.8161e-02, -4.6616e-01,  9.5068e-01, -7.0810e-01,\n",
       "                        2.0769e-02, -5.1183e-02,  1.3753e-02,  7.1872e-01,  1.3699e-04,\n",
       "                        7.5809e-01,  7.5305e-01,  2.6603e-02, -7.0445e-01, -7.3579e-01,\n",
       "                        7.8356e-01,  6.0260e-01, -8.4629e-02,  4.7403e-01,  9.3941e-01,\n",
       "                       -4.0650e-02,  8.6254e-01,  6.9022e-02, -4.5514e-01, -2.6485e-02,\n",
       "                       -6.6869e-02, -5.1971e-01, -6.0402e-01, -7.1220e-02, -3.6609e-02,\n",
       "                       -2.6415e-02,  6.2215e-01, -2.9146e-02, -7.1142e-01,  1.9313e-02,\n",
       "                       -5.1427e-01,  5.5557e-01, -2.7715e-01, -6.8051e-01,  4.2565e-02,\n",
       "                        9.7241e-01, -4.2640e-01,  2.4655e-01, -5.6305e-01, -5.2056e-01,\n",
       "                       -1.8419e-02,  6.7638e-02,  2.8679e-02,  8.7629e-02,  6.6017e-01,\n",
       "                       -2.8335e-02,  5.7565e-01, -2.7109e-02,  4.0945e-01,  6.3940e-02,\n",
       "                        5.9306e-01,  3.7575e-02, -3.7723e-01,  4.4530e-02, -5.6495e-01,\n",
       "                       -3.3402e-02,  1.3533e-01, -9.0036e-02, -8.0647e-01,  6.8906e-01,\n",
       "                       -4.9030e-01,  5.8523e-01,  7.3758e-02, -6.6874e-02,  6.2791e-01,\n",
       "                       -4.6229e-01,  4.8610e-01,  6.6549e-01,  2.5107e-02,  2.6021e-02,\n",
       "                       -2.6950e-02,  4.8593e-01, -7.6255e-02, -1.8610e-01,  7.1509e-02,\n",
       "                       -4.4911e-02, -5.0240e-02,  2.9822e-01,  7.4075e-01,  6.2299e-01,\n",
       "                        3.9430e-02,  8.4307e-01, -3.0723e-02, -5.4078e-01,  7.4875e-01,\n",
       "                        6.1218e-01, -3.6432e-01,  5.6725e-01,  6.3475e-01,  6.0696e-02,\n",
       "                       -3.5336e-02,  6.3135e-01, -7.6950e-01, -3.0872e-02, -7.6777e-02,\n",
       "                       -2.1641e-02, -7.3755e-02, -2.4719e-02, -1.8824e-01,  2.9115e-02,\n",
       "                       -5.1776e-02,  6.8766e-01,  7.9263e-02, -5.0054e-01, -1.4071e-01,\n",
       "                       -5.0238e-01,  4.2491e-02,  6.9288e-01, -3.1915e-02,  1.9977e-02,\n",
       "                       -4.5760e-02,  8.5022e-01, -2.5551e-02],\n",
       "                      [ 3.3014e+00,  1.3170e+00,  1.3297e+00, -2.8778e-01, -2.1164e-01,\n",
       "                        1.5991e-01, -2.4332e-02, -2.4691e-01,  5.7387e-02,  1.1515e-02,\n",
       "                       -8.6830e-01, -2.7888e-02, -3.9369e-01,  1.5085e+00, -1.0848e-01,\n",
       "                       -1.4793e-02, -2.0605e-02,  1.9952e-03,  7.7161e-01,  4.2370e-02,\n",
       "                        1.0866e+00,  7.3144e-01, -2.2039e-03, -3.1960e-01, -2.9029e-01,\n",
       "                       -1.8950e+00,  8.2013e-01, -5.3952e-02,  2.2491e-01, -5.2498e+00,\n",
       "                        2.0602e-02,  1.8260e+00, -3.7008e-02, -1.1916e-01,  4.6117e-02,\n",
       "                       -1.3020e-01, -2.3506e-01, -3.9430e-01, -1.4331e+00, -5.0451e-02,\n",
       "                        1.0422e-02,  9.5431e-01,  6.6561e-02, -1.3963e-01, -5.6151e-02,\n",
       "                       -1.2996e-01,  5.6597e-01,  1.5605e-01, -2.1538e-01, -2.1775e-02,\n",
       "                       -4.4302e+00,  3.1103e-01,  8.2139e-02, -7.9492e-01,  1.4729e-01,\n",
       "                        3.3041e-02, -5.8879e-02,  1.5883e-02, -8.5221e-02,  8.8517e-01,\n",
       "                        1.8034e-02,  8.7469e-01, -6.9706e-02,  3.5687e-01,  2.7759e-02,\n",
       "                        1.3015e+00, -4.2751e-02, -7.5188e-03,  7.8677e-02, -4.6187e-01,\n",
       "                        4.1053e-02, -1.9351e-01,  3.0782e-01, -3.8510e-01,  1.0919e+00,\n",
       "                       -5.9812e-02,  3.4985e-01,  1.4186e-02,  7.0412e-02,  6.0768e-01,\n",
       "                       -1.1730e-01,  1.2148e-01,  8.4575e-01,  1.9021e-02, -6.9143e-02,\n",
       "                       -1.6759e-02,  2.9137e-01, -6.0568e-02, -8.2613e-02,  1.4452e-02,\n",
       "                       -1.7314e+00,  2.3730e-02,  2.9999e-01,  6.6126e-01,  1.0770e+00,\n",
       "                        3.9036e-02,  1.7579e+00,  6.2774e-02, -1.6176e-01,  1.1866e+00,\n",
       "                        6.0921e-01, -1.4110e-01,  4.0073e-01,  1.5194e+00,  5.4988e-02,\n",
       "                        1.5015e-02,  7.0499e-01, -2.7371e-01, -3.1217e-02, -4.9234e-03,\n",
       "                       -7.0079e-02, -4.3969e-02, -7.6395e-02,  1.6889e-01,  8.9895e-03,\n",
       "                       -5.4593e-01,  1.0106e+00, -4.8456e-02, -1.3874e-01, -7.5270e-02,\n",
       "                       -3.0929e-01,  1.9304e-03,  7.8459e-01, -1.0417e-02,  6.0461e-02,\n",
       "                       -7.7825e-02,  5.8769e-01,  2.9169e-02],\n",
       "                      [-3.7085e+00, -1.7503e+00, -1.6860e+00,  4.5037e-01,  4.8870e-01,\n",
       "                       -7.9748e-02,  3.0442e-01,  5.2253e-01, -5.2458e-02, -2.8964e-02,\n",
       "                        1.0334e+00,  8.2655e-02,  6.0979e-01, -2.1150e+00,  4.4078e-01,\n",
       "                       -7.8675e-02,  4.2099e-02,  3.3091e-02, -1.0781e+00, -7.1267e-02,\n",
       "                       -1.7655e+00, -1.0735e+00,  4.9978e-02,  5.2302e-01,  6.0159e-01,\n",
       "                       -1.8093e-01, -9.4501e-01, -6.4967e-02, -3.6415e-01, -2.0012e-01,\n",
       "                        3.9446e-02, -2.2761e+00,  3.6031e-02,  2.6552e-01, -5.7467e-02,\n",
       "                        2.1421e-01,  4.3725e-01,  5.0731e-01,  1.3903e+00, -6.3424e-02,\n",
       "                       -2.2906e-02, -1.2610e+00,  7.2307e-02,  2.9755e-01, -1.2123e-02,\n",
       "                        3.2640e-01, -9.0830e-01, -7.2179e-02,  4.8737e-01, -1.5935e-02,\n",
       "                       -1.8698e-01, -1.0776e-01, -2.0675e-01,  9.0527e-01,  1.2042e-01,\n",
       "                       -1.8735e-02,  9.2044e-03,  5.7278e-02,  5.1584e-02, -1.2664e+00,\n",
       "                       -1.2054e-02, -1.1069e+00,  1.5259e-02, -4.7966e-01, -3.2762e-02,\n",
       "                       -1.6917e+00, -1.3548e-01,  1.3999e-01,  4.7283e-02,  6.9275e-01,\n",
       "                       -2.3388e-02,  1.1664e-01, -1.5145e-01,  5.3229e-01, -1.3609e+00,\n",
       "                        2.3694e-01, -6.3682e-01,  2.0457e-03,  6.1871e-02, -8.8052e-01,\n",
       "                        2.2354e-01, -3.2813e-01, -1.1404e+00,  8.4708e-02,  1.9009e-02,\n",
       "                       -5.3083e-02, -5.2405e-01, -1.0363e-02,  1.4087e-01, -6.7116e-02,\n",
       "                        1.7992e+00, -2.2880e-02, -3.5451e-01, -9.4958e-01, -1.3157e+00,\n",
       "                        3.7273e-02, -2.5060e+00, -1.1984e-02,  4.1027e-01, -1.3547e+00,\n",
       "                       -1.0290e+00,  1.8062e-01, -4.5919e-01, -1.7698e+00,  7.2878e-02,\n",
       "                        7.8175e-03, -9.8400e-01,  3.8345e-01,  5.1182e-02, -8.9760e-03,\n",
       "                        6.8139e-02,  6.2222e-02, -1.1562e-01, -6.1687e-02,  1.1640e-02,\n",
       "                        4.6274e-01, -1.3016e+00,  3.7658e-02,  3.4772e-01,  1.0277e-01,\n",
       "                        4.9648e-01, -6.0484e-02, -1.2181e+00, -7.0737e-02, -6.0736e-02,\n",
       "                       -1.9122e-03, -1.0259e+00,  8.7499e-02]], device='cuda:0')),\n",
       "             ('fc2.bias',\n",
       "              tensor([ 0.1916,  0.4774, -0.5946], device='cuda:0'))])"
      ]
     },
     "execution_count": 293,
     "metadata": {},
     "output_type": "execute_result"
    }
   ],
   "execution_count": 293
  },
  {
   "metadata": {
    "ExecuteTime": {
     "end_time": "2024-05-18T07:53:07.694077Z",
     "start_time": "2024-05-18T07:53:07.679974Z"
    }
   },
   "cell_type": "code",
   "source": "df['data'].columns",
   "id": "71671c20b97dbcd7",
   "outputs": [
    {
     "data": {
      "text/plain": [
       "Index(['sepal length (cm)', 'sepal width (cm)', 'petal length (cm)',\n",
       "       'petal width (cm)'],\n",
       "      dtype='object')"
      ]
     },
     "execution_count": 296,
     "metadata": {},
     "output_type": "execute_result"
    }
   ],
   "execution_count": 296
  },
  {
   "metadata": {
    "ExecuteTime": {
     "end_time": "2024-05-18T07:53:53.638443Z",
     "start_time": "2024-05-18T07:53:53.621904Z"
    }
   },
   "cell_type": "code",
   "source": "df['data'].max() # สำหรับ ทำ st.slider หรืออื่นๆ เพื่อดู scale ของค่าที่มีจาก data",
   "id": "a1aa087817e8c39b",
   "outputs": [
    {
     "data": {
      "text/plain": [
       "sepal length (cm)    7.9\n",
       "sepal width (cm)     4.4\n",
       "petal length (cm)    6.9\n",
       "petal width (cm)     2.5\n",
       "dtype: float64"
      ]
     },
     "execution_count": 297,
     "metadata": {},
     "output_type": "execute_result"
    }
   ],
   "execution_count": 297
  },
  {
   "metadata": {
    "ExecuteTime": {
     "end_time": "2024-05-18T08:27:48.001766Z",
     "start_time": "2024-05-18T08:27:47.830989Z"
    }
   },
   "cell_type": "code",
   "source": "import seaborn as sns",
   "id": "75e00ccecb343b3",
   "outputs": [],
   "execution_count": 298
  },
  {
   "metadata": {
    "ExecuteTime": {
     "end_time": "2024-05-18T08:28:09.785300Z",
     "start_time": "2024-05-18T08:28:09.727821Z"
    }
   },
   "cell_type": "code",
   "source": [
    "df = sns.load_dataset('titanic')\n",
    "df"
   ],
   "id": "f9b5bdda94e74647",
   "outputs": [
    {
     "data": {
      "text/plain": [
       "     survived  pclass     sex   age  sibsp  parch     fare embarked   class   \n",
       "0           0       3    male  22.0      1      0   7.2500        S   Third  \\\n",
       "1           1       1  female  38.0      1      0  71.2833        C   First   \n",
       "2           1       3  female  26.0      0      0   7.9250        S   Third   \n",
       "3           1       1  female  35.0      1      0  53.1000        S   First   \n",
       "4           0       3    male  35.0      0      0   8.0500        S   Third   \n",
       "..        ...     ...     ...   ...    ...    ...      ...      ...     ...   \n",
       "886         0       2    male  27.0      0      0  13.0000        S  Second   \n",
       "887         1       1  female  19.0      0      0  30.0000        S   First   \n",
       "888         0       3  female   NaN      1      2  23.4500        S   Third   \n",
       "889         1       1    male  26.0      0      0  30.0000        C   First   \n",
       "890         0       3    male  32.0      0      0   7.7500        Q   Third   \n",
       "\n",
       "       who  adult_male deck  embark_town alive  alone  \n",
       "0      man        True  NaN  Southampton    no  False  \n",
       "1    woman       False    C    Cherbourg   yes  False  \n",
       "2    woman       False  NaN  Southampton   yes   True  \n",
       "3    woman       False    C  Southampton   yes  False  \n",
       "4      man        True  NaN  Southampton    no   True  \n",
       "..     ...         ...  ...          ...   ...    ...  \n",
       "886    man        True  NaN  Southampton    no   True  \n",
       "887  woman       False    B  Southampton   yes   True  \n",
       "888  woman       False  NaN  Southampton    no  False  \n",
       "889    man        True    C    Cherbourg   yes   True  \n",
       "890    man        True  NaN   Queenstown    no   True  \n",
       "\n",
       "[891 rows x 15 columns]"
      ],
      "text/html": [
       "<div>\n",
       "<style scoped>\n",
       "    .dataframe tbody tr th:only-of-type {\n",
       "        vertical-align: middle;\n",
       "    }\n",
       "\n",
       "    .dataframe tbody tr th {\n",
       "        vertical-align: top;\n",
       "    }\n",
       "\n",
       "    .dataframe thead th {\n",
       "        text-align: right;\n",
       "    }\n",
       "</style>\n",
       "<table border=\"1\" class=\"dataframe\">\n",
       "  <thead>\n",
       "    <tr style=\"text-align: right;\">\n",
       "      <th></th>\n",
       "      <th>survived</th>\n",
       "      <th>pclass</th>\n",
       "      <th>sex</th>\n",
       "      <th>age</th>\n",
       "      <th>sibsp</th>\n",
       "      <th>parch</th>\n",
       "      <th>fare</th>\n",
       "      <th>embarked</th>\n",
       "      <th>class</th>\n",
       "      <th>who</th>\n",
       "      <th>adult_male</th>\n",
       "      <th>deck</th>\n",
       "      <th>embark_town</th>\n",
       "      <th>alive</th>\n",
       "      <th>alone</th>\n",
       "    </tr>\n",
       "  </thead>\n",
       "  <tbody>\n",
       "    <tr>\n",
       "      <th>0</th>\n",
       "      <td>0</td>\n",
       "      <td>3</td>\n",
       "      <td>male</td>\n",
       "      <td>22.0</td>\n",
       "      <td>1</td>\n",
       "      <td>0</td>\n",
       "      <td>7.2500</td>\n",
       "      <td>S</td>\n",
       "      <td>Third</td>\n",
       "      <td>man</td>\n",
       "      <td>True</td>\n",
       "      <td>NaN</td>\n",
       "      <td>Southampton</td>\n",
       "      <td>no</td>\n",
       "      <td>False</td>\n",
       "    </tr>\n",
       "    <tr>\n",
       "      <th>1</th>\n",
       "      <td>1</td>\n",
       "      <td>1</td>\n",
       "      <td>female</td>\n",
       "      <td>38.0</td>\n",
       "      <td>1</td>\n",
       "      <td>0</td>\n",
       "      <td>71.2833</td>\n",
       "      <td>C</td>\n",
       "      <td>First</td>\n",
       "      <td>woman</td>\n",
       "      <td>False</td>\n",
       "      <td>C</td>\n",
       "      <td>Cherbourg</td>\n",
       "      <td>yes</td>\n",
       "      <td>False</td>\n",
       "    </tr>\n",
       "    <tr>\n",
       "      <th>2</th>\n",
       "      <td>1</td>\n",
       "      <td>3</td>\n",
       "      <td>female</td>\n",
       "      <td>26.0</td>\n",
       "      <td>0</td>\n",
       "      <td>0</td>\n",
       "      <td>7.9250</td>\n",
       "      <td>S</td>\n",
       "      <td>Third</td>\n",
       "      <td>woman</td>\n",
       "      <td>False</td>\n",
       "      <td>NaN</td>\n",
       "      <td>Southampton</td>\n",
       "      <td>yes</td>\n",
       "      <td>True</td>\n",
       "    </tr>\n",
       "    <tr>\n",
       "      <th>3</th>\n",
       "      <td>1</td>\n",
       "      <td>1</td>\n",
       "      <td>female</td>\n",
       "      <td>35.0</td>\n",
       "      <td>1</td>\n",
       "      <td>0</td>\n",
       "      <td>53.1000</td>\n",
       "      <td>S</td>\n",
       "      <td>First</td>\n",
       "      <td>woman</td>\n",
       "      <td>False</td>\n",
       "      <td>C</td>\n",
       "      <td>Southampton</td>\n",
       "      <td>yes</td>\n",
       "      <td>False</td>\n",
       "    </tr>\n",
       "    <tr>\n",
       "      <th>4</th>\n",
       "      <td>0</td>\n",
       "      <td>3</td>\n",
       "      <td>male</td>\n",
       "      <td>35.0</td>\n",
       "      <td>0</td>\n",
       "      <td>0</td>\n",
       "      <td>8.0500</td>\n",
       "      <td>S</td>\n",
       "      <td>Third</td>\n",
       "      <td>man</td>\n",
       "      <td>True</td>\n",
       "      <td>NaN</td>\n",
       "      <td>Southampton</td>\n",
       "      <td>no</td>\n",
       "      <td>True</td>\n",
       "    </tr>\n",
       "    <tr>\n",
       "      <th>...</th>\n",
       "      <td>...</td>\n",
       "      <td>...</td>\n",
       "      <td>...</td>\n",
       "      <td>...</td>\n",
       "      <td>...</td>\n",
       "      <td>...</td>\n",
       "      <td>...</td>\n",
       "      <td>...</td>\n",
       "      <td>...</td>\n",
       "      <td>...</td>\n",
       "      <td>...</td>\n",
       "      <td>...</td>\n",
       "      <td>...</td>\n",
       "      <td>...</td>\n",
       "      <td>...</td>\n",
       "    </tr>\n",
       "    <tr>\n",
       "      <th>886</th>\n",
       "      <td>0</td>\n",
       "      <td>2</td>\n",
       "      <td>male</td>\n",
       "      <td>27.0</td>\n",
       "      <td>0</td>\n",
       "      <td>0</td>\n",
       "      <td>13.0000</td>\n",
       "      <td>S</td>\n",
       "      <td>Second</td>\n",
       "      <td>man</td>\n",
       "      <td>True</td>\n",
       "      <td>NaN</td>\n",
       "      <td>Southampton</td>\n",
       "      <td>no</td>\n",
       "      <td>True</td>\n",
       "    </tr>\n",
       "    <tr>\n",
       "      <th>887</th>\n",
       "      <td>1</td>\n",
       "      <td>1</td>\n",
       "      <td>female</td>\n",
       "      <td>19.0</td>\n",
       "      <td>0</td>\n",
       "      <td>0</td>\n",
       "      <td>30.0000</td>\n",
       "      <td>S</td>\n",
       "      <td>First</td>\n",
       "      <td>woman</td>\n",
       "      <td>False</td>\n",
       "      <td>B</td>\n",
       "      <td>Southampton</td>\n",
       "      <td>yes</td>\n",
       "      <td>True</td>\n",
       "    </tr>\n",
       "    <tr>\n",
       "      <th>888</th>\n",
       "      <td>0</td>\n",
       "      <td>3</td>\n",
       "      <td>female</td>\n",
       "      <td>NaN</td>\n",
       "      <td>1</td>\n",
       "      <td>2</td>\n",
       "      <td>23.4500</td>\n",
       "      <td>S</td>\n",
       "      <td>Third</td>\n",
       "      <td>woman</td>\n",
       "      <td>False</td>\n",
       "      <td>NaN</td>\n",
       "      <td>Southampton</td>\n",
       "      <td>no</td>\n",
       "      <td>False</td>\n",
       "    </tr>\n",
       "    <tr>\n",
       "      <th>889</th>\n",
       "      <td>1</td>\n",
       "      <td>1</td>\n",
       "      <td>male</td>\n",
       "      <td>26.0</td>\n",
       "      <td>0</td>\n",
       "      <td>0</td>\n",
       "      <td>30.0000</td>\n",
       "      <td>C</td>\n",
       "      <td>First</td>\n",
       "      <td>man</td>\n",
       "      <td>True</td>\n",
       "      <td>C</td>\n",
       "      <td>Cherbourg</td>\n",
       "      <td>yes</td>\n",
       "      <td>True</td>\n",
       "    </tr>\n",
       "    <tr>\n",
       "      <th>890</th>\n",
       "      <td>0</td>\n",
       "      <td>3</td>\n",
       "      <td>male</td>\n",
       "      <td>32.0</td>\n",
       "      <td>0</td>\n",
       "      <td>0</td>\n",
       "      <td>7.7500</td>\n",
       "      <td>Q</td>\n",
       "      <td>Third</td>\n",
       "      <td>man</td>\n",
       "      <td>True</td>\n",
       "      <td>NaN</td>\n",
       "      <td>Queenstown</td>\n",
       "      <td>no</td>\n",
       "      <td>True</td>\n",
       "    </tr>\n",
       "  </tbody>\n",
       "</table>\n",
       "<p>891 rows × 15 columns</p>\n",
       "</div>"
      ]
     },
     "execution_count": 299,
     "metadata": {},
     "output_type": "execute_result"
    }
   ],
   "execution_count": 299
  },
  {
   "metadata": {
    "ExecuteTime": {
     "end_time": "2024-05-18T08:29:51.399764Z",
     "start_time": "2024-05-18T08:29:51.374733Z"
    }
   },
   "cell_type": "code",
   "source": "df.nunique()",
   "id": "194ad14229a4b449",
   "outputs": [
    {
     "data": {
      "text/plain": [
       "survived         2\n",
       "pclass           3\n",
       "sex              2\n",
       "age             88\n",
       "sibsp            7\n",
       "parch            7\n",
       "fare           248\n",
       "embarked         3\n",
       "class            3\n",
       "who              3\n",
       "adult_male       2\n",
       "deck             7\n",
       "embark_town      3\n",
       "alive            2\n",
       "alone            2\n",
       "dtype: int64"
      ]
     },
     "execution_count": 300,
     "metadata": {},
     "output_type": "execute_result"
    }
   ],
   "execution_count": 300
  },
  {
   "metadata": {
    "ExecuteTime": {
     "end_time": "2024-05-18T08:42:44.996418Z",
     "start_time": "2024-05-18T08:42:44.989882Z"
    }
   },
   "cell_type": "code",
   "source": "df = df.drop(columns=['class', 'adult_male', 'deck', 'embark_town', 'alive', 'alone'])",
   "id": "1d0dcabfb35e1124",
   "outputs": [],
   "execution_count": 306
  },
  {
   "metadata": {
    "ExecuteTime": {
     "end_time": "2024-05-18T08:32:22.769788Z",
     "start_time": "2024-05-18T08:32:22.756236Z"
    }
   },
   "cell_type": "code",
   "source": "import pandas as pd",
   "id": "ddfee35826b69f65",
   "outputs": [],
   "execution_count": 302
  },
  {
   "metadata": {
    "ExecuteTime": {
     "end_time": "2024-05-18T08:42:55.826332Z",
     "start_time": "2024-05-18T08:42:55.786362Z"
    }
   },
   "cell_type": "code",
   "source": "df = pd.get_dummies(df, dtype=float)",
   "id": "a24dae845277eabb",
   "outputs": [],
   "execution_count": 307
  },
  {
   "metadata": {
    "ExecuteTime": {
     "end_time": "2024-05-18T08:42:59.477200Z",
     "start_time": "2024-05-18T08:42:59.455184Z"
    }
   },
   "cell_type": "code",
   "source": "df",
   "id": "94c3e862ae9df12e",
   "outputs": [
    {
     "data": {
      "text/plain": [
       "     survived  pclass   age  sibsp  parch     fare  sex_female  sex_male   \n",
       "0           0       3  22.0      1      0   7.2500         0.0       1.0  \\\n",
       "1           1       1  38.0      1      0  71.2833         1.0       0.0   \n",
       "2           1       3  26.0      0      0   7.9250         1.0       0.0   \n",
       "3           1       1  35.0      1      0  53.1000         1.0       0.0   \n",
       "4           0       3  35.0      0      0   8.0500         0.0       1.0   \n",
       "..        ...     ...   ...    ...    ...      ...         ...       ...   \n",
       "886         0       2  27.0      0      0  13.0000         0.0       1.0   \n",
       "887         1       1  19.0      0      0  30.0000         1.0       0.0   \n",
       "888         0       3   NaN      1      2  23.4500         1.0       0.0   \n",
       "889         1       1  26.0      0      0  30.0000         0.0       1.0   \n",
       "890         0       3  32.0      0      0   7.7500         0.0       1.0   \n",
       "\n",
       "     embarked_C  embarked_Q  embarked_S  who_child  who_man  who_woman  \n",
       "0           0.0         0.0         1.0        0.0      1.0        0.0  \n",
       "1           1.0         0.0         0.0        0.0      0.0        1.0  \n",
       "2           0.0         0.0         1.0        0.0      0.0        1.0  \n",
       "3           0.0         0.0         1.0        0.0      0.0        1.0  \n",
       "4           0.0         0.0         1.0        0.0      1.0        0.0  \n",
       "..          ...         ...         ...        ...      ...        ...  \n",
       "886         0.0         0.0         1.0        0.0      1.0        0.0  \n",
       "887         0.0         0.0         1.0        0.0      0.0        1.0  \n",
       "888         0.0         0.0         1.0        0.0      0.0        1.0  \n",
       "889         1.0         0.0         0.0        0.0      1.0        0.0  \n",
       "890         0.0         1.0         0.0        0.0      1.0        0.0  \n",
       "\n",
       "[891 rows x 14 columns]"
      ],
      "text/html": [
       "<div>\n",
       "<style scoped>\n",
       "    .dataframe tbody tr th:only-of-type {\n",
       "        vertical-align: middle;\n",
       "    }\n",
       "\n",
       "    .dataframe tbody tr th {\n",
       "        vertical-align: top;\n",
       "    }\n",
       "\n",
       "    .dataframe thead th {\n",
       "        text-align: right;\n",
       "    }\n",
       "</style>\n",
       "<table border=\"1\" class=\"dataframe\">\n",
       "  <thead>\n",
       "    <tr style=\"text-align: right;\">\n",
       "      <th></th>\n",
       "      <th>survived</th>\n",
       "      <th>pclass</th>\n",
       "      <th>age</th>\n",
       "      <th>sibsp</th>\n",
       "      <th>parch</th>\n",
       "      <th>fare</th>\n",
       "      <th>sex_female</th>\n",
       "      <th>sex_male</th>\n",
       "      <th>embarked_C</th>\n",
       "      <th>embarked_Q</th>\n",
       "      <th>embarked_S</th>\n",
       "      <th>who_child</th>\n",
       "      <th>who_man</th>\n",
       "      <th>who_woman</th>\n",
       "    </tr>\n",
       "  </thead>\n",
       "  <tbody>\n",
       "    <tr>\n",
       "      <th>0</th>\n",
       "      <td>0</td>\n",
       "      <td>3</td>\n",
       "      <td>22.0</td>\n",
       "      <td>1</td>\n",
       "      <td>0</td>\n",
       "      <td>7.2500</td>\n",
       "      <td>0.0</td>\n",
       "      <td>1.0</td>\n",
       "      <td>0.0</td>\n",
       "      <td>0.0</td>\n",
       "      <td>1.0</td>\n",
       "      <td>0.0</td>\n",
       "      <td>1.0</td>\n",
       "      <td>0.0</td>\n",
       "    </tr>\n",
       "    <tr>\n",
       "      <th>1</th>\n",
       "      <td>1</td>\n",
       "      <td>1</td>\n",
       "      <td>38.0</td>\n",
       "      <td>1</td>\n",
       "      <td>0</td>\n",
       "      <td>71.2833</td>\n",
       "      <td>1.0</td>\n",
       "      <td>0.0</td>\n",
       "      <td>1.0</td>\n",
       "      <td>0.0</td>\n",
       "      <td>0.0</td>\n",
       "      <td>0.0</td>\n",
       "      <td>0.0</td>\n",
       "      <td>1.0</td>\n",
       "    </tr>\n",
       "    <tr>\n",
       "      <th>2</th>\n",
       "      <td>1</td>\n",
       "      <td>3</td>\n",
       "      <td>26.0</td>\n",
       "      <td>0</td>\n",
       "      <td>0</td>\n",
       "      <td>7.9250</td>\n",
       "      <td>1.0</td>\n",
       "      <td>0.0</td>\n",
       "      <td>0.0</td>\n",
       "      <td>0.0</td>\n",
       "      <td>1.0</td>\n",
       "      <td>0.0</td>\n",
       "      <td>0.0</td>\n",
       "      <td>1.0</td>\n",
       "    </tr>\n",
       "    <tr>\n",
       "      <th>3</th>\n",
       "      <td>1</td>\n",
       "      <td>1</td>\n",
       "      <td>35.0</td>\n",
       "      <td>1</td>\n",
       "      <td>0</td>\n",
       "      <td>53.1000</td>\n",
       "      <td>1.0</td>\n",
       "      <td>0.0</td>\n",
       "      <td>0.0</td>\n",
       "      <td>0.0</td>\n",
       "      <td>1.0</td>\n",
       "      <td>0.0</td>\n",
       "      <td>0.0</td>\n",
       "      <td>1.0</td>\n",
       "    </tr>\n",
       "    <tr>\n",
       "      <th>4</th>\n",
       "      <td>0</td>\n",
       "      <td>3</td>\n",
       "      <td>35.0</td>\n",
       "      <td>0</td>\n",
       "      <td>0</td>\n",
       "      <td>8.0500</td>\n",
       "      <td>0.0</td>\n",
       "      <td>1.0</td>\n",
       "      <td>0.0</td>\n",
       "      <td>0.0</td>\n",
       "      <td>1.0</td>\n",
       "      <td>0.0</td>\n",
       "      <td>1.0</td>\n",
       "      <td>0.0</td>\n",
       "    </tr>\n",
       "    <tr>\n",
       "      <th>...</th>\n",
       "      <td>...</td>\n",
       "      <td>...</td>\n",
       "      <td>...</td>\n",
       "      <td>...</td>\n",
       "      <td>...</td>\n",
       "      <td>...</td>\n",
       "      <td>...</td>\n",
       "      <td>...</td>\n",
       "      <td>...</td>\n",
       "      <td>...</td>\n",
       "      <td>...</td>\n",
       "      <td>...</td>\n",
       "      <td>...</td>\n",
       "      <td>...</td>\n",
       "    </tr>\n",
       "    <tr>\n",
       "      <th>886</th>\n",
       "      <td>0</td>\n",
       "      <td>2</td>\n",
       "      <td>27.0</td>\n",
       "      <td>0</td>\n",
       "      <td>0</td>\n",
       "      <td>13.0000</td>\n",
       "      <td>0.0</td>\n",
       "      <td>1.0</td>\n",
       "      <td>0.0</td>\n",
       "      <td>0.0</td>\n",
       "      <td>1.0</td>\n",
       "      <td>0.0</td>\n",
       "      <td>1.0</td>\n",
       "      <td>0.0</td>\n",
       "    </tr>\n",
       "    <tr>\n",
       "      <th>887</th>\n",
       "      <td>1</td>\n",
       "      <td>1</td>\n",
       "      <td>19.0</td>\n",
       "      <td>0</td>\n",
       "      <td>0</td>\n",
       "      <td>30.0000</td>\n",
       "      <td>1.0</td>\n",
       "      <td>0.0</td>\n",
       "      <td>0.0</td>\n",
       "      <td>0.0</td>\n",
       "      <td>1.0</td>\n",
       "      <td>0.0</td>\n",
       "      <td>0.0</td>\n",
       "      <td>1.0</td>\n",
       "    </tr>\n",
       "    <tr>\n",
       "      <th>888</th>\n",
       "      <td>0</td>\n",
       "      <td>3</td>\n",
       "      <td>NaN</td>\n",
       "      <td>1</td>\n",
       "      <td>2</td>\n",
       "      <td>23.4500</td>\n",
       "      <td>1.0</td>\n",
       "      <td>0.0</td>\n",
       "      <td>0.0</td>\n",
       "      <td>0.0</td>\n",
       "      <td>1.0</td>\n",
       "      <td>0.0</td>\n",
       "      <td>0.0</td>\n",
       "      <td>1.0</td>\n",
       "    </tr>\n",
       "    <tr>\n",
       "      <th>889</th>\n",
       "      <td>1</td>\n",
       "      <td>1</td>\n",
       "      <td>26.0</td>\n",
       "      <td>0</td>\n",
       "      <td>0</td>\n",
       "      <td>30.0000</td>\n",
       "      <td>0.0</td>\n",
       "      <td>1.0</td>\n",
       "      <td>1.0</td>\n",
       "      <td>0.0</td>\n",
       "      <td>0.0</td>\n",
       "      <td>0.0</td>\n",
       "      <td>1.0</td>\n",
       "      <td>0.0</td>\n",
       "    </tr>\n",
       "    <tr>\n",
       "      <th>890</th>\n",
       "      <td>0</td>\n",
       "      <td>3</td>\n",
       "      <td>32.0</td>\n",
       "      <td>0</td>\n",
       "      <td>0</td>\n",
       "      <td>7.7500</td>\n",
       "      <td>0.0</td>\n",
       "      <td>1.0</td>\n",
       "      <td>0.0</td>\n",
       "      <td>1.0</td>\n",
       "      <td>0.0</td>\n",
       "      <td>0.0</td>\n",
       "      <td>1.0</td>\n",
       "      <td>0.0</td>\n",
       "    </tr>\n",
       "  </tbody>\n",
       "</table>\n",
       "<p>891 rows × 14 columns</p>\n",
       "</div>"
      ]
     },
     "execution_count": 308,
     "metadata": {},
     "output_type": "execute_result"
    }
   ],
   "execution_count": 308
  },
  {
   "metadata": {
    "ExecuteTime": {
     "end_time": "2024-05-18T08:44:48.497658Z",
     "start_time": "2024-05-18T08:44:48.485148Z"
    }
   },
   "cell_type": "code",
   "source": "df = df.drop(columns=['sex_female'])",
   "id": "7c7b67e6112202e4",
   "outputs": [],
   "execution_count": 312
  },
  {
   "metadata": {
    "ExecuteTime": {
     "end_time": "2024-05-18T08:44:51.445148Z",
     "start_time": "2024-05-18T08:44:51.423946Z"
    }
   },
   "cell_type": "code",
   "source": "df",
   "id": "5614ac8644a7da9f",
   "outputs": [
    {
     "data": {
      "text/plain": [
       "     survived  pclass   age  sibsp  parch     fare  sex_male  embarked_C   \n",
       "0           0       3  22.0      1      0   7.2500       1.0         0.0  \\\n",
       "1           1       1  38.0      1      0  71.2833       0.0         1.0   \n",
       "2           1       3  26.0      0      0   7.9250       0.0         0.0   \n",
       "3           1       1  35.0      1      0  53.1000       0.0         0.0   \n",
       "4           0       3  35.0      0      0   8.0500       1.0         0.0   \n",
       "..        ...     ...   ...    ...    ...      ...       ...         ...   \n",
       "886         0       2  27.0      0      0  13.0000       1.0         0.0   \n",
       "887         1       1  19.0      0      0  30.0000       0.0         0.0   \n",
       "888         0       3   NaN      1      2  23.4500       0.0         0.0   \n",
       "889         1       1  26.0      0      0  30.0000       1.0         1.0   \n",
       "890         0       3  32.0      0      0   7.7500       1.0         0.0   \n",
       "\n",
       "     embarked_Q  embarked_S  who_child  who_man  who_woman  \n",
       "0           0.0         1.0        0.0      1.0        0.0  \n",
       "1           0.0         0.0        0.0      0.0        1.0  \n",
       "2           0.0         1.0        0.0      0.0        1.0  \n",
       "3           0.0         1.0        0.0      0.0        1.0  \n",
       "4           0.0         1.0        0.0      1.0        0.0  \n",
       "..          ...         ...        ...      ...        ...  \n",
       "886         0.0         1.0        0.0      1.0        0.0  \n",
       "887         0.0         1.0        0.0      0.0        1.0  \n",
       "888         0.0         1.0        0.0      0.0        1.0  \n",
       "889         0.0         0.0        0.0      1.0        0.0  \n",
       "890         1.0         0.0        0.0      1.0        0.0  \n",
       "\n",
       "[891 rows x 13 columns]"
      ],
      "text/html": [
       "<div>\n",
       "<style scoped>\n",
       "    .dataframe tbody tr th:only-of-type {\n",
       "        vertical-align: middle;\n",
       "    }\n",
       "\n",
       "    .dataframe tbody tr th {\n",
       "        vertical-align: top;\n",
       "    }\n",
       "\n",
       "    .dataframe thead th {\n",
       "        text-align: right;\n",
       "    }\n",
       "</style>\n",
       "<table border=\"1\" class=\"dataframe\">\n",
       "  <thead>\n",
       "    <tr style=\"text-align: right;\">\n",
       "      <th></th>\n",
       "      <th>survived</th>\n",
       "      <th>pclass</th>\n",
       "      <th>age</th>\n",
       "      <th>sibsp</th>\n",
       "      <th>parch</th>\n",
       "      <th>fare</th>\n",
       "      <th>sex_male</th>\n",
       "      <th>embarked_C</th>\n",
       "      <th>embarked_Q</th>\n",
       "      <th>embarked_S</th>\n",
       "      <th>who_child</th>\n",
       "      <th>who_man</th>\n",
       "      <th>who_woman</th>\n",
       "    </tr>\n",
       "  </thead>\n",
       "  <tbody>\n",
       "    <tr>\n",
       "      <th>0</th>\n",
       "      <td>0</td>\n",
       "      <td>3</td>\n",
       "      <td>22.0</td>\n",
       "      <td>1</td>\n",
       "      <td>0</td>\n",
       "      <td>7.2500</td>\n",
       "      <td>1.0</td>\n",
       "      <td>0.0</td>\n",
       "      <td>0.0</td>\n",
       "      <td>1.0</td>\n",
       "      <td>0.0</td>\n",
       "      <td>1.0</td>\n",
       "      <td>0.0</td>\n",
       "    </tr>\n",
       "    <tr>\n",
       "      <th>1</th>\n",
       "      <td>1</td>\n",
       "      <td>1</td>\n",
       "      <td>38.0</td>\n",
       "      <td>1</td>\n",
       "      <td>0</td>\n",
       "      <td>71.2833</td>\n",
       "      <td>0.0</td>\n",
       "      <td>1.0</td>\n",
       "      <td>0.0</td>\n",
       "      <td>0.0</td>\n",
       "      <td>0.0</td>\n",
       "      <td>0.0</td>\n",
       "      <td>1.0</td>\n",
       "    </tr>\n",
       "    <tr>\n",
       "      <th>2</th>\n",
       "      <td>1</td>\n",
       "      <td>3</td>\n",
       "      <td>26.0</td>\n",
       "      <td>0</td>\n",
       "      <td>0</td>\n",
       "      <td>7.9250</td>\n",
       "      <td>0.0</td>\n",
       "      <td>0.0</td>\n",
       "      <td>0.0</td>\n",
       "      <td>1.0</td>\n",
       "      <td>0.0</td>\n",
       "      <td>0.0</td>\n",
       "      <td>1.0</td>\n",
       "    </tr>\n",
       "    <tr>\n",
       "      <th>3</th>\n",
       "      <td>1</td>\n",
       "      <td>1</td>\n",
       "      <td>35.0</td>\n",
       "      <td>1</td>\n",
       "      <td>0</td>\n",
       "      <td>53.1000</td>\n",
       "      <td>0.0</td>\n",
       "      <td>0.0</td>\n",
       "      <td>0.0</td>\n",
       "      <td>1.0</td>\n",
       "      <td>0.0</td>\n",
       "      <td>0.0</td>\n",
       "      <td>1.0</td>\n",
       "    </tr>\n",
       "    <tr>\n",
       "      <th>4</th>\n",
       "      <td>0</td>\n",
       "      <td>3</td>\n",
       "      <td>35.0</td>\n",
       "      <td>0</td>\n",
       "      <td>0</td>\n",
       "      <td>8.0500</td>\n",
       "      <td>1.0</td>\n",
       "      <td>0.0</td>\n",
       "      <td>0.0</td>\n",
       "      <td>1.0</td>\n",
       "      <td>0.0</td>\n",
       "      <td>1.0</td>\n",
       "      <td>0.0</td>\n",
       "    </tr>\n",
       "    <tr>\n",
       "      <th>...</th>\n",
       "      <td>...</td>\n",
       "      <td>...</td>\n",
       "      <td>...</td>\n",
       "      <td>...</td>\n",
       "      <td>...</td>\n",
       "      <td>...</td>\n",
       "      <td>...</td>\n",
       "      <td>...</td>\n",
       "      <td>...</td>\n",
       "      <td>...</td>\n",
       "      <td>...</td>\n",
       "      <td>...</td>\n",
       "      <td>...</td>\n",
       "    </tr>\n",
       "    <tr>\n",
       "      <th>886</th>\n",
       "      <td>0</td>\n",
       "      <td>2</td>\n",
       "      <td>27.0</td>\n",
       "      <td>0</td>\n",
       "      <td>0</td>\n",
       "      <td>13.0000</td>\n",
       "      <td>1.0</td>\n",
       "      <td>0.0</td>\n",
       "      <td>0.0</td>\n",
       "      <td>1.0</td>\n",
       "      <td>0.0</td>\n",
       "      <td>1.0</td>\n",
       "      <td>0.0</td>\n",
       "    </tr>\n",
       "    <tr>\n",
       "      <th>887</th>\n",
       "      <td>1</td>\n",
       "      <td>1</td>\n",
       "      <td>19.0</td>\n",
       "      <td>0</td>\n",
       "      <td>0</td>\n",
       "      <td>30.0000</td>\n",
       "      <td>0.0</td>\n",
       "      <td>0.0</td>\n",
       "      <td>0.0</td>\n",
       "      <td>1.0</td>\n",
       "      <td>0.0</td>\n",
       "      <td>0.0</td>\n",
       "      <td>1.0</td>\n",
       "    </tr>\n",
       "    <tr>\n",
       "      <th>888</th>\n",
       "      <td>0</td>\n",
       "      <td>3</td>\n",
       "      <td>NaN</td>\n",
       "      <td>1</td>\n",
       "      <td>2</td>\n",
       "      <td>23.4500</td>\n",
       "      <td>0.0</td>\n",
       "      <td>0.0</td>\n",
       "      <td>0.0</td>\n",
       "      <td>1.0</td>\n",
       "      <td>0.0</td>\n",
       "      <td>0.0</td>\n",
       "      <td>1.0</td>\n",
       "    </tr>\n",
       "    <tr>\n",
       "      <th>889</th>\n",
       "      <td>1</td>\n",
       "      <td>1</td>\n",
       "      <td>26.0</td>\n",
       "      <td>0</td>\n",
       "      <td>0</td>\n",
       "      <td>30.0000</td>\n",
       "      <td>1.0</td>\n",
       "      <td>1.0</td>\n",
       "      <td>0.0</td>\n",
       "      <td>0.0</td>\n",
       "      <td>0.0</td>\n",
       "      <td>1.0</td>\n",
       "      <td>0.0</td>\n",
       "    </tr>\n",
       "    <tr>\n",
       "      <th>890</th>\n",
       "      <td>0</td>\n",
       "      <td>3</td>\n",
       "      <td>32.0</td>\n",
       "      <td>0</td>\n",
       "      <td>0</td>\n",
       "      <td>7.7500</td>\n",
       "      <td>1.0</td>\n",
       "      <td>0.0</td>\n",
       "      <td>1.0</td>\n",
       "      <td>0.0</td>\n",
       "      <td>0.0</td>\n",
       "      <td>1.0</td>\n",
       "      <td>0.0</td>\n",
       "    </tr>\n",
       "  </tbody>\n",
       "</table>\n",
       "<p>891 rows × 13 columns</p>\n",
       "</div>"
      ]
     },
     "execution_count": 313,
     "metadata": {},
     "output_type": "execute_result"
    }
   ],
   "execution_count": 313
  },
  {
   "metadata": {
    "ExecuteTime": {
     "end_time": "2024-05-18T08:45:38.771078Z",
     "start_time": "2024-05-18T08:45:38.766089Z"
    }
   },
   "cell_type": "code",
   "source": "df = df.dropna()",
   "id": "60187114f6ba5343",
   "outputs": [],
   "execution_count": 315
  },
  {
   "metadata": {
    "ExecuteTime": {
     "end_time": "2024-05-18T08:46:46.823377Z",
     "start_time": "2024-05-18T08:46:46.816828Z"
    }
   },
   "cell_type": "code",
   "source": [
    "X = df.iloc[:, 1:]\n",
    "Y = df.iloc[:, 0]"
   ],
   "id": "52ad5b32d3313b83",
   "outputs": [],
   "execution_count": 318
  },
  {
   "metadata": {
    "ExecuteTime": {
     "end_time": "2024-05-18T08:46:53.078945Z",
     "start_time": "2024-05-18T08:46:53.056894Z"
    }
   },
   "cell_type": "code",
   "source": "X",
   "id": "b379a45bb67e1b79",
   "outputs": [
    {
     "data": {
      "text/plain": [
       "     pclass   age  sibsp  parch     fare  sex_male  embarked_C  embarked_Q   \n",
       "0         3  22.0      1      0   7.2500       1.0         0.0         0.0  \\\n",
       "1         1  38.0      1      0  71.2833       0.0         1.0         0.0   \n",
       "2         3  26.0      0      0   7.9250       0.0         0.0         0.0   \n",
       "3         1  35.0      1      0  53.1000       0.0         0.0         0.0   \n",
       "4         3  35.0      0      0   8.0500       1.0         0.0         0.0   \n",
       "..      ...   ...    ...    ...      ...       ...         ...         ...   \n",
       "885       3  39.0      0      5  29.1250       0.0         0.0         1.0   \n",
       "886       2  27.0      0      0  13.0000       1.0         0.0         0.0   \n",
       "887       1  19.0      0      0  30.0000       0.0         0.0         0.0   \n",
       "889       1  26.0      0      0  30.0000       1.0         1.0         0.0   \n",
       "890       3  32.0      0      0   7.7500       1.0         0.0         1.0   \n",
       "\n",
       "     embarked_S  who_child  who_man  who_woman  \n",
       "0           1.0        0.0      1.0        0.0  \n",
       "1           0.0        0.0      0.0        1.0  \n",
       "2           1.0        0.0      0.0        1.0  \n",
       "3           1.0        0.0      0.0        1.0  \n",
       "4           1.0        0.0      1.0        0.0  \n",
       "..          ...        ...      ...        ...  \n",
       "885         0.0        0.0      0.0        1.0  \n",
       "886         1.0        0.0      1.0        0.0  \n",
       "887         1.0        0.0      0.0        1.0  \n",
       "889         0.0        0.0      1.0        0.0  \n",
       "890         0.0        0.0      1.0        0.0  \n",
       "\n",
       "[714 rows x 12 columns]"
      ],
      "text/html": [
       "<div>\n",
       "<style scoped>\n",
       "    .dataframe tbody tr th:only-of-type {\n",
       "        vertical-align: middle;\n",
       "    }\n",
       "\n",
       "    .dataframe tbody tr th {\n",
       "        vertical-align: top;\n",
       "    }\n",
       "\n",
       "    .dataframe thead th {\n",
       "        text-align: right;\n",
       "    }\n",
       "</style>\n",
       "<table border=\"1\" class=\"dataframe\">\n",
       "  <thead>\n",
       "    <tr style=\"text-align: right;\">\n",
       "      <th></th>\n",
       "      <th>pclass</th>\n",
       "      <th>age</th>\n",
       "      <th>sibsp</th>\n",
       "      <th>parch</th>\n",
       "      <th>fare</th>\n",
       "      <th>sex_male</th>\n",
       "      <th>embarked_C</th>\n",
       "      <th>embarked_Q</th>\n",
       "      <th>embarked_S</th>\n",
       "      <th>who_child</th>\n",
       "      <th>who_man</th>\n",
       "      <th>who_woman</th>\n",
       "    </tr>\n",
       "  </thead>\n",
       "  <tbody>\n",
       "    <tr>\n",
       "      <th>0</th>\n",
       "      <td>3</td>\n",
       "      <td>22.0</td>\n",
       "      <td>1</td>\n",
       "      <td>0</td>\n",
       "      <td>7.2500</td>\n",
       "      <td>1.0</td>\n",
       "      <td>0.0</td>\n",
       "      <td>0.0</td>\n",
       "      <td>1.0</td>\n",
       "      <td>0.0</td>\n",
       "      <td>1.0</td>\n",
       "      <td>0.0</td>\n",
       "    </tr>\n",
       "    <tr>\n",
       "      <th>1</th>\n",
       "      <td>1</td>\n",
       "      <td>38.0</td>\n",
       "      <td>1</td>\n",
       "      <td>0</td>\n",
       "      <td>71.2833</td>\n",
       "      <td>0.0</td>\n",
       "      <td>1.0</td>\n",
       "      <td>0.0</td>\n",
       "      <td>0.0</td>\n",
       "      <td>0.0</td>\n",
       "      <td>0.0</td>\n",
       "      <td>1.0</td>\n",
       "    </tr>\n",
       "    <tr>\n",
       "      <th>2</th>\n",
       "      <td>3</td>\n",
       "      <td>26.0</td>\n",
       "      <td>0</td>\n",
       "      <td>0</td>\n",
       "      <td>7.9250</td>\n",
       "      <td>0.0</td>\n",
       "      <td>0.0</td>\n",
       "      <td>0.0</td>\n",
       "      <td>1.0</td>\n",
       "      <td>0.0</td>\n",
       "      <td>0.0</td>\n",
       "      <td>1.0</td>\n",
       "    </tr>\n",
       "    <tr>\n",
       "      <th>3</th>\n",
       "      <td>1</td>\n",
       "      <td>35.0</td>\n",
       "      <td>1</td>\n",
       "      <td>0</td>\n",
       "      <td>53.1000</td>\n",
       "      <td>0.0</td>\n",
       "      <td>0.0</td>\n",
       "      <td>0.0</td>\n",
       "      <td>1.0</td>\n",
       "      <td>0.0</td>\n",
       "      <td>0.0</td>\n",
       "      <td>1.0</td>\n",
       "    </tr>\n",
       "    <tr>\n",
       "      <th>4</th>\n",
       "      <td>3</td>\n",
       "      <td>35.0</td>\n",
       "      <td>0</td>\n",
       "      <td>0</td>\n",
       "      <td>8.0500</td>\n",
       "      <td>1.0</td>\n",
       "      <td>0.0</td>\n",
       "      <td>0.0</td>\n",
       "      <td>1.0</td>\n",
       "      <td>0.0</td>\n",
       "      <td>1.0</td>\n",
       "      <td>0.0</td>\n",
       "    </tr>\n",
       "    <tr>\n",
       "      <th>...</th>\n",
       "      <td>...</td>\n",
       "      <td>...</td>\n",
       "      <td>...</td>\n",
       "      <td>...</td>\n",
       "      <td>...</td>\n",
       "      <td>...</td>\n",
       "      <td>...</td>\n",
       "      <td>...</td>\n",
       "      <td>...</td>\n",
       "      <td>...</td>\n",
       "      <td>...</td>\n",
       "      <td>...</td>\n",
       "    </tr>\n",
       "    <tr>\n",
       "      <th>885</th>\n",
       "      <td>3</td>\n",
       "      <td>39.0</td>\n",
       "      <td>0</td>\n",
       "      <td>5</td>\n",
       "      <td>29.1250</td>\n",
       "      <td>0.0</td>\n",
       "      <td>0.0</td>\n",
       "      <td>1.0</td>\n",
       "      <td>0.0</td>\n",
       "      <td>0.0</td>\n",
       "      <td>0.0</td>\n",
       "      <td>1.0</td>\n",
       "    </tr>\n",
       "    <tr>\n",
       "      <th>886</th>\n",
       "      <td>2</td>\n",
       "      <td>27.0</td>\n",
       "      <td>0</td>\n",
       "      <td>0</td>\n",
       "      <td>13.0000</td>\n",
       "      <td>1.0</td>\n",
       "      <td>0.0</td>\n",
       "      <td>0.0</td>\n",
       "      <td>1.0</td>\n",
       "      <td>0.0</td>\n",
       "      <td>1.0</td>\n",
       "      <td>0.0</td>\n",
       "    </tr>\n",
       "    <tr>\n",
       "      <th>887</th>\n",
       "      <td>1</td>\n",
       "      <td>19.0</td>\n",
       "      <td>0</td>\n",
       "      <td>0</td>\n",
       "      <td>30.0000</td>\n",
       "      <td>0.0</td>\n",
       "      <td>0.0</td>\n",
       "      <td>0.0</td>\n",
       "      <td>1.0</td>\n",
       "      <td>0.0</td>\n",
       "      <td>0.0</td>\n",
       "      <td>1.0</td>\n",
       "    </tr>\n",
       "    <tr>\n",
       "      <th>889</th>\n",
       "      <td>1</td>\n",
       "      <td>26.0</td>\n",
       "      <td>0</td>\n",
       "      <td>0</td>\n",
       "      <td>30.0000</td>\n",
       "      <td>1.0</td>\n",
       "      <td>1.0</td>\n",
       "      <td>0.0</td>\n",
       "      <td>0.0</td>\n",
       "      <td>0.0</td>\n",
       "      <td>1.0</td>\n",
       "      <td>0.0</td>\n",
       "    </tr>\n",
       "    <tr>\n",
       "      <th>890</th>\n",
       "      <td>3</td>\n",
       "      <td>32.0</td>\n",
       "      <td>0</td>\n",
       "      <td>0</td>\n",
       "      <td>7.7500</td>\n",
       "      <td>1.0</td>\n",
       "      <td>0.0</td>\n",
       "      <td>1.0</td>\n",
       "      <td>0.0</td>\n",
       "      <td>0.0</td>\n",
       "      <td>1.0</td>\n",
       "      <td>0.0</td>\n",
       "    </tr>\n",
       "  </tbody>\n",
       "</table>\n",
       "<p>714 rows × 12 columns</p>\n",
       "</div>"
      ]
     },
     "execution_count": 320,
     "metadata": {},
     "output_type": "execute_result"
    }
   ],
   "execution_count": 320
  },
  {
   "metadata": {
    "ExecuteTime": {
     "end_time": "2024-05-18T08:47:00.404344Z",
     "start_time": "2024-05-18T08:47:00.382045Z"
    }
   },
   "cell_type": "code",
   "source": "Y",
   "id": "30160e4e4f2c9bfe",
   "outputs": [
    {
     "data": {
      "text/plain": [
       "0      0\n",
       "1      1\n",
       "2      1\n",
       "3      1\n",
       "4      0\n",
       "      ..\n",
       "885    0\n",
       "886    0\n",
       "887    1\n",
       "889    1\n",
       "890    0\n",
       "Name: survived, Length: 714, dtype: int64"
      ]
     },
     "execution_count": 321,
     "metadata": {},
     "output_type": "execute_result"
    }
   ],
   "execution_count": 321
  },
  {
   "metadata": {
    "ExecuteTime": {
     "end_time": "2024-05-18T08:47:52.349522Z",
     "start_time": "2024-05-18T08:47:52.215940Z"
    }
   },
   "cell_type": "code",
   "source": "from sklearn.model_selection import train_test_split",
   "id": "d048cbe71f0d1c9",
   "outputs": [],
   "execution_count": 322
  },
  {
   "metadata": {
    "ExecuteTime": {
     "end_time": "2024-05-18T08:55:06.394601Z",
     "start_time": "2024-05-18T08:55:06.380978Z"
    }
   },
   "cell_type": "code",
   "source": "xtrain, xtest, ytrain, ytest = train_test_split(X, Y, test_size=0.2)",
   "id": "9e5e0ef1246af377",
   "outputs": [],
   "execution_count": 336
  },
  {
   "metadata": {
    "ExecuteTime": {
     "end_time": "2024-05-18T08:55:23.440853Z",
     "start_time": "2024-05-18T08:55:23.432719Z"
    }
   },
   "cell_type": "code",
   "source": [
    "xtrain = torch.tensor(xtrain.values, dtype=torch.float32)\n",
    "xtest = torch.tensor(xtest.values, dtype=torch.float32)\n",
    "ytrain = torch.tensor(ytrain.values, dtype=torch.float32)\n",
    "ytest = torch.tensor(ytest.values, dtype=torch.float32)\n",
    "ytrain = ytrain.reshape(-1, 1)\n",
    "ytest = ytest.reshape(-1, 1)"
   ],
   "id": "397da49570e62331",
   "outputs": [],
   "execution_count": 337
  },
  {
   "metadata": {
    "ExecuteTime": {
     "end_time": "2024-05-18T08:50:28.110868Z",
     "start_time": "2024-05-18T08:50:28.093702Z"
    }
   },
   "cell_type": "code",
   "source": "xtrain.shape",
   "id": "af4d585a171897dc",
   "outputs": [
    {
     "data": {
      "text/plain": [
       "torch.Size([571, 12])"
      ]
     },
     "execution_count": 327,
     "metadata": {},
     "output_type": "execute_result"
    }
   ],
   "execution_count": 327
  },
  {
   "metadata": {
    "ExecuteTime": {
     "end_time": "2024-05-18T08:50:42.963420Z",
     "start_time": "2024-05-18T08:50:42.945779Z"
    }
   },
   "cell_type": "code",
   "source": "ytrain.unique()",
   "id": "4584eed0c14c126",
   "outputs": [
    {
     "data": {
      "text/plain": [
       "tensor([0, 1])"
      ]
     },
     "execution_count": 328,
     "metadata": {},
     "output_type": "execute_result"
    }
   ],
   "execution_count": 328
  },
  {
   "metadata": {
    "ExecuteTime": {
     "end_time": "2024-05-18T08:52:30.425175Z",
     "start_time": "2024-05-18T08:52:30.411664Z"
    }
   },
   "cell_type": "code",
   "source": [
    "class Classifier(nn.Module):\n",
    "    def __init__(self):\n",
    "        super().__init__()\n",
    "        self.fc1 = nn.Linear(12, 128)\n",
    "        self.fc2 = nn.Linear(128, 1)\n",
    "    def forward(self, x):\n",
    "        x = torch.relu(self.fc1(x))\n",
    "        return torch.sigmoid(self.fc2(x))"
   ],
   "id": "90889c8a883cd411",
   "outputs": [],
   "execution_count": 329
  },
  {
   "metadata": {
    "ExecuteTime": {
     "end_time": "2024-05-18T08:52:53.830379Z",
     "start_time": "2024-05-18T08:52:53.816235Z"
    }
   },
   "cell_type": "code",
   "source": "model = Classifier()",
   "id": "c52b0ddafcc3c8d5",
   "outputs": [],
   "execution_count": 330
  },
  {
   "metadata": {
    "ExecuteTime": {
     "end_time": "2024-05-18T08:54:30.677846Z",
     "start_time": "2024-05-18T08:54:30.664323Z"
    }
   },
   "cell_type": "code",
   "source": "",
   "id": "7b3e5be69e5e4f1a",
   "outputs": [],
   "execution_count": 333
  },
  {
   "metadata": {
    "ExecuteTime": {
     "end_time": "2024-05-18T08:54:35.716806Z",
     "start_time": "2024-05-18T08:54:35.696800Z"
    }
   },
   "cell_type": "code",
   "source": "ytrain.shape",
   "id": "fb6ae05b3cd1d2b3",
   "outputs": [
    {
     "data": {
      "text/plain": [
       "torch.Size([571, 1])"
      ]
     },
     "execution_count": 334,
     "metadata": {},
     "output_type": "execute_result"
    }
   ],
   "execution_count": 334
  },
  {
   "metadata": {
    "ExecuteTime": {
     "end_time": "2024-05-18T08:55:39.677213Z",
     "start_time": "2024-05-18T08:55:28.435834Z"
    }
   },
   "cell_type": "code",
   "source": [
    "device = 'cuda' if torch.cuda.is_available() else 'cpu'\n",
    "\n",
    "model = model.to(device)\n",
    "\n",
    "criterion = nn.BCELoss()\n",
    "optimizer = torch.optim.Adam(model.parameters(), lr=0.01)\n",
    "\n",
    "model.train()\n",
    "for epoch in range(5000):\n",
    "    y_ = model(xtrain.to(device))\n",
    "    loss = criterion(y_, ytrain.to(device))\n",
    "    \n",
    "    optimizer.zero_grad()\n",
    "    loss.backward()\n",
    "    optimizer.step()\n",
    "    if epoch % 100 == 0:\n",
    "        print(f'{epoch}: {loss.item()}')"
   ],
   "id": "ac6a8397c74fb70b",
   "outputs": [
    {
     "name": "stdout",
     "output_type": "stream",
     "text": [
      "0: 1.9674535989761353\n",
      "100: 0.40957778692245483\n",
      "200: 0.38515743613243103\n",
      "300: 0.3578585088253021\n",
      "400: 0.3382408916950226\n",
      "500: 0.32195284962654114\n",
      "600: 0.30724281072616577\n",
      "700: 0.2943097949028015\n",
      "800: 0.29280877113342285\n",
      "900: 0.27805888652801514\n",
      "1000: 0.2985757887363434\n",
      "1100: 0.2588392496109009\n",
      "1200: 0.25733980536460876\n",
      "1300: 0.25166189670562744\n",
      "1400: 0.24589169025421143\n",
      "1500: 0.234882652759552\n",
      "1600: 0.2277156412601471\n",
      "1700: 0.22147388756275177\n",
      "1800: 0.22005273401737213\n",
      "1900: 0.21301722526550293\n",
      "2000: 0.21664689481258392\n",
      "2100: 0.20287403464317322\n",
      "2200: 0.6750779747962952\n",
      "2300: 0.20300741493701935\n",
      "2400: 0.19981348514556885\n",
      "2500: 0.19683337211608887\n",
      "2600: 0.19390550255775452\n",
      "2700: 0.1919807493686676\n",
      "2800: 0.18757756054401398\n",
      "2900: 0.1858178824186325\n",
      "3000: 0.18612076342105865\n",
      "3100: 0.17776937782764435\n",
      "3200: 0.18426689505577087\n",
      "3300: 0.17941492795944214\n",
      "3400: 0.1763719767332077\n",
      "3500: 0.17378152906894684\n",
      "3600: 0.17525672912597656\n",
      "3700: 0.17131665349006653\n",
      "3800: 0.16749726235866547\n",
      "3900: 0.16467022895812988\n",
      "4000: 0.16091184318065643\n",
      "4100: 0.16317403316497803\n",
      "4200: 0.16292797029018402\n",
      "4300: 0.15790091454982758\n",
      "4400: 0.15169432759284973\n",
      "4500: 0.1636294722557068\n",
      "4600: 0.15679720044136047\n",
      "4700: 0.15231305360794067\n",
      "4800: 0.1504482924938202\n",
      "4900: 0.14877305924892426\n"
     ]
    }
   ],
   "execution_count": 338
  },
  {
   "metadata": {
    "ExecuteTime": {
     "end_time": "2024-05-18T08:57:11.296741Z",
     "start_time": "2024-05-18T08:57:11.277681Z"
    }
   },
   "cell_type": "code",
   "source": [
    "model.eval()\n",
    "with torch.no_grad():\n",
    "    y_ = model(xtest.to(device))\n",
    "acc = torch.sum(ytest == y_.round().cpu()) / len(y_)\n",
    "print(acc.item())"
   ],
   "id": "a3af4cbaecf0c8ea",
   "outputs": [
    {
     "name": "stdout",
     "output_type": "stream",
     "text": [
      "0.7832167744636536\n"
     ]
    }
   ],
   "execution_count": 342
  },
  {
   "metadata": {},
   "cell_type": "code",
   "outputs": [],
   "execution_count": null,
   "source": "",
   "id": "f40c4ac125412daf"
  }
 ],
 "metadata": {
  "kernelspec": {
   "display_name": "Python 3",
   "language": "python",
   "name": "python3"
  },
  "language_info": {
   "codemirror_mode": {
    "name": "ipython",
    "version": 2
   },
   "file_extension": ".py",
   "mimetype": "text/x-python",
   "name": "python",
   "nbconvert_exporter": "python",
   "pygments_lexer": "ipython2",
   "version": "2.7.6"
  }
 },
 "nbformat": 4,
 "nbformat_minor": 5
}
